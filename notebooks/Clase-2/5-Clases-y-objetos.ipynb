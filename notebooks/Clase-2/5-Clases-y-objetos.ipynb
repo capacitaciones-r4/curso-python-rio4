{
 "cells": [
  {
   "cell_type": "markdown",
   "metadata": {},
   "source": [
    "# Clases y objetos"
   ]
  },
  {
   "cell_type": "code",
   "execution_count": null,
   "metadata": {},
   "outputs": [],
   "source": []
  },
  {
   "cell_type": "markdown",
   "metadata": {},
   "source": [
    "## Clases"
   ]
  },
  {
   "cell_type": "code",
   "execution_count": null,
   "metadata": {},
   "outputs": [],
   "source": []
  },
  {
   "cell_type": "markdown",
   "metadata": {},
   "source": [
    "## Objetos"
   ]
  },
  {
   "cell_type": "code",
   "execution_count": null,
   "metadata": {},
   "outputs": [],
   "source": []
  },
  {
   "cell_type": "markdown",
   "metadata": {},
   "source": [
    "Para entender la importancia de reusar código, y retomando lo abordado en `funciones`, `clases` y `objetos`, Se crea una función denominada `calculo_raices_cuadratica`:"
   ]
  },
  {
   "cell_type": "code",
   "execution_count": null,
   "metadata": {},
   "outputs": [],
   "source": [
    "def calculo_raices(a, b=0, c=0):\n",
    "    \"\"\"\n",
    "    dados los coeficientes de una cuadrática,\n",
    "    calcula los valores de x tal que \n",
    "    ax^2 + bx + c = 0\n",
    "    \"\"\"\n",
    "\n",
    "    discriminante = ( b ** 2 - 4 * a * c) ** 0.5\n",
    "    x1 = (-b + discriminante) / (2 * a)\n",
    "    x2 = (-b - discriminante) / (2 * a)\n",
    "    return (x1, x2)"
   ]
  },
  {
   "cell_type": "markdown",
   "metadata": {},
   "source": [
    "Dicha porción de código puede ser *reutilizada* muchas veces en uno o más programas, se almacena en un archivo de extensión `.py` a modo de `módulo` o `biblioteca`, que puede ser instanciada desde cualquier script de Python."
   ]
  },
  {
   "cell_type": "code",
   "execution_count": null,
   "metadata": {},
   "outputs": [],
   "source": [
    "%%writefile cuadratica.py\n",
    "\n",
    "def calculo_raices(a, b=0, c=0):\n",
    "    \"\"\"\n",
    "    dados los coeficientes de una cuadrática,\n",
    "    calcula los valores de x tal que \n",
    "    ax^2 + bx + c = 0\n",
    "    \"\"\"\n",
    "\n",
    "    discriminante = ( b ** 2 - 4 * a * c) ** 0.5\n",
    "    x1 = (-b + discriminante) / (2 * a)\n",
    "    x2 = (-b - discriminante) / (2 * a)\n",
    "    return (x1, x2)"
   ]
  },
  {
   "cell_type": "markdown",
   "metadata": {},
   "source": [
    "*Ir a notebook 5.1*"
   ]
  },
  {
   "cell_type": "code",
   "execution_count": null,
   "metadata": {},
   "outputs": [],
   "source": []
  },
  {
   "cell_type": "code",
   "execution_count": null,
   "metadata": {},
   "outputs": [],
   "source": []
  }
 ],
 "metadata": {
  "kernelspec": {
   "display_name": "Python 3",
   "language": "python",
   "name": "python3"
  },
  "language_info": {
   "codemirror_mode": {
    "name": "ipython",
    "version": 3
   },
   "file_extension": ".py",
   "mimetype": "text/x-python",
   "name": "python",
   "nbconvert_exporter": "python",
   "pygments_lexer": "ipython3",
   "version": "3.7.3"
  }
 },
 "nbformat": 4,
 "nbformat_minor": 2
}
