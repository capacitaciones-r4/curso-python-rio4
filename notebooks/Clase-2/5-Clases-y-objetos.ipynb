{
 "cells": [
  {
   "cell_type": "markdown",
   "metadata": {},
   "source": [
    "# Clases y objetos"
   ]
  },
  {
   "cell_type": "markdown",
   "metadata": {},
   "source": [
    "## Programación Orientada a Objetos"
   ]
  },
  {
   "cell_type": "markdown",
   "metadata": {},
   "source": [
    "Es una paradigma de programación que utiliza ___objetos___ en sus interacciones. Un objeto es una unidad dentro de un programa que consta de un estado y de un comportamiento.\n",
    "\n",
    "Algunas de las ventajas que aporta este paradigma son:\n",
    "\n",
    "* Fomenta la reutilización y extensión del código.\n",
    "* Permite crear sistemas más complejos.\n",
    "* Relacionar el sistema al mundo real.\n",
    "* Facilita la creación de programas visuales.\n",
    "* Agiliza el desarrollo de software\n",
    "* Facilita el trabajo en equipo\n",
    "* Facilita el mantenimiento del software"
   ]
  },
  {
   "cell_type": "markdown",
   "metadata": {},
   "source": [
    "### Estado, comportamiento e identidad"
   ]
  },
  {
   "cell_type": "markdown",
   "metadata": {},
   "source": [
    "![](https://github.com/hburi/Mis_imagenes/blob/master/Estado_comportamiento_identidad.png?raw=true)"
   ]
  },
  {
   "cell_type": "markdown",
   "metadata": {},
   "source": [
    "El __estado__ de un objeto está definido por sus __atributos__, a los que se habrán asignado unos valores concretos. "
   ]
  },
  {
   "cell_type": "markdown",
   "metadata": {},
   "source": [
    "![](https://github.com/hburi/Mis_imagenes/blob/master/Estado.png?raw=true)"
   ]
  },
  {
   "cell_type": "markdown",
   "metadata": {},
   "source": [
    "El __comportamiento__ de un objeto está definido por los métodos a los que sabe responder un objeto, es decir, a las operaciones que se pueden realizar con el."
   ]
  },
  {
   "cell_type": "markdown",
   "metadata": {},
   "source": [
    "![](https://github.com/hburi/Mis_imagenes/blob/master/Comportamiento.png?raw=true)"
   ]
  },
  {
   "cell_type": "markdown",
   "metadata": {},
   "source": [
    "La __identidad__ de un objeto es una propiedad del mismo que lo diferencia del resto."
   ]
  },
  {
   "cell_type": "markdown",
   "metadata": {},
   "source": [
    "![](https://github.com/hburi/Mis_imagenes/blob/master/Identidad.png?raw=true)"
   ]
  },
  {
   "cell_type": "markdown",
   "metadata": {},
   "source": [
    "Los métodos (comportamientos) y atributos (estado) están estrechamente relacionados con el concepto de clase. _Una clase hace uso de métodos para poder tratar los atributos con los que cuenta_."
   ]
  },
  {
   "cell_type": "markdown",
   "metadata": {},
   "source": [
    "## Clases"
   ]
  },
  {
   "cell_type": "markdown",
   "metadata": {},
   "source": [
    "Una clase es la __definición__ de las propiedades y comportamiento de un __tipo concreto de objeto__."
   ]
  },
  {
   "cell_type": "markdown",
   "metadata": {},
   "source": [
    "<img src=\"https://github.com/hburi/Mis_imagenes/blob/master/clase.png?raw=true\" width=\"400\"/>"
   ]
  },
  {
   "cell_type": "markdown",
   "metadata": {},
   "source": [
    "La __instanciación__ de una clase es la creación de un objeto concreto a partir de las definiciones de una clase."
   ]
  },
  {
   "cell_type": "markdown",
   "metadata": {},
   "source": [
    "![](https://github.com/hburi/Mis_imagenes/blob/master/instanciaci%C3%B3n.png?raw=true)"
   ]
  },
  {
   "cell_type": "markdown",
   "metadata": {},
   "source": [
    "Los objetos interactúan entre sí mediante los métodos que poseen o a los que son sensibles."
   ]
  },
  {
   "cell_type": "markdown",
   "metadata": {},
   "source": [
    "<img src=\"https://github.com/hburi/Mis_imagenes/blob/master/cambio.gif?raw=true\" width=\"750\"/>"
   ]
  },
  {
   "cell_type": "markdown",
   "metadata": {},
   "source": [
    "![](https://github.com/hburi/Mis_imagenes/blob/master/cabeza.gif?raw=true)"
   ]
  },
  {
   "cell_type": "markdown",
   "metadata": {},
   "source": [
    "## Algunas características de la programación orientada a objetos"
   ]
  },
  {
   "cell_type": "markdown",
   "metadata": {},
   "source": [
    "* __Abstracción__: Consiste en __enfatizar el comportamiento__ de un objeto, dejando de lado su funcionamiento interno"
   ]
  },
  {
   "cell_type": "markdown",
   "metadata": {},
   "source": [
    "![](https://github.com/hburi/Mis_imagenes/blob/master/abstracci%C3%B3n.gif?raw=true)"
   ]
  },
  {
   "cell_type": "markdown",
   "metadata": {},
   "source": [
    "* __Modularidad__: A grandes rasgos, consiste en separar un código en segmentos menores, o módulos, a fin de simplificar el desarrollo del programa."
   ]
  },
  {
   "cell_type": "markdown",
   "metadata": {},
   "source": [
    "<img src=\"https://github.com/hburi/Mis_imagenes/blob/master/modularidad.gif?raw=true\" width=\"900\"/>"
   ]
  },
  {
   "cell_type": "markdown",
   "metadata": {},
   "source": [
    "La __abstracción__ y la __modularidad__ hacen posible __importar módulos__ de un archivo a otro, esto aporta __simplicidad__ y permite __reciclar código__. "
   ]
  },
  {
   "cell_type": "markdown",
   "metadata": {},
   "source": [
    "<img src=\"https://github.com/hburi/Mis_imagenes/blob/master/reciclar.png?raw=true\" width=\"400\"/>"
   ]
  },
  {
   "cell_type": "markdown",
   "metadata": {},
   "source": [
    "## Creando clases y objetos a partir de ellas"
   ]
  },
  {
   "cell_type": "markdown",
   "metadata": {},
   "source": [
    "Para dar origen a una nueva clase en Python se hace uso de la palabra reservada __class__, en una estructura como esta:\n",
    "\n",
    "```python\n",
    "\n",
    "class nueva_clase(object):\n",
    "    \n",
    "    \"\"\"DoscString para describir la clase \"\"\"\n",
    "    \n",
    "    def __init__(self,atributo_1,atributo_2):\n",
    "        self.atributo_1 = atributo_1\n",
    "        self.atributo_2 = atributo_2\n",
    "        \n",
    "    def metodo_1(self):\n",
    "        #Instrucciones del método \n",
    "    def metodo_1(self, parámetro_1, parámetro_2):\n",
    "        #Instrucciones del método \n",
    "\n",
    "```\n",
    "\n",
    "Lo anterior __no crea un objeto nuevo__, solamente describe una abstracción para futuros objetos que podrían ser creados a partir de esta clase.\n",
    "\n",
    "```python\n",
    "\n",
    "objeto_basado_nueva_clase = nueva_clase(atributo_1, atributo_2)\n",
    "\n",
    "```\n",
    "\n",
    "&nbsp;\n",
    "\n",
    "&nbsp;\n",
    "\n",
    "&nbsp;\n",
    "  \n",
    "    \n",
    "      \n",
    "        \n",
    "        "
   ]
  },
  {
   "cell_type": "markdown",
   "metadata": {},
   "source": [
    "__EJEMPLO 0__: Crear la clase \"lapicera\" que almacene un color y un grozor de trazo. _Instanciarla_. "
   ]
  },
  {
   "cell_type": "code",
   "execution_count": null,
   "metadata": {},
   "outputs": [],
   "source": [
    "class lapicera(object):\n",
    "    \"Abstracción del objeto lapicera\"\n",
    "    color = 'Rojo'\n",
    "    trazo = 'Fino'"
   ]
  },
  {
   "cell_type": "code",
   "execution_count": null,
   "metadata": {},
   "outputs": [],
   "source": [
    "bic = lapicera"
   ]
  },
  {
   "cell_type": "code",
   "execution_count": null,
   "metadata": {},
   "outputs": [],
   "source": [
    "bic.color, bic.trazo"
   ]
  },
  {
   "cell_type": "code",
   "execution_count": null,
   "metadata": {},
   "outputs": [],
   "source": []
  },
  {
   "cell_type": "markdown",
   "metadata": {},
   "source": [
    "__EJEMPLO 1__: Repetir el Ejemplo 0, pero permitiendo definir un color y trazo en particular"
   ]
  },
  {
   "cell_type": "code",
   "execution_count": null,
   "metadata": {},
   "outputs": [],
   "source": [
    "class lapicera(object):\n",
    "    def __init__(self,color,trazo):\n",
    "        self.color = color\n",
    "        self.trazo = trazo"
   ]
  },
  {
   "cell_type": "code",
   "execution_count": null,
   "metadata": {},
   "outputs": [],
   "source": [
    "otra_lapicera = lapicera('verde','grueso')"
   ]
  },
  {
   "cell_type": "code",
   "execution_count": null,
   "metadata": {},
   "outputs": [],
   "source": [
    "otra_lapicera.color"
   ]
  },
  {
   "cell_type": "markdown",
   "metadata": {},
   "source": [
    "__EJEMPLO 2__: Modelado e instanciación de la clase \"robot\", la misma posee los atributos __cabeza__ y __brazos__, además de tres métodos que permiten ver los atributos anteriores y camciarlos. "
   ]
  },
  {
   "cell_type": "code",
   "execution_count": null,
   "metadata": {},
   "outputs": [],
   "source": [
    "class robot(object):\n",
    "    \n",
    "    \"\"\"Abstracción del objeto robot\"\"\"\n",
    "    \n",
    "    def __init__(self,cabeza,brazos):\n",
    "        self.cabeza = cabeza\n",
    "        self.brazos = brazos\n",
    "        \n",
    "    def ver_cabeza(self):\n",
    "        print(self.cabeza)\n",
    "    def ver_brazos(self):\n",
    "        print('Los brazos del robot son del tipo ',self.brazos)\n",
    "\n",
    "        \n",
    "    def cambiar_cabeza_brazos(self,nueva_cabeza,nuevos_brazos):\n",
    "        self.cabeza = nueva_cabeza\n",
    "        self.brazos = nuevos_brazos        "
   ]
  },
  {
   "cell_type": "code",
   "execution_count": null,
   "metadata": {},
   "outputs": [],
   "source": [
    "r2d2 = robot('redonda','ausentes')"
   ]
  },
  {
   "cell_type": "code",
   "execution_count": null,
   "metadata": {},
   "outputs": [],
   "source": [
    "r2d2.cambiar_cabeza_brazos('cuadrada','largos')"
   ]
  },
  {
   "cell_type": "code",
   "execution_count": null,
   "metadata": {},
   "outputs": [],
   "source": [
    "r2d2.cabeza"
   ]
  },
  {
   "cell_type": "markdown",
   "metadata": {},
   "source": [
    "__EJERCICIO 1__: Crear una clase \"perro\", con los atributos __color__, __tamaño__ y __edad__, además de dos métodos:\n",
    "\n",
    "__envejecer__: pide un entero como entrada y agrega ese número a la edad actual  \n",
    "__vida__: no pide entradas, pero __devuelve__ los strings 'vivo' o 'muerto', si el perro es menor o mayor de 20 años, respectivamente.\n",
    "\n",
    "Realizar además varias instancias del objeto.\n",
    "\n",
    "&nbsp;\n",
    "\n",
    "&nbsp;\n",
    "\n",
    "&nbsp;"
   ]
  },
  {
   "cell_type": "markdown",
   "metadata": {},
   "source": [
    "## Herencia"
   ]
  },
  {
   "cell_type": "markdown",
   "metadata": {},
   "source": [
    "En algunas situaciones puede resultar útil crear una clase basándose en otra, de la que heredaría sus métodos. Esto se logra simplemente pasando el nombre de la clase base al crear la nueva clase:\n",
    "\n",
    "```python\n",
    "\n",
    "class(nueva_clase(clase_base))\n",
    "\n",
    "```"
   ]
  },
  {
   "cell_type": "markdown",
   "metadata": {},
   "source": [
    "__EJEMPLO 3__: Crear la clase __vehiculo__ que tenga los atributos __marca__ y __color__. Luego crear las clases __moto__ y __auto__ (con nuevos atributos).\n",
    "\n",
    "&nbsp;\n",
    "\n",
    "&nbsp;"
   ]
  },
  {
   "cell_type": "code",
   "execution_count": null,
   "metadata": {},
   "outputs": [],
   "source": [
    "class vehiculo(object):\n",
    "    \n",
    "    \"\"\" Abstración del objeto vehiculo\"\"\"\n",
    "    \n",
    "    def __init__(self, marca, color):\n",
    "        self.marca = marca\n",
    "        self.color = color\n",
    "    def info(self):\n",
    "        print(self.marca,self.color)"
   ]
  },
  {
   "cell_type": "code",
   "execution_count": null,
   "metadata": {},
   "outputs": [],
   "source": [
    "class moto(vehiculo):\n",
    "    \n",
    "    \"\"\" Abstracción del objeto moto \"\"\"\n",
    "    \n",
    "    def __init__(self, marca,color,sidecar, casco):\n",
    "        self.marca = marca\n",
    "        self.color = color\n",
    "        self.sidecar = sidecar\n",
    "        self.casco = casco\n",
    "        "
   ]
  },
  {
   "cell_type": "code",
   "execution_count": null,
   "metadata": {},
   "outputs": [],
   "source": [
    "class auto(vehiculo):\n",
    "    \n",
    "    \"\"\" Abstracción del objeto auto \"\"\"\n",
    "    \n",
    "    def __init__(self, marca, color, puertas, capota):\n",
    "        self.marca = marca\n",
    "        self.color = color\n",
    "        self.puertas = puertas\n",
    "        self.capota = capota"
   ]
  },
  {
   "cell_type": "markdown",
   "metadata": {},
   "source": [
    "## Herencia Múltiple"
   ]
  },
  {
   "cell_type": "markdown",
   "metadata": {},
   "source": [
    "Es posible heredar métodos de más de una clase, simplemente agregando una clase nueva en la definición.\n",
    "\n",
    "\n",
    "```python\n",
    "\n",
    "class(nueva_clase(clase_base_1, clase_base_2))\n",
    "\n",
    "```\n",
    "\n",
    "\n",
    "\n",
    "&nbsp;\n",
    "\n",
    "&nbsp;"
   ]
  },
  {
   "cell_type": "markdown",
   "metadata": {},
   "source": [
    "__EJERCICIO 2__:\n",
    "* Definir una clase __patrimonio__ que almacene la fecha de compra de un bien, su valor, y permita modificar este último.\n",
    "* Definir una clase __vehiculo_empresarial__ que comparta los atributos y métodos de __vehiculo__ y __patrimonio__, además de uno nuevo indicando el kilometraje. Además debe poseer dos métodos: uno que muestre el kilometraje, y otro que permita incrementar el mismo en un número pasado como argumento."
   ]
  },
  {
   "cell_type": "markdown",
   "metadata": {},
   "source": [
    "__EJERCICIO 3__ _(tarea)_:  Definir una clase que pida tres parámetros: \n",
    "        * Un número o caracter.\n",
    "        * Un segundo número o caracter.\n",
    "        * Una operación a realizar entre los dos anteriores.\n",
    "\n",
    "Las operaciones permitidas son suma ('+') y multiplicación ('*'). El objeto instanciado debe realizar la operación que se le solicite (si es posible) mediante un método apropiado, y almacenar el resultado. Si la operación no es posible, debido al tipo de parámetros de entrada, debe exhibirse un mensaje de error advirtiendo lo sucedido.\n",
    "        "
   ]
  }
 ],
 "metadata": {
  "kernelspec": {
   "display_name": "Python 3",
   "language": "python",
   "name": "python3"
  },
  "language_info": {
   "codemirror_mode": {
    "name": "ipython",
    "version": 3
   },
   "file_extension": ".py",
   "mimetype": "text/x-python",
   "name": "python",
   "nbconvert_exporter": "python",
   "pygments_lexer": "ipython3",
   "version": "3.7.1"
  }
 },
 "nbformat": 4,
 "nbformat_minor": 2
}
