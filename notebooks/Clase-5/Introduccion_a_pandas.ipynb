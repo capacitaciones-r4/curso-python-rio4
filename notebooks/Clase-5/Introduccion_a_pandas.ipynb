{
 "cells": [
  {
   "cell_type": "markdown",
   "metadata": {},
   "source": [
    "# Introducción a la manipulación de datos con pandas\n",
    "\n",
    "![](https://pandas.pydata.org/_static/pandas_logo.png)\n",
    "\n",
    "[Pandas](https://pandas.pydata.org/) es una biblioteca que provee herramientas para trabajar con `estructuras de datos`, `análisis de datos`, con alto rendimiento, pero fácil de usar.\n",
    "\n",
    "* Permite leer y escrbir archivos.\n",
    "* Organizar, realizar operaciones, seccionar, modificar datos de manera eficiente.\n",
    "* Mostrarlos de forma amigable.\n",
    "* Con fines académicos y comerciales, en financias, neurociencia, economía, estadística, publicidad, análisis web, etc.\n"
   ]
  },
  {
   "cell_type": "markdown",
   "metadata": {},
   "source": [
    "Este material se inspira en el tutorial de [**Ariel Rossanigo**](https://twitter.com/arielrossanigo) en PyData San Luis. [Github Ariel](https://github.com/arielrossanigo)"
   ]
  },
  {
   "cell_type": "markdown",
   "metadata": {
    "slideshow": {
     "slide_type": "slide"
    }
   },
   "source": [
    "## Temario\n",
    "\n",
    "* Series y Dataframes\n",
    "* Lectura de datos\n",
    "* Indexado\n",
    "* Operaciones\n",
    "* Merge\n",
    "* Group\n",
    "* Plots\n",
    "* Tips and tricks"
   ]
  },
  {
   "cell_type": "markdown",
   "metadata": {
    "slideshow": {
     "slide_type": "slide"
    }
   },
   "source": [
    "### Breve repaso de Numpy\n",
    "\n",
    "* Arrays multidimensionales implementados de forma eficiente\n",
    "* Base para muchos de los paquetes científicos en Python\n"
   ]
  },
  {
   "cell_type": "markdown",
   "metadata": {
    "slideshow": {
     "slide_type": "slide"
    }
   },
   "source": [
    "**Ejecutar la siguiente celda**"
   ]
  },
  {
   "cell_type": "code",
   "execution_count": null,
   "metadata": {},
   "outputs": [],
   "source": [
    "! conda install -y matplotlib pandas"
   ]
  },
  {
   "cell_type": "code",
   "execution_count": null,
   "metadata": {
    "slideshow": {
     "slide_type": "-"
    }
   },
   "outputs": [],
   "source": [
    "%matplotlib inline\n",
    "import pandas as pd\n",
    "import numpy as np\n",
    "import matplotlib.pyplot as plt\n",
    "\n",
    "print(\"Funciona!\")"
   ]
  },
  {
   "cell_type": "markdown",
   "metadata": {
    "slideshow": {
     "slide_type": "slide"
    }
   },
   "source": [
    "### Estructuras básicas\n",
    "\n",
    "* **Serie**: Array unidimensional indexado y etiquetado."
   ]
  },
  {
   "cell_type": "code",
   "execution_count": null,
   "metadata": {},
   "outputs": [],
   "source": [
    "nombres = pd.Series(['john', 'paul', 'george', 'ringo']) # array indexado\n",
    "nombres"
   ]
  },
  {
   "cell_type": "markdown",
   "metadata": {
    "slideshow": {
     "slide_type": "fragment"
    }
   },
   "source": [
    "* **Dataframe**: Array bidimensional etiquetado con datos estructurados en columnas de potencialmente diferentes tipos.\n",
    "\n",
    "![](https://storage.googleapis.com/lds-media/images/series-and-dataframe.width-1200.png)\n",
    "*Extraído de [Python Pandas tutorial](https://www.learndatasci.com/tutorials/python-pandas-tutorial-complete-introduction-for-beginners/)*\n",
    "\n",
    "*Estructura de datos cuyas columnas se componen por series*"
   ]
  },
  {
   "cell_type": "code",
   "execution_count": null,
   "metadata": {
    "slideshow": {
     "slide_type": "-"
    }
   },
   "outputs": [],
   "source": [
    "beatles = pd.DataFrame({    \n",
    "    'nombre': nombres, # Columna formada por la serie definida antes\n",
    "    'nacimiento': [1940, 1942, 1943, 1940] # Nueva columna\n",
    "})\n",
    "beatles"
   ]
  },
  {
   "cell_type": "markdown",
   "metadata": {
    "slideshow": {
     "slide_type": "slide"
    }
   },
   "source": [
    "**EJERCICIO 0**: Crear un Dataframe como el anterior pero con 2 columnas extras:\n",
    "\n",
    "* instrumento: en orden serían ('guitarra', 'bajo', 'guitarra', 'bateria')\n",
    "* permanencia: (9, 10, 10, 8)"
   ]
  },
  {
   "cell_type": "code",
   "execution_count": null,
   "metadata": {},
   "outputs": [],
   "source": []
  },
  {
   "cell_type": "markdown",
   "metadata": {
    "slideshow": {
     "slide_type": "slide"
    }
   },
   "source": [
    "### Leyendo datos\n",
    "\n",
    "**Pandas** viene preparado para interactuar con varios formatos de datos, entre ellos **CSV, Excel, HDF5, pickle, SQL** y varios más. Algunos de los parámetros más usados de `read_csv`:\n",
    "\n",
    "**read_csv(argumentos)**:\n",
    "\n",
    "* filepath_or_buffer: ruta al archivo (string).\n",
    "* usecols: columnas a leer.\n",
    "* parse_dates: columnas a parsear como fechas.\n",
    "* dtype: tipos de datos de las columnas.\n",
    "* na_values: valores que son considerados \"NA\".\n",
    "\n",
    "[Documentación read_csv](https://pandas.pydata.org/pandas-docs/stable/generated/pandas.read_csv.html#pandas.read_csv)"
   ]
  },
  {
   "cell_type": "markdown",
   "metadata": {
    "slideshow": {
     "slide_type": "slide"
    }
   },
   "source": [
    "Vamos a trabajar con datos expuestos por Organismos del Gobierno de la República Argentina, más precisamente por el Ministerio de Ciencia y Tecnología.\n",
    "\n",
    "Vamos a usar 2 datasets:\n",
    "\n",
    "* Proyectos de ciencia, tecnología e innovación\n",
    "* Empresas de ejecución de proyectos de ciencia, tecnología e innovación"
   ]
  },
  {
   "cell_type": "code",
   "execution_count": null,
   "metadata": {
    "slideshow": {
     "slide_type": "fragment"
    }
   },
   "outputs": [],
   "source": [
    "proyectos = pd.read_csv('proyectos.csv')\n",
    "proyectos.head(10)"
   ]
  },
  {
   "cell_type": "code",
   "execution_count": null,
   "metadata": {
    "slideshow": {
     "slide_type": "slide"
    }
   },
   "outputs": [],
   "source": [
    "# Un poco de detalle\n",
    "proyectos.info()"
   ]
  },
  {
   "cell_type": "markdown",
   "metadata": {
    "slideshow": {
     "slide_type": "slide"
    }
   },
   "source": [
    "**EJERCICIO 1**: Leer nuevamente el csv, pero:\n",
    "\n",
    " * recuperar solamente las columnas: 'proyecto_id', 'fecha_inicio', 'provincia_de_ejecución', 'monto_financiado', 'monto_total', 'gran_area_conocimiento', 'tipo_organizacion_ejec'\n",
    " * la columna ``fecha_inicio`` debe ser parseada como date (formato de fecha)."
   ]
  },
  {
   "cell_type": "code",
   "execution_count": null,
   "metadata": {},
   "outputs": [],
   "source": []
  },
  {
   "cell_type": "markdown",
   "metadata": {
    "slideshow": {
     "slide_type": "slide"
    }
   },
   "source": [
    "### Filtrado de datos\n",
    "\n",
    "* Por etiqueta: **loc**\n",
    "* Por posición: **iloc**\n",
    "* Indexado condicional: *a la numpy*"
   ]
  },
  {
   "cell_type": "code",
   "execution_count": null,
   "metadata": {},
   "outputs": [],
   "source": [
    "proyectos.loc[1:3, 'fecha_inicio':'monto_total'] \n",
    "# Filas 1 a 3 inclusive, desde columnas fecha inicio hasta monto total"
   ]
  },
  {
   "cell_type": "code",
   "execution_count": null,
   "metadata": {},
   "outputs": [],
   "source": [
    "proyectos.iloc[1:3, 0:3]\n",
    "# Filas 1 a 3 inclusive, columnas 0 a 2 "
   ]
  },
  {
   "cell_type": "code",
   "execution_count": null,
   "metadata": {},
   "outputs": [],
   "source": [
    "proyectos = pd.read_csv('proyectos.csv', parse_dates=['fecha_inicio'])"
   ]
  },
  {
   "cell_type": "code",
   "execution_count": null,
   "metadata": {},
   "outputs": [],
   "source": [
    "proyectos[(proyectos['provincia_de_ejecución'] == 'San Luis') &\n",
    "          (proyectos.fecha_inicio.dt.year == 2016)]\n",
    "# Datos del dataframe proyectos donde se cumpla que\n",
    "# 'provincia_de_ejecucion' es 'San Luis'\n",
    "# Y\n",
    "# año de fecha de inicio es 2016"
   ]
  },
  {
   "cell_type": "markdown",
   "metadata": {
    "slideshow": {
     "slide_type": "slide"
    }
   },
   "source": [
    "**EJERCICIO 2**: Mostrar los proyectos de CABA, que se hayan financiado con más de 1MM de pesos."
   ]
  },
  {
   "cell_type": "code",
   "execution_count": null,
   "metadata": {},
   "outputs": [],
   "source": []
  },
  {
   "cell_type": "markdown",
   "metadata": {
    "slideshow": {
     "slide_type": "slide"
    }
   },
   "source": [
    "### Agregado de columnas, operaciones básicas"
   ]
  },
  {
   "cell_type": "code",
   "execution_count": null,
   "metadata": {},
   "outputs": [],
   "source": [
    "# la forma más simple, con operaciones entre series\n",
    "proyectos['porcentaje_financiado'] = proyectos.monto_financiado / proyectos.monto_total\n",
    "proyectos.head(10)"
   ]
  },
  {
   "cell_type": "markdown",
   "metadata": {},
   "source": [
    "* **np.where**: `np.where`(condición, valor_para_true, valor_para_false)"
   ]
  },
  {
   "cell_type": "code",
   "execution_count": null,
   "metadata": {},
   "outputs": [],
   "source": [
    "# valor condicional\n",
    "proyectos['financia_mas_80_por_ciento'] = np.where(proyectos.porcentaje_financiado > 0.8, 'Si', 'No')\n",
    "proyectos.head(15)"
   ]
  },
  {
   "cell_type": "markdown",
   "metadata": {
    "slideshow": {
     "slide_type": "slide"
    }
   },
   "source": [
    "### Estadística\n",
    "\n",
    "* `mean()`: calcula el valor medio.\n",
    "* `std()`: calcula la desviación."
   ]
  },
  {
   "cell_type": "code",
   "execution_count": null,
   "metadata": {},
   "outputs": [],
   "source": [
    "print(\"Monto de proyecto. Promedio: {:,.2f} $. Desvio: {:,.2f} $\".format(\n",
    "    proyectos.monto_total.mean(),\n",
    "    proyectos.monto_total.std()\n",
    "))"
   ]
  },
  {
   "cell_type": "markdown",
   "metadata": {},
   "source": [
    "* `describe()`: Proporciona información estadística completa para todo el dataframe"
   ]
  },
  {
   "cell_type": "code",
   "execution_count": null,
   "metadata": {},
   "outputs": [],
   "source": [
    "s = pd.Series([1, 2, 3])\n",
    "s.describe()"
   ]
  },
  {
   "cell_type": "code",
   "execution_count": null,
   "metadata": {},
   "outputs": [],
   "source": [
    "proyectos.describe(include='all')"
   ]
  },
  {
   "cell_type": "markdown",
   "metadata": {},
   "source": [
    "* **value_counts()**: retorna cuántos valores cumplen algún criterio."
   ]
  },
  {
   "cell_type": "code",
   "execution_count": null,
   "metadata": {
    "slideshow": {
     "slide_type": "slide"
    }
   },
   "outputs": [],
   "source": [
    "# ¿Cuántos proyectos por provincia?\n",
    "proyectos.provincia_de_ejecución.value_counts().head(5)"
   ]
  },
  {
   "cell_type": "markdown",
   "metadata": {},
   "source": [
    "* **pd.cut**: clasifica datos según criterio."
   ]
  },
  {
   "cell_type": "code",
   "execution_count": null,
   "metadata": {
    "slideshow": {
     "slide_type": "slide"
    }
   },
   "outputs": [],
   "source": [
    "# bins de montos de proyecto (rangos fijos)\n",
    "bins = [0, 1e6, 2e7, 1e20]\n",
    "# 0 - 1_000_000 barato\n",
    "# 1_000_000 - 20_000_000 normal\n",
    "# 20_000_000 - 100_000_000_000_000_000_000 caro\n",
    "names = ['Barato', 'Normal', 'Caro']\n",
    "\n",
    "proyectos['costo'] = pd.cut(proyectos.monto_total, bins, labels=names)\n",
    "proyectos.costo.value_counts()"
   ]
  },
  {
   "cell_type": "code",
   "execution_count": null,
   "metadata": {
    "slideshow": {
     "slide_type": "fragment"
    }
   },
   "outputs": [],
   "source": [
    "bins = [0, .33, .66, 1]\n",
    "proyectos['costo'] = pd.qcut(proyectos.monto_total, bins, labels=names)\n",
    "proyectos.costo.value_counts()"
   ]
  },
  {
   "cell_type": "markdown",
   "metadata": {
    "slideshow": {
     "slide_type": "slide"
    }
   },
   "source": [
    "### Aplicando funciones\n",
    "\n",
    "* `lambda x: funcion de x`: retorna en procesamiento de x."
   ]
  },
  {
   "cell_type": "code",
   "execution_count": null,
   "metadata": {},
   "outputs": [],
   "source": [
    "proyectos.monto_total.apply(lambda x: '{:,.2f} $'.format(x)).head(3)"
   ]
  },
  {
   "cell_type": "code",
   "execution_count": null,
   "metadata": {},
   "outputs": [],
   "source": [
    "proyectos.apply(lambda x: x.monto_total - x.monto_financiado, axis='columns').head(3)"
   ]
  },
  {
   "cell_type": "markdown",
   "metadata": {
    "slideshow": {
     "slide_type": "slide"
    }
   },
   "source": [
    "### Funciones con strings\n",
    "\n",
    "Hay un atributo *str* para tal fin"
   ]
  },
  {
   "cell_type": "code",
   "execution_count": null,
   "metadata": {
    "scrolled": true
   },
   "outputs": [],
   "source": [
    "# pasar a minúsculas\n",
    "proyectos.tipo_organizacion_ejec.str.lower().head(3)\n",
    "\n",
    "# contiene universidad o ciencia\n",
    "ix = proyectos.tipo_organizacion_ejec.str.contains('universidad|ciencia', case=False)\n",
    "proyectos[ix].tipo_organizacion_ejec.unique()"
   ]
  },
  {
   "cell_type": "markdown",
   "metadata": {
    "slideshow": {
     "slide_type": "slide"
    }
   },
   "source": [
    "### Algunos métodos útiles\n",
    "\n",
    "* **drop_duplicates**: si hay varias filas repetidas deja sólo una (no tiene en cuenta el índice)\n",
    "* **fillna**: completa con el valor que recibe como parámetro las celdas sin valor.\n"
   ]
  },
  {
   "cell_type": "code",
   "execution_count": null,
   "metadata": {
    "slideshow": {
     "slide_type": "-"
    }
   },
   "outputs": [],
   "source": [
    "proyectos.gran_area_conocimiento.fillna('???').unique()"
   ]
  },
  {
   "cell_type": "code",
   "execution_count": null,
   "metadata": {
    "slideshow": {
     "slide_type": "-"
    }
   },
   "outputs": [],
   "source": [
    "proyectos.gran_area_conocimiento.drop_duplicates()"
   ]
  },
  {
   "cell_type": "markdown",
   "metadata": {
    "slideshow": {
     "slide_type": "slide"
    }
   },
   "source": [
    "**EJERCICIO 3**:\n",
    "\n",
    "* ¿Cuál es el área de conocimiento con más proyectos?\n",
    "* ¿Qué porcentaje del costo se financia en promedio?"
   ]
  },
  {
   "cell_type": "code",
   "execution_count": null,
   "metadata": {},
   "outputs": [],
   "source": []
  },
  {
   "cell_type": "markdown",
   "metadata": {
    "slideshow": {
     "slide_type": "slide"
    }
   },
   "source": [
    "### Agrupando datos\n",
    "\n",
    "Involucra uno o más de los siguientes pasos:\n",
    "\n",
    "* **Separar** los datos en grupos en base a algún criterio\n",
    "* **Aplicar** una función a cada grupo de forma independiente\n",
    "\n",
    " * Aggregation\n",
    " * Transformation\n",
    " * Filtration\n",
    "\n",
    "* **Combinar** los resultados en una estructura de datos\n",
    "\n",
    "https://pandas.pydata.org/pandas-docs/stable/groupby.html#groupby"
   ]
  },
  {
   "cell_type": "code",
   "execution_count": null,
   "metadata": {
    "slideshow": {
     "slide_type": "slide"
    }
   },
   "outputs": [],
   "source": [
    "# cantidad de proyectos y promedio de monto financiado por provincia\n",
    "(proyectos.groupby(proyectos['provincia_de_ejecución'])\n",
    " .monto_financiado.agg(['mean', 'count'])\n",
    " .head(10))"
   ]
  },
  {
   "cell_type": "code",
   "execution_count": null,
   "metadata": {
    "scrolled": false,
    "slideshow": {
     "slide_type": "slide"
    }
   },
   "outputs": [],
   "source": [
    "# los 3 proyectos con mayor financiacion por provincia\n",
    "ordenado = proyectos.sort_values(by=['provincia_de_ejecución', 'monto_financiado'], \n",
    "                                 ascending=False)\n",
    "ordenado.groupby('provincia_de_ejecución').head(3).head(10)"
   ]
  },
  {
   "cell_type": "markdown",
   "metadata": {
    "slideshow": {
     "slide_type": "slide"
    }
   },
   "source": [
    "**EJERCICIO 4**: En el dataset se puede apreciar que hay más de un registro por proyecto. Esto se debe a que el mismo proyecto puede estar en más de una provincia a la vez o abarcar más de un área de conocimiento.\n",
    "\n",
    "* ¿Cuánto es el monto total financiado en cada año sabiendo lo antes mencionado? "
   ]
  },
  {
   "cell_type": "code",
   "execution_count": null,
   "metadata": {},
   "outputs": [],
   "source": []
  },
  {
   "cell_type": "markdown",
   "metadata": {
    "slideshow": {
     "slide_type": "slide"
    }
   },
   "source": [
    "### Combinando datos\n",
    "\n",
    "#### Concat\n",
    "\n",
    "    pd.concat(objs, axis=0, join='outer', join_axes=None, ignore_index=False,\n",
    "              keys=None, levels=None, names=None, verify_integrity=False,\n",
    "              copy=True)\n"
   ]
  },
  {
   "cell_type": "code",
   "execution_count": null,
   "metadata": {
    "scrolled": true
   },
   "outputs": [],
   "source": [
    "pd.concat([beatles, beatles], axis=1)"
   ]
  },
  {
   "cell_type": "markdown",
   "metadata": {
    "slideshow": {
     "slide_type": "slide"
    }
   },
   "source": [
    "### Combinando datos\n",
    "\n",
    "#### Merge\n",
    "\n",
    "    pd.merge(left, right, how='inner', on=None, left_on=None, right_on=None,\n",
    "         left_index=False, right_index=False, sort=True,\n",
    "         suffixes=('_x', '_y'), copy=True, indicator=False,\n",
    "         validate=None)\n"
   ]
  },
  {
   "cell_type": "code",
   "execution_count": null,
   "metadata": {},
   "outputs": [],
   "source": [
    "muertes = pd.DataFrame({\n",
    "    'nombre': ['john', 'george'],\n",
    "    'año de muerte': [1980, 2001] \n",
    "})\n",
    "\n",
    "pd.merge(beatles, muertes, on='nombre')"
   ]
  },
  {
   "cell_type": "code",
   "execution_count": null,
   "metadata": {
    "collapsed": true,
    "slideshow": {
     "slide_type": "slide"
    }
   },
   "outputs": [],
   "source": [
    "m2 = muertes.set_index('nombre')\n",
    "\n",
    "pd.merge(beatles, m2, \n",
    "         left_on='nombre', right_index=True, how='left', \n",
    "         indicator=True, validate='one_to_one')"
   ]
  },
  {
   "cell_type": "code",
   "execution_count": null,
   "metadata": {
    "collapsed": true,
    "slideshow": {
     "slide_type": "slide"
    }
   },
   "outputs": [],
   "source": [
    "instrumentos = pd.DataFrame({\n",
    "    'nombre': ['john', 'john', 'ringo',  'ringo', 'charly'],\n",
    "    'instrumento': ['guitarra', 'teclado', 'bateria', 'percusión', 'piano'] \n",
    "})\n",
    "\n",
    "pd.merge(beatles, instrumentos, \n",
    "         left_on='nombre', right_on='nombre', how='outer', \n",
    "         indicator=True, validate='one_to_many')"
   ]
  },
  {
   "cell_type": "markdown",
   "metadata": {
    "slideshow": {
     "slide_type": "slide"
    }
   },
   "source": [
    "**EJERCICIO 5**: Usar el dataset de empresas provisto debajo para determinar el top 5 de empresas en cuanto a su involucración en los  proyectos de mayor monto"
   ]
  },
  {
   "cell_type": "code",
   "execution_count": null,
   "metadata": {},
   "outputs": [],
   "source": [
    "empresas = pd.read_csv('empresas.csv', parse_dates=['fecha_inicio'])\n",
    "empresas.head(3)"
   ]
  },
  {
   "cell_type": "code",
   "execution_count": null,
   "metadata": {
    "collapsed": true
   },
   "outputs": [],
   "source": []
  },
  {
   "cell_type": "markdown",
   "metadata": {
    "slideshow": {
     "slide_type": "slide"
    }
   },
   "source": [
    "### Ploteando datos"
   ]
  },
  {
   "cell_type": "code",
   "execution_count": null,
   "metadata": {},
   "outputs": [],
   "source": [
    "ts = pd.Series(np.random.randn(1000), index=pd.date_range('1/1/2015', periods=1000))\n",
    "df = pd.DataFrame(np.random.randn(1000, 4), index=ts.index, columns=['A', 'B', 'C', 'D'])\n",
    "df = df.cumsum()\n",
    "df.head(10)"
   ]
  },
  {
   "cell_type": "code",
   "execution_count": null,
   "metadata": {},
   "outputs": [],
   "source": [
    "df.plot(figsize=(12, 4));"
   ]
  },
  {
   "cell_type": "code",
   "execution_count": null,
   "metadata": {
    "slideshow": {
     "slide_type": "slide"
    }
   },
   "outputs": [],
   "source": [
    "f, axis = plt.subplots(1, 2, figsize=(12, 4))\n",
    "df.boxplot(ax=axis[0])\n",
    "df.A.hist(ax=axis[1]);"
   ]
  },
  {
   "cell_type": "markdown",
   "metadata": {
    "slideshow": {
     "slide_type": "slide"
    }
   },
   "source": [
    "**EJERCICIO 6**:\n",
    "\n",
    "* ¿Cuánto es el monto total financiado año a año? \n",
    "* ¿Cuánto es el monto total financiado provincia? "
   ]
  },
  {
   "cell_type": "code",
   "execution_count": null,
   "metadata": {},
   "outputs": [],
   "source": [
    "años = empresas.fecha_inicio.dt.year"
   ]
  },
  {
   "cell_type": "code",
   "execution_count": null,
   "metadata": {},
   "outputs": [],
   "source": []
  },
  {
   "cell_type": "markdown",
   "metadata": {
    "slideshow": {
     "slide_type": "slide"
    }
   },
   "source": [
    "### Algunos consejos \n",
    "\n",
    "* Evitar usar utilizar ``apply`` => Tratar de usar operaciones sobre vectores\n",
    "* Evitar ``iterrows`` => Acceder \n",
    "* ``concat`` duplica el consumo de memoria al momento de la concatenación => Depende del caso, HDF5 quizás ayuda"
   ]
  }
 ],
 "metadata": {
  "celltoolbar": "Slideshow",
  "kernelspec": {
   "display_name": "Python 3",
   "language": "python",
   "name": "python3"
  },
  "language_info": {
   "codemirror_mode": {
    "name": "ipython",
    "version": 3
   },
   "file_extension": ".py",
   "mimetype": "text/x-python",
   "name": "python",
   "nbconvert_exporter": "python",
   "pygments_lexer": "ipython3",
   "version": "3.7.3"
  }
 },
 "nbformat": 4,
 "nbformat_minor": 2
}
