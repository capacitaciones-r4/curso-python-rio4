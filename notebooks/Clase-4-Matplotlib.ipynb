{
 "cells": [
  {
   "cell_type": "markdown",
   "metadata": {
    "colab_type": "text",
    "id": "U_slbEZ6oeFo"
   },
   "source": [
    "# Matplotlib \n",
    "\n",
    "![](https://matplotlib.org/_static/logo2.png)\n",
    "\n",
    "[Matplotlib](https://matplotlib.org/) es la librería estándar para producir gráficos con calidad de publicación, de manera sencilla y rápida, mientras que proporciona poderosas herramientas.\n",
    "\n",
    "Se generan figuras vectoriales a partir de arreglos de datos de la librería de [Numpy](https://www.numpy.org)."
   ]
  },
  {
   "cell_type": "code",
   "execution_count": null,
   "metadata": {
    "colab": {},
    "colab_type": "code",
    "id": "r44EcuOCeuTa"
   },
   "outputs": [],
   "source": [
    "import matplotlib\n",
    "import matplotlib.pyplot as plt\n",
    "\n",
    "%matplotlib inline"
   ]
  },
  {
   "cell_type": "code",
   "execution_count": null,
   "metadata": {
    "colab": {
     "base_uri": "https://localhost:8080/",
     "height": 34
    },
    "colab_type": "code",
    "id": "Dp5wVrBUeuT5",
    "outputId": "993d5f8e-3453-4dfc-cfe1-a5568e4b3f3b"
   },
   "outputs": [],
   "source": [
    "print(matplotlib.__version__)"
   ]
  },
  {
   "cell_type": "markdown",
   "metadata": {
    "colab_type": "text",
    "id": "of4zy3JeeuUR"
   },
   "source": [
    "![Anatomia de una figura](https://matplotlib.org/_images/anatomy1.png)"
   ]
  },
  {
   "cell_type": "code",
   "execution_count": null,
   "metadata": {
    "colab": {
     "base_uri": "https://localhost:8080/",
     "height": 269
    },
    "colab_type": "code",
    "id": "wseCGtbMeuUW",
    "outputId": "8d4bbe3f-d7ac-4119-f55b-125f8c315e59"
   },
   "outputs": [],
   "source": [
    "plt.plot([1, 2, 3, 4])\n",
    "plt.ylabel('algunos números')\n",
    "\n",
    "plt.show()  # No nos hace falta con el %matplotlib inline"
   ]
  },
  {
   "cell_type": "markdown",
   "metadata": {
    "colab_type": "text",
    "id": "YgLxwXLqeuUs"
   },
   "source": [
    "Si le pasamos una sola lista a `plot()`, asume que es una secuencia de valores en y, generando automáticamente los valores en x. Como python cuenta desde 0, el vector de x por defecto tiene el mismo largo que y, pero comienza desde 0 (en este caso x es: `[0, 1 ,2 ,3]`  \n",
    "Para graficar x vs y a `plot()`:"
   ]
  },
  {
   "cell_type": "code",
   "execution_count": null,
   "metadata": {
    "colab": {
     "base_uri": "https://localhost:8080/",
     "height": 286
    },
    "colab_type": "code",
    "id": "VnPNTfrheuUw",
    "outputId": "d986171e-81c0-4904-b7fc-9ee5fee52077"
   },
   "outputs": [],
   "source": [
    "# valores en x: 1, 2, 3, 4\n",
    "# valores en y: 1, 4, 9, 16\n",
    "plt.plot([1, 2, 3, 4], [1, 4, 9, 16])"
   ]
  },
  {
   "cell_type": "markdown",
   "metadata": {
    "colab_type": "text",
    "id": "3MfAGOg1euU-"
   },
   "source": [
    "Para cada par de argumentos x, y se puede especificar un tercer argumento opcional: un string indicando el color y el tipo de línea (por defecto es `b-`)"
   ]
  },
  {
   "cell_type": "code",
   "execution_count": null,
   "metadata": {
    "colab": {
     "base_uri": "https://localhost:8080/",
     "height": 286
    },
    "colab_type": "code",
    "id": "zwSc_Oh0euVC",
    "outputId": "d0acedee-768e-4d98-c6e7-0cb968d5f8ee"
   },
   "outputs": [],
   "source": [
    "plt.plot([1,2,3,4], [1,4,9,16], 'ro')  # 'ro' para dibujar circulos rojos\n",
    "plt.axis([0, 6, 0, 20])"
   ]
  },
  {
   "cell_type": "markdown",
   "metadata": {
    "colab_type": "text",
    "id": "-y4ZkjrneuVU"
   },
   "source": [
    "Consultar la [documentación](https://matplotlib.org/api/pyplot_api.html#matplotlib.pyplot.plot) de los posibles formatos de las lineas. \n",
    "\n",
    "Al comando `axis()` se le especifica una lista con `[xmin, xmax, ymin, ymax]` y nos cambia los l+imites de los ejes.  \n",
    "\n",
    "Generalmente se usa matpltlib con arrays de numpy:"
   ]
  },
  {
   "cell_type": "code",
   "execution_count": null,
   "metadata": {
    "colab": {
     "base_uri": "https://localhost:8080/",
     "height": 269
    },
    "colab_type": "code",
    "id": "6eo0X3bgeuVg",
    "outputId": "4093bc9d-232b-41b9-8576-a8729c3a194d"
   },
   "outputs": [],
   "source": [
    "import numpy as np\n",
    "\n",
    "# Similar al range(), una muestra cada 0.2 de 0 a 5 (sin incluir)\n",
    "t = np.arange(0., 5., 0.2)\n",
    "\n",
    "# Guiones rojos, cuadrados azules, triangulos verdes\n",
    "# red dashes, blue squares and green triangles\n",
    "plt.plot(t, t, 'r--', t, t**2, 'bs', t, t**3, 'g^')\n",
    "plt.show()"
   ]
  },
  {
   "cell_type": "markdown",
   "metadata": {
    "colab_type": "text",
    "id": "ZrAfiQW9euV4"
   },
   "source": [
    "## Simple Plot\n",
    "\n",
    "Vamos a trabajar dibujando funciones coseno y seno en el mismo plot.  \n",
    "Primero generamos los datos que vamos a usar:"
   ]
  },
  {
   "cell_type": "code",
   "execution_count": null,
   "metadata": {
    "colab": {},
    "colab_type": "code",
    "id": "XACKH2M6euWE"
   },
   "outputs": [],
   "source": [
    "import numpy as np\n",
    "\n",
    "X = np.linspace(-np.pi, np.pi, 256, endpoint=True)\n",
    "C, S = np.cos(X), np.sin(X)"
   ]
  },
  {
   "cell_type": "markdown",
   "metadata": {
    "colab_type": "text",
    "id": "roUzJpxzeuWW"
   },
   "source": [
    "X es un array de numpy con 256 valores de $-\\pi$ a $\\pi$ (incluido). C es el coseno (con 256 valores) y S es el seno (con 256)."
   ]
  },
  {
   "cell_type": "code",
   "execution_count": null,
   "metadata": {
    "colab": {
     "base_uri": "https://localhost:8080/",
     "height": 286
    },
    "colab_type": "code",
    "id": "IGC68YJTeuWb",
    "outputId": "63595565-822f-41ad-9fbe-6aee98259796"
   },
   "outputs": [],
   "source": [
    "plt.plot(X, C)\n",
    "plt.plot(X, S)"
   ]
  },
  {
   "cell_type": "markdown",
   "metadata": {
    "colab_type": "text",
    "id": "S0clhaZjeuWs"
   },
   "source": [
    "Primero, vamos a querer el coseno azul y el seno rojo y hacer las lineas un poco mas gruesas. Tambien vamos a cambiar el tamaño de la figura"
   ]
  },
  {
   "cell_type": "code",
   "execution_count": null,
   "metadata": {
    "colab": {
     "base_uri": "https://localhost:8080/",
     "height": 395
    },
    "colab_type": "code",
    "id": "TKkbmLxveuWv",
    "outputId": "001f40b0-15e6-4b78-f72a-46caea5a5c98"
   },
   "outputs": [],
   "source": [
    "plt.figure(figsize=(10,6))\n",
    "plt.plot(X, C, color=\"blue\", linewidth=2.5, linestyle=\"-\")\n",
    "plt.plot(X, S, color=\"red\",  linewidth=2.5, linestyle=\"-\")"
   ]
  },
  {
   "cell_type": "markdown",
   "metadata": {
    "colab_type": "text",
    "id": "t-ZjgPdgeuXC"
   },
   "source": [
    "Los limites de la figura son muy estrechos y queremos hacer algo de espacio para poder mirar mejor los puntos.  \n",
    "\n",
    "Documentacion: \n",
    "- [xlim](https://matplotlib.org/api/pyplot_api.html#matplotlib.pyplot.xlim)\n",
    "- [ylim](https://matplotlib.org/api/pyplot_api.html#matplotlib.pyplot.ylim)"
   ]
  },
  {
   "cell_type": "code",
   "execution_count": null,
   "metadata": {
    "colab": {
     "base_uri": "https://localhost:8080/",
     "height": 395
    },
    "colab_type": "code",
    "id": "R5WFhVwKeuXF",
    "outputId": "dc665ec4-3d13-4a38-ec7e-2dcd730c5144"
   },
   "outputs": [],
   "source": [
    "plt.figure(figsize=(10,6))\n",
    "plt.plot(X, C, color=\"blue\", linewidth=2.5, linestyle=\"-\")\n",
    "plt.plot(X, S, color=\"red\",  linewidth=2.5, linestyle=\"-\")\n",
    "\n",
    "plt.xlim(X.min()*1.1, X.max()*1.1)\n",
    "plt.ylim(C.min()*1.1, C.max()*1.1)"
   ]
  },
  {
   "cell_type": "markdown",
   "metadata": {
    "colab_type": "text",
    "id": "3GQze9a2euXS"
   },
   "source": [
    "Las marcas ('ticks' en inglés, lo que mostramos en los ejes) no son ideales porque no nos muestran los valores interesantes ($\\pm\\pi$, $\\pm\\pi/2$) para el seno y coseno. Vamos a cambiarlo para que muestre sólo esos valores.\n",
    "\n",
    "Documentación:\n",
    "- [xticks](https://matplotlib.org/api/pyplot_api.html#matplotlib.pyplot.xticks)\n",
    "- [yticks](https://matplotlib.org/api/pyplot_api.html#matplotlib.pyplot.yticks)\n",
    "- [Tick container](https://matplotlib.org/users/artists.html#axis-container)\n",
    "- [Tick locating and formatting](https://matplotlib.org/api/ticker_api.html)"
   ]
  },
  {
   "cell_type": "code",
   "execution_count": null,
   "metadata": {
    "colab": {
     "base_uri": "https://localhost:8080/",
     "height": 447
    },
    "colab_type": "code",
    "id": "2A3eAbY5euXW",
    "outputId": "fdc44554-4af1-4fa9-e448-bdf1d00c8279"
   },
   "outputs": [],
   "source": [
    "plt.figure(figsize=(10,6))\n",
    "plt.plot(X, C, color=\"blue\", linewidth=2.5, linestyle=\"-\")\n",
    "plt.plot(X, S, color=\"red\",  linewidth=2.5, linestyle=\"-\")\n",
    "\n",
    "plt.xlim(X.min()*1.1, X.max()*1.1)\n",
    "plt.ylim(C.min()*1.1, C.max()*1.1)\n",
    "\n",
    "plt.xticks([-np.pi, -np.pi/2, 0, np.pi/2, np.pi])\n",
    "plt.yticks([-1, 0, +1])"
   ]
  },
  {
   "cell_type": "markdown",
   "metadata": {
    "colab_type": "text",
    "id": "26n5A5C6euXl"
   },
   "source": [
    "Las marcas (los 'ticks') ahora están en los lugares correctos, pero no son explícitos. Podemos adivinar que 3.142 es $\\pi$, pero se puede mejorar poniendo eso de forma explícita. \n",
    "\n",
    "Cuando usamos `xticks` o `yticks` podemos pasarle una segunda lista con lo que vamos a mostrar en los ticks."
   ]
  },
  {
   "cell_type": "code",
   "execution_count": null,
   "metadata": {
    "colab": {
     "base_uri": "https://localhost:8080/",
     "height": 450
    },
    "colab_type": "code",
    "id": "K9qUdws6euXp",
    "outputId": "97cfc634-e2c4-4c48-d3f8-ef1cfb475427"
   },
   "outputs": [],
   "source": [
    "plt.figure(figsize=(10,6))\n",
    "plt.plot(X, C, color=\"blue\", linewidth=2.5, linestyle=\"-\")\n",
    "plt.plot(X, S, color=\"red\",  linewidth=2.5, linestyle=\"-\")\n",
    "\n",
    "plt.xlim(X.min()*1.1, X.max()*1.1)\n",
    "plt.ylim(C.min()*1.1, C.max()*1.1)\n",
    "\n",
    "plt.xticks([-np.pi, -np.pi/2, 0, np.pi/2, np.pi],\n",
    "       [r'$-\\pi$', r'$-\\pi/2$', r'$0$', r'$+\\pi/2$', r'$+\\pi$'])\n",
    "\n",
    "plt.yticks([-1, 0, +1],\n",
    "       [r'$-1$', r'$0$', r'$+1$'])"
   ]
  },
  {
   "cell_type": "markdown",
   "metadata": {
    "colab_type": "text",
    "id": "-p6xVsvUnFtR"
   },
   "source": [
    "'Spines' son las lineas que delimitan el area de los datos. Pueden ser puestas en posiciones arbitrarias, por defecto estan en los bordes de los ejes. Vamos a moverlas al centro. Ya que tenemos cuatro (arriba, abajo, izquierda, derecha), vamos a descartar la de arriba y la derecha poniendo su color a 'none' y vamos a mover la de abajo y la izquierda a las cordenadas 0 de los datos"
   ]
  },
  {
   "cell_type": "code",
   "execution_count": null,
   "metadata": {
    "colab": {
     "base_uri": "https://localhost:8080/",
     "height": 364
    },
    "colab_type": "code",
    "id": "_OSIWiWeeuYO",
    "outputId": "4018ff52-f166-4453-bb03-380b8c43e60e"
   },
   "outputs": [],
   "source": [
    "plt.figure(figsize=(10,6))\n",
    "plt.plot(X, C, color=\"blue\", linewidth=2.5, linestyle=\"-\")\n",
    "plt.plot(X, S, color=\"red\",  linewidth=2.5, linestyle=\"-\")\n",
    "\n",
    "plt.xlim(X.min()*1.1, X.max()*1.1)\n",
    "plt.ylim(C.min()*1.1, C.max()*1.1)\n",
    "\n",
    "plt.xticks([-np.pi, -np.pi/2, 0, np.pi/2, np.pi],\n",
    "       [r'$-\\pi$', r'$-\\pi/2$', r'$0$', r'$+\\pi/2$', r'$+\\pi$'])\n",
    "\n",
    "plt.yticks([-1, 0, +1],\n",
    "       [r'$-1$', r'$0$', r'$+1$'])\n",
    "\n",
    "ax = plt.gca()  # ax contiene ahora los ejes\n",
    "ax.spines['right'].set_color('none')  # se elimina el color del eje de la derecha\n",
    "ax.spines['top'].set_color('none')  # se elimina el color del eje superior\n",
    "ax.xaxis.set_ticks_position('bottom')  # se setea la posición de los ticks abajo\n",
    "ax.spines['bottom'].set_position(('data',0)) # mueve el eje horizontal al corte con 0 en y\n",
    "ax.yaxis.set_ticks_position('left') # se setea la posición de los ticks a la izquierda\n",
    "ax.spines['left'].set_position(('data',0)) # mueve el eje vertical al corte con 0 en x"
   ]
  },
  {
   "cell_type": "markdown",
   "metadata": {
    "colab_type": "text",
    "id": "sJlub8Q-m_hO"
   },
   "source": [
    "Vamos a agregarle una leyenda en la esquina superior izquierda. Solo necesitamos pasarle un argumento a palabra clave `label` (que va a ser usado en la caja de la leyenda) a la funcion `plot`."
   ]
  },
  {
   "cell_type": "code",
   "execution_count": null,
   "metadata": {
    "colab": {
     "base_uri": "https://localhost:8080/",
     "height": 381
    },
    "colab_type": "code",
    "id": "CHA4dsHKeuY5",
    "outputId": "a7a36bb4-d20e-4486-a203-a580bfb01f06"
   },
   "outputs": [],
   "source": [
    "plt.figure(figsize=(10,6))\n",
    "plt.plot(X, C, color=\"blue\", linewidth=2.5, linestyle=\"-\", label=\"cosine\")\n",
    "plt.plot(X, S, color=\"red\",  linewidth=2.5, linestyle=\"-\", label=\"sine\")\n",
    "\n",
    "plt.xlim(X.min()*1.1, X.max()*1.1)\n",
    "plt.ylim(C.min()*1.1, C.max()*1.1)\n",
    "\n",
    "plt.xticks([-np.pi, -np.pi/2, 0, np.pi/2, np.pi],\n",
    "       [r'$-\\pi$', r'$-\\pi/2$', r'$0$', r'$+\\pi/2$', r'$+\\pi$'])\n",
    "\n",
    "plt.yticks([-1, 0, +1],\n",
    "       [r'$-1$', r'$0$', r'$+1$'])\n",
    "\n",
    "ax = plt.gca()\n",
    "ax.spines['right'].set_color('none')\n",
    "ax.spines['top'].set_color('none')\n",
    "ax.xaxis.set_ticks_position('bottom')\n",
    "ax.spines['bottom'].set_position(('data',0))\n",
    "ax.yaxis.set_ticks_position('left')\n",
    "ax.spines['left'].set_position(('data',0))\n",
    "\n",
    "plt.legend(loc='upper left', frameon=False)"
   ]
  },
  {
   "cell_type": "markdown",
   "metadata": {
    "colab_type": "text",
    "id": "rbQiW83Sm5EB"
   },
   "source": [
    "Vamos a hacer anotaciones en algunos puntos de interes usando la funcion `annotate`. Elegimos el valor 2π/3 y queremos marcar su valor para el seno y el coseno. Primero dibujamos un punto en la curva como una linea de puntos vertical. Despues, podemos usar `annotate` para mostrar algo de texto con una flecha."
   ]
  },
  {
   "cell_type": "code",
   "execution_count": null,
   "metadata": {
    "colab": {
     "base_uri": "https://localhost:8080/",
     "height": 394
    },
    "colab_type": "code",
    "id": "WHfxNMvYeuZa",
    "outputId": "220adc28-6265-47a7-dfda-d2fed37d583d"
   },
   "outputs": [],
   "source": [
    "plt.figure(figsize=(10,6))\n",
    "plt.plot(X, C, color=\"blue\", linewidth=2.5, linestyle=\"-\", label=\"cosine\")\n",
    "plt.plot(X, S, color=\"red\",  linewidth=2.5, linestyle=\"-\", label=\"sine\")\n",
    "\n",
    "plt.xlim(X.min()*1.1, X.max()*1.1)\n",
    "plt.ylim(C.min()*1.1, C.max()*1.1)\n",
    "\n",
    "plt.xticks([-np.pi, -np.pi/2, 0, np.pi/2, np.pi],\n",
    "       [r'$-\\pi$', r'$-\\pi/2$', r'$0$', r'$+\\pi/2$', r'$+\\pi$'])\n",
    "\n",
    "plt.yticks([-1, 0, +1],\n",
    "       [r'$-1$', r'$0$', r'$+1$'])\n",
    "\n",
    "ax = plt.gca()\n",
    "ax.spines['right'].set_color('none')\n",
    "ax.spines['top'].set_color('none')\n",
    "ax.xaxis.set_ticks_position('bottom')\n",
    "ax.spines['bottom'].set_position(('data',0))\n",
    "ax.yaxis.set_ticks_position('left')\n",
    "ax.spines['left'].set_position(('data',0))\n",
    "\n",
    "plt.legend(loc='upper left', frameon=False)\n",
    "\n",
    "t = 2*np.pi/3\n",
    "plt.plot([t,t],[0,np.cos(t)], color ='blue', linewidth=1.5, linestyle=\"--\")\n",
    "plt.scatter([t,],[np.cos(t),], 50, color ='blue')\n",
    "\n",
    "plt.annotate(r'$\\sin(\\frac{2\\pi}{3})=\\frac{\\sqrt{3}}{2}$',\n",
    "             xy=(t, np.sin(t)), xycoords='data',\n",
    "             xytext=(+10, +30), textcoords='offset points', fontsize=16,\n",
    "             arrowprops=dict(arrowstyle=\"->\", connectionstyle=\"arc3,rad=.2\"))\n",
    "\n",
    "plt.plot([t,t],[0,np.sin(t)], color ='red', linewidth=1.5, linestyle=\"--\")\n",
    "plt.scatter([t,],[np.sin(t),], 50, color ='red')\n",
    "\n",
    "plt.annotate(r'$\\cos(\\frac{2\\pi}{3})=-\\frac{1}{2}$',\n",
    "             xy=(t, np.cos(t)), xycoords='data',\n",
    "             xytext=(-90, -50), textcoords='offset points', fontsize=16,\n",
    "             arrowprops=dict(arrowstyle=\"->\", connectionstyle=\"arc3,rad=.2\"))"
   ]
  },
  {
   "cell_type": "markdown",
   "metadata": {
    "colab_type": "text",
    "id": "kU5_GqjdoZb1"
   },
   "source": [
    "Subplot"
   ]
  },
  {
   "cell_type": "markdown",
   "metadata": {
    "colab_type": "text",
    "id": "ASZKjF1io-Rj"
   },
   "source": [
    "## Tipos de gráficos\n",
    "\n",
    "Matplotlib cuenta con métodos definidos para generar diferentes tipos de gráficos."
   ]
  },
  {
   "cell_type": "markdown",
   "metadata": {
    "colab_type": "text",
    "id": "4VQhQMIXprxD"
   },
   "source": [
    "### Regular\n",
    "\n",
    "Curvas continuas como las del primer ejemplo.\n",
    "\n",
    "`plt.plot(x, y, color='color', alpha=a)`\n",
    "\n",
    "* `x e y`:  arreglos con valores a plotear.\n",
    "* `color`: string que indica el color de la curva.\n",
    "* `alpha`: nivel de transparencia (entre 0 y 1)"
   ]
  },
  {
   "cell_type": "code",
   "execution_count": null,
   "metadata": {
    "colab": {
     "base_uri": "https://localhost:8080/",
     "height": 269
    },
    "colab_type": "code",
    "id": "m0SirCImpSJ9",
    "outputId": "259ea16b-1c09-4964-d1dd-b88e17917d28"
   },
   "outputs": [],
   "source": [
    "n = 256\n",
    "X = np.linspace(-np.pi,np.pi,n,endpoint=True)\n",
    "Y = np.sin(2*X)\n",
    "\n",
    "plt.plot (X, Y+1, color='blue', alpha=1.00)\n",
    "plt.plot (X, Y-1, color='blue', alpha=1.00)\n",
    "# plt.grid() # cuadriculado\n",
    "plt.show()"
   ]
  },
  {
   "cell_type": "markdown",
   "metadata": {
    "colab_type": "text",
    "id": "6NBIjOhap_jL"
   },
   "source": [
    "### Dispersión o distribución\n",
    "*(scatter)*\n",
    "\n",
    "Se generan dos arreglos con valores X, Y aleatorios bajo una distribución normal. Se genera un tercer arreglo que almacena el ángulo entre X, Y que se usan para generar colores de ploteo.\n",
    "\n",
    "Para crear el rectángulo de ploteo, con las posiciones izquierda e inferior, el ancho y alto del mismo:\n",
    "\n",
    "`plt.axes([left, bottom, width, height])`\n",
    "\n",
    "Para plotear los círculos:\n",
    "\n",
    "`plt.scatter(X,Y, s=75, c=T, alpha=.5)`\n",
    "\n",
    "* `x,y`: arreglos con posiciones horizontal y vertical.\n",
    "* `s`: tamaño de los círculos.\n",
    "* `c`: color o secuencia de colores de los círculos.\n",
    "*  `alpha`: nivel de transparencia (entre 0 y 1)."
   ]
  },
  {
   "cell_type": "code",
   "execution_count": null,
   "metadata": {
    "colab": {
     "base_uri": "https://localhost:8080/",
     "height": 311
    },
    "colab_type": "code",
    "id": "K69gVrb4pSjD",
    "outputId": "a2e9ac16-2aa3-4314-f426-7880dcfea2b3"
   },
   "outputs": [],
   "source": [
    "n = 1024\n",
    "X = np.random.normal(0,1,n)\n",
    "Y = np.random.normal(0,1,n)\n",
    "T = np.arctan2(Y,X)\n",
    "\n",
    "plt.axes([0.025,0.025,0.95,0.95])\n",
    "plt.scatter(X,Y, s=75, c=T, alpha=.5)\n",
    "\n",
    "plt.xlim(-1.5,1.5), plt.xticks([])\n",
    "plt.ylim(-1.5,1.5), plt.yticks([])\n",
    "# savefig('../figures/scatter_ex.png',dpi=48)\n",
    "plt.show()"
   ]
  },
  {
   "cell_type": "markdown",
   "metadata": {
    "colab_type": "text",
    "id": "7b5UEOVVqOSr"
   },
   "source": [
    "### Barras\n",
    "\n",
    "Se genera un vector X con valores de 0 a 12, dos vectores Y1 e Y2 que se calculan a partir de X y de números aleatorios con distribución uniforme.\n",
    "\n",
    "Se grafican barras con alturas correspondientes a Y1 y -Y2 coloreadas. Se crean marcas para cada barra, empleando sus posiciones para alinearlas.\n",
    "\n",
    "`plt.bar(X, Y, facecolor='#9999ff', edgecolor='white')`\n",
    "\n",
    "* `x`: posiciones en el eje horizontal de las barras.\n",
    "* `y`: alturas en y de las barras.\n",
    "* `facecolor`: color de las barras.\n",
    "* `edgecolor`: color del borde de las barras."
   ]
  },
  {
   "cell_type": "code",
   "execution_count": null,
   "metadata": {
    "colab": {
     "base_uri": "https://localhost:8080/",
     "height": 311
    },
    "colab_type": "code",
    "id": "GXTSRl1jrZIP",
    "outputId": "2ea883b2-4fe0-42e1-895d-cef581005c71"
   },
   "outputs": [],
   "source": [
    "n = 12\n",
    "X = np.arange(n)\n",
    "Y1 = (1-X/float(n)) * np.random.uniform(0.5,1.0,n)\n",
    "Y2 = (1-X/float(n)) * np.random.uniform(0.5,1.0,n)\n",
    "\n",
    "plt.axes([0.025,0.025,0.95,0.95])\n",
    "plt.bar(X, +Y1, facecolor='#9999ff', edgecolor='white')\n",
    "plt.bar(X, -Y2, facecolor='#ff9999', edgecolor='white')\n",
    "\n",
    "for x,y in zip(X,Y1):\n",
    "    plt.text(x+0.4, y+0.05, '%.2f' % y, ha='center', va= 'bottom')\n",
    "\n",
    "for x,y in zip(X,Y2):\n",
    "    plt.text(x+0.4, -y-0.05, '%.2f' % y, ha='center', va= 'top')\n",
    "\n",
    "plt.xlim(-.5,n), plt.xticks([])\n",
    "plt.ylim(-1.25,+1.25), plt.yticks([])\n",
    "\n",
    "# savefig('../figures/bar_ex.png', dpi=48)\n",
    "plt.show()"
   ]
  },
  {
   "cell_type": "markdown",
   "metadata": {
    "colab_type": "text",
    "id": "cYczhj81sg3A"
   },
   "source": [
    "### Contorno\n",
    "\n",
    "Se define una función multivariable como sigue:\n",
    "\n",
    "$f(x,y) = 1 - \\frac{x}{2} + x^5 + y^2 · e^{-x^2 - y ^2}$\n",
    "\n",
    "se generan dos vectores x, y, un \"mallado\" para graficar con la función np.meshgrid, y se plotean los contornos.\n",
    "\n",
    "`plt.contourf(X, Y, f(X,Y), 8, alpha=.75, cmap=plt.cm.hot)`\n",
    "\n",
    "* `X`: array con valores en x.\n",
    "* `Y`: array con valores en y.\n",
    "* `f(x,y)`: valores de la función multivariable.\n",
    "* `n` *(8)*: cantidad de niveles\n",
    "* `alpha`: nivel de transparencia (entre 0 y 1).\n",
    "* `cmap`: mapa de colores *(se usa colores de matplotlib para mapas de calor)*"
   ]
  },
  {
   "cell_type": "code",
   "execution_count": null,
   "metadata": {
    "colab": {
     "base_uri": "https://localhost:8080/",
     "height": 346
    },
    "colab_type": "code",
    "id": "qG_OILjvqHQQ",
    "outputId": "94885f2e-dcc2-44a9-fe0e-07d3e8cec019"
   },
   "outputs": [],
   "source": [
    "def f(x,y):\n",
    "    return (1-x/2+x**5+y**3)*np.exp(-x**2-y**2)\n",
    "\n",
    "n = 256\n",
    "x = np.linspace(-3,3,n)\n",
    "y = np.linspace(-3,3,n)\n",
    "X,Y = np.meshgrid(x,y)\n",
    "\n",
    "plt.axes([0.025,0.025,0.95,0.95])\n",
    "\n",
    "plt.contourf(X, Y, f(X,Y), 8, alpha=.75, cmap=plt.cm.hot)\n",
    "C = plt.contour(X, Y, f(X,Y), 8, colors='black', linewidth=.5)\n",
    "plt.clabel(C, inline=1, fontsize=10)\n",
    "\n",
    "plt.xticks([]), plt.yticks([])\n",
    "# savefig('../figures/contour_ex.png',dpi=48)\n",
    "plt.show()"
   ]
  },
  {
   "cell_type": "markdown",
   "metadata": {
    "colab_type": "text",
    "id": "yvodWY543w60"
   },
   "source": [
    "### Imagen (imshow)\n",
    "\n",
    "Se genera una imagen a partir de una función multivariable.\n",
    "\n",
    "$f(x,y) = 1 - \\frac{x}{2} + x^5 + y^2 · e^{-x^2 - y ^2}$\n",
    "\n",
    "Se elige un método de interpolación, y se agrega una \"colorbar\".\n",
    "\n",
    "`plt.imshow(Z,interpolation='bicubic', cmap='bone', origin='lower')`\n",
    "\n",
    "* `Z`: valores del mallado de x, y.\n",
    "* `interpolation`: string con elmétodo de interpolación para generar el gráfico.\n",
    "* `cmap`: mapa de colores a emplear.\n",
    "* `origin`: toma el valor [0,0] de Z como el valor más alto o más bajo según el string."
   ]
  },
  {
   "cell_type": "code",
   "execution_count": null,
   "metadata": {
    "colab": {
     "base_uri": "https://localhost:8080/",
     "height": 400
    },
    "colab_type": "code",
    "id": "NtdolxZL37Fi",
    "outputId": "f1257739-e155-41f4-fc12-7a9cc31cc260"
   },
   "outputs": [],
   "source": [
    "def f(x,y):\n",
    "    return (1-x/2+x**5+y**3)*np.exp(-x**2-y**2)\n",
    "\n",
    "n = 10\n",
    "x = np.linspace(-3,3,3.5*n)\n",
    "y = np.linspace(-3,3,3.0*n)\n",
    "X,Y = np.meshgrid(x,y)\n",
    "Z = f(X,Y)\n",
    "\n",
    "plt.axes([0.025,0.025,0.95,0.95])\n",
    "plt.imshow(Z,interpolation='bicubic', cmap='bone', origin='lower')\n",
    "plt.colorbar(shrink=.92)\n",
    "\n",
    "plt.xticks([]), plt.yticks([])\n",
    "# savefig('../figures/imshow_ex.png', dpi=48)\n",
    "plt.show()"
   ]
  },
  {
   "cell_type": "markdown",
   "metadata": {
    "colab_type": "text",
    "id": "qwXpiXh05GWO"
   },
   "source": [
    "### Torta (pie)\n",
    "\n",
    "Se genera un array de unos, se asigna 2 al último valor. Se genera un gradiente de blanco a negro de \"n\" tonos, y se grafica el gráfico de torta.\n",
    "\n",
    "`plt.pie(Z, explode=Z*.05, colors=['%f' % (i/float(n)) for i in range(n)],\n",
    "        wedgeprops={\"linewidth\": 1, \"edgecolor\": \"black\"})`\n",
    "        \n",
    "* `Z`: arreglo con tamaños de cada porción.\n",
    "* `explode`: fracción de separación entre las porciones.\n",
    "* `colors`: mapa de colores.\n",
    "* `wedgeprops`: diccionario con parámetros específicos delas porciones."
   ]
  },
  {
   "cell_type": "code",
   "execution_count": null,
   "metadata": {
    "colab": {
     "base_uri": "https://localhost:8080/",
     "height": 311
    },
    "colab_type": "code",
    "id": "QcZxZuTb5S1q",
    "outputId": "b138e56f-decc-4248-cb26-484c82220e5b"
   },
   "outputs": [],
   "source": [
    "n = 20\n",
    "Z = np.ones(n)\n",
    "Z[-1] *= 2\n",
    "\n",
    "plt.axes([0.025, 0.025, 0.95, 0.95])\n",
    "\n",
    "plt.pie(Z, explode=Z*.05, colors=['%f' % (i/float(n)) for i in range(n)],\n",
    "        wedgeprops={\"linewidth\": 1, \"edgecolor\": \"black\"})\n",
    "plt.gca().set_aspect('equal')\n",
    "plt.xticks([]), plt.yticks([])\n",
    "\n",
    "# savefig('../figures/pie_ex.png',dpi=48)\n",
    "plt.show()"
   ]
  },
  {
   "cell_type": "markdown",
   "metadata": {
    "colab_type": "text",
    "id": "uovs9I-p6Hwp"
   },
   "source": [
    "### Polar\n",
    "\n",
    "Se generan tres arreglos, con los ángulos, radios y ancho de las barras a graficar en el diagrama polar.\n",
    "\n",
    "`plt.bar(theta, radii, width=width, bottom=0.0)`\n",
    "\n",
    "* `tetha`: ángulos de las barras.\n",
    "* `radii`: radios de las barras.\n",
    "* `width`: ancho de las barras."
   ]
  },
  {
   "cell_type": "code",
   "execution_count": null,
   "metadata": {
    "colab": {
     "base_uri": "https://localhost:8080/",
     "height": 311
    },
    "colab_type": "code",
    "id": "DKzPeZvF37aL",
    "outputId": "f7903b05-a977-480f-ffe3-41d1de9427f1"
   },
   "outputs": [],
   "source": [
    "ax = plt.axes([0.025,0.025,0.95,0.95], polar=True)\n",
    "\n",
    "N = 20\n",
    "theta = np.arange(0.0, 2*np.pi, 2*np.pi/N)\n",
    "radii = 10*np.random.rand(N)\n",
    "width = np.pi/4*np.random.rand(N)\n",
    "bars = plt.bar(theta, radii, width=width, bottom=0.0)\n",
    "\n",
    "for r,bar in zip(radii, bars):\n",
    "    bar.set_facecolor( plt.cm.jet(r/10.))\n",
    "    bar.set_alpha(0.5)\n",
    "\n",
    "ax.set_xticklabels([])\n",
    "ax.set_yticklabels([])\n",
    "# savefig('../figures/polar_ex.png',dpi=48)\n",
    "plt.show()"
   ]
  },
  {
   "cell_type": "markdown",
   "metadata": {
    "colab_type": "text",
    "id": "j5t0QnIT6QSS"
   },
   "source": [
    "### 3D\n",
    "\n",
    "Se genera una función multivariable (en tres dimensiones) a partir de dos arreglos x, y, dada por: \n",
    "$f(x,y) = sin(\\sqrt{(x^2 + y ^2)})$\n",
    "\n",
    "`ax.plot_surface(X, Y, Z, rstride=1, cstride=1, cmap=plt.cm.hot)`\n",
    "\n",
    "* `rstride, cstride`: espaciado del cuadriculado en los ejes del plano.\n",
    "* `cmap`: mapa decolores\n",
    "\n",
    "`ax.contourf(X, Y, Z, zdir='z', offset=-2, cmap=plt.cm.hot)`\n",
    "* `zdir`: dirección de la proyección.\n",
    "* `offset`: nivel en y de la proyección.\n",
    "* `cmap`: mapa de colores\n",
    "```"
   ]
  },
  {
   "cell_type": "code",
   "execution_count": null,
   "metadata": {
    "colab": {
     "base_uri": "https://localhost:8080/",
     "height": 319
    },
    "colab_type": "code",
    "id": "rG5Lcueo6Koq",
    "outputId": "0a1421a8-72f0-4e02-c5d1-3d7601d43cde"
   },
   "outputs": [],
   "source": [
    "from mpl_toolkits.mplot3d import Axes3D\n",
    "\n",
    "fig = plt.figure()\n",
    "ax = Axes3D(fig)\n",
    "X = np.arange(-4, 4, 0.25)\n",
    "Y = np.arange(-4, 4, 0.25)\n",
    "X, Y = np.meshgrid(X, Y)\n",
    "R = np.sqrt(X**2 + Y**2)\n",
    "Z = np.sin(R)\n",
    "\n",
    "ax.plot_surface(X, Y, Z, rstride=1, cstride=1, cmap=plt.cm.hot)\n",
    "ax.contourf(X, Y, Z, zdir='z', offset=-2, cmap=plt.cm.hot)\n",
    "ax.set_zlim(-2,2)\n",
    "\n",
    "# savefig('../figures/plot3d_ex.png',dpi=48)\n",
    "plt.show()"
   ]
  },
  {
   "cell_type": "markdown",
   "metadata": {
    "colab_type": "text",
    "id": "UC_OZGXA6u9s"
   },
   "source": [
    "### Texto\n",
    "\n",
    "Se genera una lista que contiene texto, en particular ecuaciones matemáticas. Se generan tamaños y niveles de transparencias aleatorios.\n",
    "\n",
    "`plt.text(x, y, eq, ha='center', va='center', color=\"#11557c\", alpha=alpha,\n",
    "             transform=plt.gca().transAxes, fontsize=size, clip_on=True)`\n",
    "             \n",
    "* `x`: posición en x.\n",
    "* `y`: posición en y.\n",
    "* `eq`: texto.\n",
    "* `ha`: alineación horizontal.\n",
    "* `va`: alineación vertical.\n",
    "* `color`\n",
    "* `alpha`: nivel de transparencia.\n",
    "* `fontsize`: tamaño de la fuente de texto.\n",
    "\n"
   ]
  },
  {
   "cell_type": "code",
   "execution_count": null,
   "metadata": {
    "colab": {
     "base_uri": "https://localhost:8080/",
     "height": 311
    },
    "colab_type": "code",
    "id": "Ms93Hz426Q6k",
    "outputId": "c8b3892d-e64e-4dab-8080-4aefb6e774a4"
   },
   "outputs": [],
   "source": [
    "eqs = []\n",
    "eqs.append((r\"$W^{3\\beta}_{\\delta_1 \\rho_1 \\sigma_2} = U^{3\\beta}_{\\delta_1 \\rho_1} + \\frac{1}{8 \\pi 2} \\int^{\\alpha_2}_{\\alpha_2} d \\alpha^\\prime_2 \\left[\\frac{ U^{2\\beta}_{\\delta_1 \\rho_1} - \\alpha^\\prime_2U^{1\\beta}_{\\rho_1 \\sigma_2} }{U^{0\\beta}_{\\rho_1 \\sigma_2}}\\right]$\"))\n",
    "eqs.append((r\"$\\frac{d\\rho}{d t} + \\rho \\vec{v}\\cdot\\nabla\\vec{v} = -\\nabla p + \\mu\\nabla^2 \\vec{v} + \\rho \\vec{g}$\"))\n",
    "eqs.append((r\"$\\int_{-\\infty}^\\infty e^{-x^2}dx=\\sqrt{\\pi}$\"))\n",
    "eqs.append((r\"$E = mc^2 = \\sqrt{{m_0}^2c^4 + p^2c^2}$\"))\n",
    "eqs.append((r\"$F_G = G\\frac{m_1m_2}{r^2}$\"))\n",
    "\n",
    "\n",
    "plt.axes([0.025,0.025,0.95,0.95])\n",
    "\n",
    "for i in range(24):\n",
    "    index = np.random.randint(0,len(eqs))\n",
    "    eq = eqs[index]\n",
    "    size = np.random.uniform(12,32)\n",
    "    x,y = np.random.uniform(0,1,2)\n",
    "    alpha = np.random.uniform(0.25,.75)\n",
    "    plt.text(x, y, eq, ha='center', va='center', color=\"#11557c\", alpha=alpha,\n",
    "             transform=plt.gca().transAxes, fontsize=size, clip_on=True)\n",
    "\n",
    "plt.xticks([]), plt.yticks([])\n",
    "# savefig('../figures/text_ex.png',dpi=48)\n",
    "plt.show()"
   ]
  },
  {
   "cell_type": "markdown",
   "metadata": {
    "colab_type": "text",
    "id": "p2bZUtMzmbt5"
   },
   "source": [
    "## Eligiendo colormaps\n",
    "\n",
    "El mejor colormap para un conjunto de datos en particular depende de muchas cosas:\n",
    "\n",
    "- La forma de los datos\n",
    "- Tu conocimiento sobre el conjunto de datos (ejemplo, cuando hay un valor especial en la mitad)\n",
    "- Si hay un esquema de colores intuitivo para los parámetros que estas graficando\n",
    "- Si ya hay una convención en el campo de estudio que la audiencia puede estar esperando\n",
    "\n",
    "### Clases de colormap\n",
    "\n",
    "- **Secuencial**: cambia la lumunosidad y usualmente la saturación del color de forma incremental. Generalmente usando un solo color. Debe usarse para representar información que tiene orden.\n",
    "- **Divergente**: cambia la luminosidad y posiblemente la saturación de dos colores diferentes que se encuentran en el medio como un color sin saturar. Debe usarse cuando la informacion que se grafica tiene un valor medio critico (ejemplo, cuando los datos estan centrados en cero).\n",
    "- **Cuantitativo**: Usualmente son muchos colores, deben usarse para reprecentar informacion que no tienen ningun orden ni relación.\n",
    "\n",
    "### Colormaps en matplotlibs\n",
    "\n",
    "![Uniforme secuencial](https://matplotlib.org/users/plotting/colormaps/lightness_00.png)\n",
    "\n",
    "![Secuenciales](https://matplotlib.org/users/plotting/colormaps/lightness_01.png)\n",
    "\n",
    "![Divergentes](https://matplotlib.org/users/plotting/colormaps/lightness_03.png)\n",
    "\n",
    "![Cuantitativos](https://matplotlib.org/users/plotting/colormaps/lightness_04.png)\n",
    "\n",
    "[Mas info sobre colormaps](https://matplotlib.org/users/colormaps.html)"
   ]
  },
  {
   "cell_type": "markdown",
   "metadata": {
    "colab_type": "text",
    "id": "IVmBSuWyZMrA"
   },
   "source": [
    "## Galería\n",
    "\n",
    "Este es el algoritmo más importante para graficar con matplotlib\n",
    "\n",
    "* Ir a http://matplotlib.org/gallery\n",
    "\n",
    "![](https://i.imgur.com/FWqs7Ev.png)\n",
    "\n",
    "* Elegir el gráfico de ejemplo que más se parezca a lo que queremos lograr\n",
    "* Copiar el código del ejemplo y adaptarlo a nuestros datos y gustos\n"
   ]
  },
  {
   "cell_type": "code",
   "execution_count": null,
   "metadata": {
    "colab": {
     "base_uri": "https://localhost:8080/",
     "height": 269
    },
    "colab_type": "code",
    "id": "aqMsWF7l6waU",
    "outputId": "e271329e-52d9-4f5e-a4c2-89720341dfdd"
   },
   "outputs": [],
   "source": [
    "x = np.linspace(0, 2 * np.pi, 500)\n",
    "y1 = np.sin(x)\n",
    "y2 = np.sin(3 * x)\n",
    "\n",
    "fig, ax = plt.subplots()\n",
    "ax.fill(x, y1, 'b', x, y2, 'r', alpha=0.3)\n",
    "plt.show()"
   ]
  },
  {
   "cell_type": "markdown",
   "metadata": {
    "colab_type": "text",
    "id": "pd5GJoUErg1s"
   },
   "source": [
    "## Seaborn\n",
    "\n",
    "Seaborn es una libreria para hacer graficos estadisticos. Esta construida con matplotlib y esta muy integrada con las estructuras de datos de pandas.\n",
    "\n",
    "[Mas info sobre seaborn](https://seaborn.pydata.org/)\n",
    "\n",
    "Ejemplos: "
   ]
  },
  {
   "cell_type": "code",
   "execution_count": null,
   "metadata": {
    "colab": {
     "base_uri": "https://localhost:8080/",
     "height": 369
    },
    "colab_type": "code",
    "id": "v0zbzscQrhfW",
    "outputId": "e9620a06-37a6-46a5-bec9-3191dcbc1c45"
   },
   "outputs": [],
   "source": [
    "import seaborn as sns\n",
    "\n",
    "tips = sns.load_dataset(\"tips\")\n",
    "sns.relplot(x=\"total_bill\", y=\"tip\", col=\"time\",\n",
    "            hue=\"smoker\", style=\"smoker\", size=\"size\",\n",
    "            data=tips);"
   ]
  },
  {
   "cell_type": "code",
   "execution_count": null,
   "metadata": {
    "colab": {
     "base_uri": "https://localhost:8080/",
     "height": 729
    },
    "colab_type": "code",
    "id": "353uAnfArpkD",
    "outputId": "f8938107-91a5-4323-ba3a-af59c1d07147"
   },
   "outputs": [],
   "source": [
    "iris = sns.load_dataset(\"iris\")\n",
    "sns.pairplot(data=iris, hue=\"species\");"
   ]
  },
  {
   "cell_type": "markdown",
   "metadata": {
    "colab_type": "text",
    "id": "LPYrMrsPbD_B"
   },
   "source": [
    "**EJERCICIO 0**: Graficar la función cuadrática $y = x^2 - 2$ (parábola), y denotar las raíces (cruces por cero de la función) con puntos rojos y el valor de X en cada una y cuadriculado.\n",
    "\n",
    "*  **numpy array**:  `np.arange(start, stop, step)`\n",
    "*  **plot regular**:  `plt.plot(valores_x, valores_y, color='color'`\n",
    "* **cuadriculado**: `plt.grid()`"
   ]
  },
  {
   "cell_type": "code",
   "execution_count": null,
   "metadata": {
    "colab": {},
    "colab_type": "code",
    "id": "xElhJNHZa5Q4"
   },
   "outputs": [],
   "source": []
  },
  {
   "cell_type": "markdown",
   "metadata": {
    "colab_type": "text",
    "id": "6RfEF-HOIDFs"
   },
   "source": [
    "**EJERCICIO 1**: Graficar las funciones  $y = cos(x)$ e $y = seno(x)$  con 256 valores de x entre $-2\\pi$ y $2\\pi$ (inclusive) y con `xticks` en $-\\pi, -\\frac{\\pi}{2}, \\pi, \\frac{\\pi}{2} $ e `yticks` en -1, 0 y 1\n",
    "\n",
    "*  **numpy array equiespaciado**:  `np.linspace(start, top,num=50,endpoint=True)`\n",
    "*  **funciones coseno y seno**:  `np.cos(valores_x)`,  `np.sin(valores_x)`\n",
    "*  **plot regular**:  `plt.plot(valores_x, valores_y, color='color'`\n",
    "* **ticks**:\n",
    "`plt.xticks(lista_valores, lista de strings)`\n",
    "  * r'$\\pi, \\frac{\\pi}{2}$ = `r'$\\pi, \\frac{\\pi}{2}$`"
   ]
  },
  {
   "cell_type": "code",
   "execution_count": null,
   "metadata": {
    "colab": {},
    "colab_type": "code",
    "id": "ayZmRA2YTh04"
   },
   "outputs": [],
   "source": []
  },
  {
   "cell_type": "markdown",
   "metadata": {
    "colab_type": "text",
    "id": "4KVDxIQWfzCD"
   },
   "source": [
    "**EJERCICIO 2**: Dadas las listas `paises`, `continentes`,  `pib_per_capita`, `esperanza_de_vida`, `poblacion`,  plotear círculos en un plano, tal que los valores de `x` correspondan a pib_per_capita, los valores en `y` esperanza_de_vida, el tamaño de los círculos corresponda a la población y los colores al continente. Agregar además leyendas con los nombres de los países sobre los círculos.\n",
    "\n",
    "Muestra:\n",
    "\n",
    "![](https://cdn-images-1.medium.com/max/1200/1*0CjeuX4hjXMdcjtvjf60cQ.png)\n",
    "*Life Expectancy vs Income in the 2015 year. Source: https://www.gapminder.org/downloads/updated-gapminder-world-poster-2015/*\n",
    "\n",
    "*  **plot puntos**: `plt.scatter(valores_x, valores_y, s=tamaño, c=color, alpha=transparencia)`\n",
    "\n",
    "\n",
    "*NOTA*: El objeto `continentes` es del tipo categórico, `continentes.codes`,  retorna una lista de números correspondientes a colores categóricos, agregando a plt.scatter el argumento `cmap=\"Accent\"`, se producen los colores categóricos."
   ]
  },
  {
   "cell_type": "code",
   "execution_count": null,
   "metadata": {
    "colab": {},
    "colab_type": "code",
    "id": "Y7zPaSmgP1JP"
   },
   "outputs": [],
   "source": [
    "# Leemos los datos y lo dejamos en listas\n",
    "\n",
    "import pandas as pd\n",
    "\n",
    "# Read a dataset for life expectancy from a CSV file hosted online\n",
    "url = 'https://python-graph-gallery.com/wp-content/uploads/gapminderData.csv'\n",
    "df = pd.read_csv(url)\n",
    "df = df[df['year'] == 2007]\n",
    "\n",
    "# Usar las siguientes listas para graficar\n",
    "\n",
    "paises = df['country'].tolist()\n",
    "continentes = pd.Categorical(df['continent'])\n",
    "espectativa_de_vida = df['lifeExp'].tolist()\n",
    "gdp_per_cap = df['gdpPercap'].tolist()\n",
    "poblacion = df['pop'].tolist()"
   ]
  },
  {
   "cell_type": "code",
   "execution_count": null,
   "metadata": {
    "colab": {
     "base_uri": "https://localhost:8080/",
     "height": 712
    },
    "colab_type": "code",
    "id": "6JCSMMEVVBtf",
    "outputId": "a35c9251-a9f6-4154-9cde-169ef3989aa9"
   },
   "outputs": [],
   "source": [
    "# printeamos la info de los primeros 5 paises\n",
    "\n",
    "for i in range(5):\n",
    "    print('pais:', paises[i])\n",
    "    print('continente:', continentes[i])\n",
    "    print('espectativa de vida:', espectativa_de_vida[i])\n",
    "    print('producto bruto interto por capitad:', gdp_per_cap[i])\n",
    "    print('poblacion:', poblacion[i])\n",
    "    print('\\n', '-' * 12, '\\n')"
   ]
  },
  {
   "cell_type": "markdown",
   "metadata": {
    "colab_type": "text",
    "id": "dG9cL1_Hb5rj"
   },
   "source": [
    "**EJERCICIO 3**: Construir un gráfico de torta a partir de las siguientes dos listas que corresponden al compuesto y fracción molar de aceite, con porciones de la torta según la fracción y etiquetas de las porciones según el compuesto.\n",
    "\n"
   ]
  },
  {
   "cell_type": "code",
   "execution_count": null,
   "metadata": {
    "colab": {},
    "colab_type": "code",
    "id": "4uOunHr-cAEA"
   },
   "outputs": [],
   "source": [
    "component = ['n2', 'co2', 'c1', 'c2', 'c3', 'c4', 'c5', 'c6', 'c7', 'c7+']\n",
    "mol_fraction = [0.46, 3.36, 62.36, 8.9, 5.31, 3.01, 1.5, 1.05, 2.0, 12.049]\n"
   ]
  },
  {
   "cell_type": "code",
   "execution_count": null,
   "metadata": {
    "colab": {},
    "colab_type": "code",
    "id": "xXflpnIQdCir"
   },
   "outputs": [],
   "source": []
  },
  {
   "cell_type": "markdown",
   "metadata": {
    "colab_type": "text",
    "id": "xfFWmoJEdt_S"
   },
   "source": [
    "**EJERCICIO 4**: Basado en el ejemplo de [wireframe 3D](https://matplotlib.org/examples/mplot3d/wire3d_demo.html), graficar $z=x·e^{−(x^2+y^2)}$ con $x,y$ entre $[−2,2]$ con una resolución de 100 puntos en cada eje."
   ]
  },
  {
   "cell_type": "code",
   "execution_count": null,
   "metadata": {
    "colab": {},
    "colab_type": "code",
    "id": "_U7l_IThe1Kl"
   },
   "outputs": [],
   "source": []
  }
 ],
 "metadata": {
  "colab": {
   "collapsed_sections": [],
   "name": "matplotlib.ipynb",
   "provenance": [],
   "version": "0.3.2"
  },
  "kernelspec": {
   "display_name": "Python 3",
   "language": "python",
   "name": "python3"
  },
  "language_info": {
   "codemirror_mode": {
    "name": "ipython",
    "version": 3
   },
   "file_extension": ".py",
   "mimetype": "text/x-python",
   "name": "python",
   "nbconvert_exporter": "python",
   "pygments_lexer": "ipython3",
   "version": "3.7.3"
  }
 },
 "nbformat": 4,
 "nbformat_minor": 2
}
