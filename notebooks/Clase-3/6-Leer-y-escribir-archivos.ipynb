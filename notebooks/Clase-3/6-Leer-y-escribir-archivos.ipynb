{
 "cells": [
  {
   "cell_type": "markdown",
   "metadata": {
    "colab_type": "text",
    "id": "CvUJqO0UHG7o"
   },
   "source": [
    "## Formating\n",
    "\n",
    "A veces queremos tener más control sobre lo que mostramos"
   ]
  },
  {
   "cell_type": "markdown",
   "metadata": {
    "colab_type": "text",
    "id": "mxAZqtrXHG7x"
   },
   "source": [
    "### Literal"
   ]
  },
  {
   "cell_type": "code",
   "execution_count": null,
   "metadata": {
    "colab": {},
    "colab_type": "code",
    "id": "yH3sThGkHG71"
   },
   "outputs": [],
   "source": [
    "from math import pi\n",
    "\n",
    "sentido0 = 'vida'\n",
    "sentido1 = 'el universo'\n",
    "sentido2 = 'todo lo demás'\n",
    "respuesta = 42"
   ]
  },
  {
   "cell_type": "code",
   "execution_count": null,
   "metadata": {
    "colab": {
     "base_uri": "https://localhost:8080/",
     "height": 69
    },
    "colab_type": "code",
    "executionInfo": {
     "elapsed": 1346,
     "status": "ok",
     "timestamp": 1558219927293,
     "user": {
      "displayName": "Lucas Esequiel Bellomo",
      "photoUrl": "https://lh6.googleusercontent.com/-uF9ytkSgKHc/AAAAAAAAAAI/AAAAAAAAAAA/4SAnhbOQ6sE/s64/photo.jpg",
      "userId": "10573349173953555129"
     },
     "user_tz": 180
    },
    "id": "3zJVpL3CHG8E",
    "outputId": "b5b0202c-abd9-4c19-c3e7-76ceb8d47a2d"
   },
   "outputs": [],
   "source": [
    "print(f'La repuesta a el sentido de la {sentido0}, {sentido1} y {sentido2} es {respuesta}')\n",
    "print(f'Podemos poner pi {pi}\\nY pi solo con 2 decimales: {pi:.2f}')"
   ]
  },
  {
   "cell_type": "markdown",
   "metadata": {
    "colab_type": "text",
    "id": "Do6X3WeeHG8V"
   },
   "source": [
    "### Metodo format() "
   ]
  },
  {
   "cell_type": "code",
   "execution_count": null,
   "metadata": {
    "colab": {
     "base_uri": "https://localhost:8080/",
     "height": 69
    },
    "colab_type": "code",
    "executionInfo": {
     "elapsed": 870,
     "status": "ok",
     "timestamp": 1558220655769,
     "user": {
      "displayName": "Lucas Esequiel Bellomo",
      "photoUrl": "https://lh6.googleusercontent.com/-uF9ytkSgKHc/AAAAAAAAAAI/AAAAAAAAAAA/4SAnhbOQ6sE/s64/photo.jpg",
      "userId": "10573349173953555129"
     },
     "user_tz": 180
    },
    "id": "14-HRAV1HG8Z",
    "outputId": "3ca55908-485f-47e9-ed5a-5f0a737c0892"
   },
   "outputs": [],
   "source": [
    "print('La repuesta a el sentido de la {0}, {1} y {2} es {3}'.format('vida', 'el universo', 'todo lo demás', respuesta))\n",
    "print('Podemos poner pi {0}\\nY pi solo con 2 decimales: {1:0.2f}'.format(pi, pi))"
   ]
  },
  {
   "cell_type": "markdown",
   "metadata": {},
   "source": [
    "### Forma vieja"
   ]
  },
  {
   "cell_type": "code",
   "execution_count": null,
   "metadata": {},
   "outputs": [],
   "source": [
    "# La invencion de morel. A.B.C.\n",
    "lugar = 'isla'\n",
    "estacion = 'verano'\n",
    "print('Hoy, en esta %s, ha ocurrido un milagro. El %s se adelantó.' % (lugar, estacion))"
   ]
  },
  {
   "cell_type": "markdown",
   "metadata": {
    "colab_type": "text",
    "id": "rkErROkjHG8t"
   },
   "source": [
    "## Leer y escribir archivos\n",
    "\n",
    "`open(archivo, modo)`\n",
    "\n",
    "Modos de los archivos (por defecto son de sólo lectura y texto):\n",
    "\n",
    "- 'r': Solo lectura (default)\n",
    "- 'w': Solo escritura (Si el archivo existe, lo deja en blanco).\n",
    "- 'x': Solo escritura, exclusivo para archivos que no existen.\n",
    "- 'a': Agregar al final.\n",
    "- 'b': Modo binario.\n",
    "- 't': Modo texto (default)\n",
    "- '+': Actualizar el contenido.\n",
    "\n",
    "Los archivos tienen un caracter especial (llamado EOF) al final indicando que se terminó el archivo.\n",
    "\n",
    "- `write()` escribe el archivo. Primero necesitamos abrir el archivo con un modo que nos permita escribir. También nos tenemos que asegurar que el objeto que le pasamos por parámetro sea `str`. Devuelve la cantidad de caracteres escritos.\n",
    "- `read()` lee hasta el final del archivo. Devuelve string con el texto.\n",
    "- `readline()` lee hasta un salto de linea o el final del archivo. Devuelve string con la linea\n",
    "\n",
    "Los archivos tienen un cursor interno, con la posicion en la que estan.\n",
    "\n",
    "Por último siempre hay que recordar cerrar los archivos con `close()`. Si no se hace, pueden pasar cosas malas (archivos a medio escribir/corruptos, memory leaks)"
   ]
  },
  {
   "cell_type": "code",
   "execution_count": null,
   "metadata": {
    "colab": {},
    "colab_type": "code",
    "id": "GOjH6m-aHG8v",
    "outputId": "e7820bbd-6b9a-48f0-8338-ff08dd97298e"
   },
   "outputs": [],
   "source": [
    "texto = '''Linea 0\n",
    "Linea 1\\nLinea 2'''\n",
    "\n",
    "f = open('poema.txt', 'w')            # Lo abrimos en modo escritura y texto (implicito).\n",
    "f.write(texto)                        # Nos devuelve la cantidad de caracteres escritos. "
   ]
  },
  {
   "cell_type": "code",
   "execution_count": null,
   "metadata": {
    "colab": {},
    "colab_type": "code",
    "id": "DHuRlAg9HG8-"
   },
   "outputs": [],
   "source": [
    "f.write('\\n\\nLinea 4. Me falta la linea 3!')        # Podemos seguir metiendo cosas\n",
    "f.close()                                           # SIEMPRE tenemos que cerrar los archivos."
   ]
  },
  {
   "cell_type": "code",
   "execution_count": null,
   "metadata": {
    "colab": {},
    "colab_type": "code",
    "id": "g8cwvKanHG9M",
    "outputId": "86eecf39-71a9-464b-a775-b48f2c1020ed"
   },
   "outputs": [],
   "source": [
    "f.write('En archivo cerrado no entran strings...')  # Nos da un error si intentamos escribir un archivo cerrado.   "
   ]
  },
  {
   "cell_type": "code",
   "execution_count": null,
   "metadata": {},
   "outputs": [],
   "source": [
    "from os import listdir  \n",
    "\n",
    "listdir()  # Miramos los archivos en la carpeta"
   ]
  },
  {
   "cell_type": "code",
   "execution_count": null,
   "metadata": {
    "colab": {},
    "colab_type": "code",
    "id": "FADEKlSMHG9b",
    "outputId": "8de4b7b7-1f3c-48c6-815b-a75c5c8863e3"
   },
   "outputs": [],
   "source": [
    "f = open('poema.txt')  # Por defecto los modos 'rt' (solo lectura y texto)\n",
    "linea = f.readline()   # Solo una linea"
   ]
  },
  {
   "cell_type": "code",
   "execution_count": null,
   "metadata": {},
   "outputs": [],
   "source": [
    "linea"
   ]
  },
  {
   "cell_type": "code",
   "execution_count": null,
   "metadata": {},
   "outputs": [],
   "source": [
    "linea.split()[0].upper()  # Lo que leemos son strings, y podemos operarlos como tal"
   ]
  },
  {
   "cell_type": "code",
   "execution_count": null,
   "metadata": {
    "colab": {},
    "colab_type": "code",
    "id": "WcKH11cuHG9u",
    "outputId": "1f30d840-2c5f-4539-ac7c-3c531ad2356a"
   },
   "outputs": [],
   "source": [
    "f.read()         # El resto del archivo"
   ]
  },
  {
   "cell_type": "code",
   "execution_count": null,
   "metadata": {
    "colab": {},
    "colab_type": "code",
    "id": "qUqMRmShHG94",
    "outputId": "17303e59-ba10-41f5-bbd7-b273b4d9c569"
   },
   "outputs": [],
   "source": [
    "f.read()         # Si no queda nada devuelve el string vacio."
   ]
  },
  {
   "cell_type": "markdown",
   "metadata": {},
   "source": [
    "Las archivos cuando se abren tienen un cursor interno, que guarda la posicion desde se esta leyendo/escribiendo.  "
   ]
  },
  {
   "cell_type": "code",
   "execution_count": null,
   "metadata": {
    "colab": {},
    "colab_type": "code",
    "id": "PhSRBLGdHG-E",
    "outputId": "1198f5d2-e767-498e-fd22-b338b78bb024"
   },
   "outputs": [],
   "source": [
    "f.tell()         # Preguntamos la posición en la que estamos"
   ]
  },
  {
   "cell_type": "code",
   "execution_count": null,
   "metadata": {
    "colab": {},
    "colab_type": "code",
    "id": "nvGE2-F2HG-S",
    "outputId": "faa0e4cf-2d72-462a-d84a-6856deecc0d6"
   },
   "outputs": [],
   "source": [
    "f.seek(0)        # Volvemos al principio \n",
    "print(f.read())  # printeamos el archivo completo\n",
    "f.close()        # Siempre recordamos cerrar los archivos"
   ]
  },
  {
   "cell_type": "markdown",
   "metadata": {
    "colab_type": "text",
    "id": "7c6R5xlFHG-i"
   },
   "source": [
    "Es buena practica usar el `with` cuando se maneja archivos. Se asegura que el archivo se cierre apropiadamente:"
   ]
  },
  {
   "cell_type": "code",
   "execution_count": null,
   "metadata": {
    "colab": {},
    "colab_type": "code",
    "id": "q6_kdO2hHG-l",
    "outputId": "f81c9a56-a76e-4060-9f9c-80fabe9c8764"
   },
   "outputs": [],
   "source": [
    "with open('poema.txt') as f:  # Al salir de este bloque el archivo se va cerrar         \n",
    "    print(f.readline(), end='')\n",
    "    f.write('ERROR!')         # Forzamos un error\n",
    "    print(f.readline(), end='')"
   ]
  },
  {
   "cell_type": "code",
   "execution_count": null,
   "metadata": {
    "colab": {},
    "colab_type": "code",
    "id": "Vvd4puwcHG_B",
    "outputId": "2f8c3bf9-4c15-48ca-8467-66dcfb068094"
   },
   "outputs": [],
   "source": [
    "f.closed  # El archivo esta cerrado"
   ]
  },
  {
   "cell_type": "markdown",
   "metadata": {},
   "source": [
    "Podemos iterar un archivo abierto. Es la forma mas sencilla de recorrerlo por líneas:"
   ]
  },
  {
   "cell_type": "code",
   "execution_count": null,
   "metadata": {
    "colab": {},
    "colab_type": "code",
    "id": "45D8AT6lHG_Y",
    "outputId": "f046cc58-2f96-4e5f-bfd8-d3bfa5ba06ef"
   },
   "outputs": [],
   "source": [
    "with open('poema.txt') as f:\n",
    "    for linea in f:  # Me lo lee directamente por líneas al iterarlo\n",
    "        print(linea, end='')  # Sacamos el '\\n' del print para no poner de mas"
   ]
  },
  {
   "cell_type": "markdown",
   "metadata": {
    "colab_type": "text",
    "id": "QPZLZ8PJHG_6"
   },
   "source": [
    "Lo anterior levanta el archivo completo en memoria. Si el archivo es grande (varios Gb) podemos hacer algo más eficiente y leer línea por línea.  \n",
    "Para eso podemos usar `enumerate()`\n",
    "\n"
   ]
  },
  {
   "cell_type": "markdown",
   "metadata": {},
   "source": [
    "`enumerate` enumera lo que iteremos: le asigna 0 al primero, 1 al segundo..."
   ]
  },
  {
   "cell_type": "code",
   "execution_count": null,
   "metadata": {
    "colab": {},
    "colab_type": "code",
    "id": "yazfjQAJHHAF",
    "outputId": "b12642bf-88f2-444a-b730-843127f20020"
   },
   "outputs": [],
   "source": [
    "with open('poema.txt') as f:\n",
    "    for i, linea in enumerate(f):\n",
    "        if i % 2 == 0:  # printeamos sólo las lineas pares\n",
    "            print(linea)"
   ]
  },
  {
   "cell_type": "markdown",
   "metadata": {},
   "source": [
    "Cuidado con el modo 'w': si el archivo existe hace \"borrón y archivo nuevo\"."
   ]
  },
  {
   "cell_type": "code",
   "execution_count": null,
   "metadata": {},
   "outputs": [],
   "source": [
    "with open('poema.txt', 'r') as f:\n",
    "    print('No hacemos nada, solo lo abrimos com modo \"write\"')"
   ]
  },
  {
   "cell_type": "code",
   "execution_count": null,
   "metadata": {},
   "outputs": [],
   "source": [
    "with open('poema.txt') as f:\n",
    "    text = f.read() # Tenemos un archivo vacío!\n",
    "\n",
    "print(text)"
   ]
  },
  {
   "cell_type": "markdown",
   "metadata": {},
   "source": [
    "Solucion:\n",
    "- el modo 'a': para agregar al final\n",
    "- el modo 'r+': para actualizar el archivo"
   ]
  },
  {
   "cell_type": "code",
   "execution_count": null,
   "metadata": {},
   "outputs": [],
   "source": [
    "with open('test.txt', 'w') as f:\n",
    "    f.write(text)\n",
    "    \n",
    "with open('test.txt') as f:\n",
    "    text = f.read()\n",
    "    \n",
    "print(text)    \n",
    "\n",
    "with open('test.txt', 'a') as f:\n",
    "    f.write('\\nTenemos nuevas sorpresas al final del archivo')\n",
    "\n",
    "print('-'*6)\n",
    "print('Escribimos cosas al final del archivo:\\n')\n",
    "print('-'*6)\n",
    "\n",
    "with open('test.txt') as f:\n",
    "    text = f.read()\n",
    "    \n",
    "print(text)    \n",
    "\n",
    "with open('test.txt', 'r+') as f:\n",
    "    f.write('Pisamos los primeros caracteres')\n",
    "\n",
    "print('-'*6)    \n",
    "print('Ahora metemos cosas al principio\\n')\n",
    "print('-'*6)\n",
    "    \n",
    "with open('test.txt') as f:\n",
    "    text = f.read()\n",
    "    \n",
    "print(text)"
   ]
  },
  {
   "cell_type": "markdown",
   "metadata": {},
   "source": [
    "**Ejemplo** Si queremos cuantizar que tan largo es guerra y paz, podemos contar cuantos caracteres, palabra y lineas tiene:"
   ]
  },
  {
   "cell_type": "code",
   "execution_count": null,
   "metadata": {},
   "outputs": [],
   "source": [
    "caracteres = 0\n",
    "palabras = 0\n",
    "lineas = 0\n",
    "\n",
    "with open('Guerra y paz - Lev Nikolaievich Tolstoi.txt') as f:\n",
    "    for linea in f:\n",
    "        if not linea:  # No contamos las lineas vacias\n",
    "            continue  # continue salta a la proxima iteracion\n",
    "            \n",
    "        caracteres += len(linea)\n",
    "        palabras += len(linea.split())\n",
    "        lineas += 1\n",
    "        \n",
    "print(f'Guerra y paz tiene {caracteres} caracteres, {palabras} palabras, y {lineas} lineas')"
   ]
  },
  {
   "cell_type": "markdown",
   "metadata": {
    "colab_type": "text",
    "id": "nSCzv9YDNN9G"
   },
   "source": [
    "**EJERCICIO 41**: Escriba una función que, dada la ruta de un archivo de texto, escriba otro archivo con igual nombre pero precedido por el prefijo \"upper_\" cuyo contenido es el del original, pero en mayúscula."
   ]
  },
  {
   "cell_type": "code",
   "execution_count": null,
   "metadata": {},
   "outputs": [],
   "source": []
  }
 ],
 "metadata": {
  "colab": {
   "collapsed_sections": [],
   "name": "6-Leer-y-escribir-archivos.ipynb",
   "provenance": [],
   "version": "0.3.2"
  },
  "kernelspec": {
   "display_name": "Python 3",
   "language": "python",
   "name": "python3"
  },
  "language_info": {
   "codemirror_mode": {
    "name": "ipython",
    "version": 3
   },
   "file_extension": ".py",
   "mimetype": "text/x-python",
   "name": "python",
   "nbconvert_exporter": "python",
   "pygments_lexer": "ipython3",
   "version": "3.7.3"
  }
 },
 "nbformat": 4,
 "nbformat_minor": 2
}
