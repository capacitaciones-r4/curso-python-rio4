{
 "cells": [
  {
   "cell_type": "markdown",
   "metadata": {},
   "source": [
    "# Repaso funciones, clases y objetos\n",
    "\n",
    "## Funciones\n",
    "\n",
    "### Definición\n",
    "\n",
    "Para definir una función se usa `def`:\n",
    "\n",
    "```python\n",
    "def nombre_funcion(argumento0, argumento1):\n",
    "    \"\"\"Documentacion de la función (docstring).\"\"\"\n",
    "    # Cuerpo de la funcion. \n",
    "    Acá hacemos las cosas\n",
    "```\n",
    "La estructura es (en órden):\n",
    "- La palabra **`def`.**\n",
    "- **Nombre** de la función.\n",
    "- Entre paréntesis los **argumentos** (podría no tener argumentos) y luego de cerrar el paréntesis dos puntos `:`.\n",
    "- *Opcional*: la primera línea puede ser un string, que es la documentacion de la función (docstring).\n",
    "- El cuerpo de la función, el **código** en si.\n",
    "- Puede terminar con `return`, luego de esta palabra reservada, se especifica **qué devuelve la función**.  "
   ]
  },
  {
   "cell_type": "markdown",
   "metadata": {},
   "source": [
    "**EJERCICIO 36**: Crear una función que, dado un número, retorne `True` si el mismo es primo o `False` si no lo es. Por ejemplo, `es_primo(2)` retorna `False`, mientras que `es_primo(11)` retorna `True`.\n",
    "\n",
    "*NOTA*: Un número primo es divisible sólo por 1 y por el mismo, para cualquier otro número, el resto de la división es distinta de cero *(1 no es primo)*."
   ]
  },
  {
   "cell_type": "code",
   "execution_count": null,
   "metadata": {},
   "outputs": [],
   "source": []
  },
  {
   "cell_type": "markdown",
   "metadata": {},
   "source": [
    "**EJERCICIO 37**: Crear una función que reciba por parámetro dos `strings` con nombres de colores primarios, y retorne otro string con el color correspondiente a su combinación, por ejemplo: `combinar_colores('verde', 'rojo')` retorna `amarillo`. Si los parámetros de entrada no son colores primarios retornar un mensaje de error por pantalla.\n",
    "\n",
    "![](https://proxy.duckduckgo.com/iu/?u=https%3A%2F%2Ftse4.mm.bing.net%2Fth%3Fid%3DOIP.YNi5bbRcdiQkx3Fy3s2sHAAAAA%26pid%3DApi&f=1)"
   ]
  },
  {
   "cell_type": "code",
   "execution_count": null,
   "metadata": {},
   "outputs": [],
   "source": []
  },
  {
   "cell_type": "markdown",
   "metadata": {},
   "source": [
    "**EJERCICIO 38**: Dada la clase `Personaje`, examinar sus atributos y métodos, crear dos personajes de dicha clase, por ejemplo `monstruo` y `heroe`, con sus respectivos nombres, opcional vida y daño. Explorar los atributos, y jugar con los métodos atacar y curar hasta que uno de ellos muera."
   ]
  },
  {
   "cell_type": "code",
   "execution_count": 35,
   "metadata": {},
   "outputs": [],
   "source": [
    "from random import randint"
   ]
  },
  {
   "cell_type": "code",
   "execution_count": 117,
   "metadata": {},
   "outputs": [],
   "source": [
    "class Personaje:\n",
    "    \"\"\"\n",
    "    Clase para crear objetos de personajes de video juegos\n",
    "    se debe especificar un nombre, vida (por defecto 100)\n",
    "    y daño (por defecto 10).\n",
    "    \"\"\"\n",
    "    def __init__(self, nombre, vida=100, daño=10):\n",
    "        self.nombre = nombre\n",
    "        self.vida = vida\n",
    "        self.daño = daño\n",
    " \n",
    "    def atacar(self, enemigo):\n",
    "        \"\"\"\n",
    "        Modifica la vida de un objeto de la clase Personaje\n",
    "        restando la cantidad de daño.\n",
    "        \"\"\"\n",
    "        daño_random = randint(self.daño//2, self.daño+self.daño//2)\n",
    "        enemigo.vida -= daño_random\n",
    "        print(self.nombre + ' atacó a ' + enemigo.nombre)\n",
    "        print('Vida restante de ' + enemigo.nombre + ': ' + str(enemigo.vida) + '/100')\n",
    "        if enemigo.vida <= 0:\n",
    "            print(self.nombre + ' mató a ' + enemigo.nombre)\n",
    "\n",
    "    def curar(self):\n",
    "        \"\"\"\n",
    "        Modifica la cantidad de vida propia, aumentando 5 cada vez.\n",
    "        \"\"\"\n",
    "        if self.vida > 0:\n",
    "            self.vida += 10\n",
    "            print(self.nombre + ' se curó')\n",
    "            print('Vida restante de ' + self.nombre + ': ' + str(self.vida) + '/100')\n",
    "        else:\n",
    "            print(self.nombre + ' está muerto')"
   ]
  },
  {
   "cell_type": "code",
   "execution_count": null,
   "metadata": {},
   "outputs": [],
   "source": []
  },
  {
   "cell_type": "code",
   "execution_count": null,
   "metadata": {},
   "outputs": [],
   "source": []
  },
  {
   "cell_type": "markdown",
   "metadata": {},
   "source": [
    "**EJERCICIO 39** *(opcional)*: Crear una función que, llame a la anterior para cada número de una lista dada, y devuelva otra lista con booleanos según si los números son primos o no. Por ejemplo: `son_primos([11, 4, 3, 22])` retorna `[True, False, True, False]`"
   ]
  },
  {
   "cell_type": "code",
   "execution_count": null,
   "metadata": {},
   "outputs": [],
   "source": []
  },
  {
   "cell_type": "markdown",
   "metadata": {},
   "source": [
    "**EJERCICIO 40** *(opcional)*: Si listamos todos los números naturales menores a 10 que son múltiplos de 3 o de 5, tenemos 3, 5, 6 y 9. La suma de esos múltuplos es 23. Crear una función para encontrar la suma de todos los múltiplos de 3 o 5 menores a un número dado."
   ]
  },
  {
   "cell_type": "code",
   "execution_count": null,
   "metadata": {},
   "outputs": [],
   "source": []
  }
 ],
 "metadata": {
  "kernelspec": {
   "display_name": "Python 3",
   "language": "python",
   "name": "python3"
  },
  "language_info": {
   "codemirror_mode": {
    "name": "ipython",
    "version": 3
   },
   "file_extension": ".py",
   "mimetype": "text/x-python",
   "name": "python",
   "nbconvert_exporter": "python",
   "pygments_lexer": "ipython3",
   "version": "3.7.3"
  }
 },
 "nbformat": 4,
 "nbformat_minor": 2
}
