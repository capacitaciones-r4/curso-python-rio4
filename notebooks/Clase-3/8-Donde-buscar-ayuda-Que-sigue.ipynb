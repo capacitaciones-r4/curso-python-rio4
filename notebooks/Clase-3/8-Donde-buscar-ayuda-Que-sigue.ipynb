{
 "cells": [
  {
   "cell_type": "markdown",
   "metadata": {},
   "source": [
    "# Dónde buscar ayuda\n",
    "\n",
    "## Información, documentación, tutoriales\n",
    "\n",
    "Para profundizar en la programación con Python, para resolver consultas o dudas puntuales, para aprender sobre una nueva biblioteca, se recomienda consultar siempre **la documentación oficial** de Python:\n",
    "\n",
    "* [Documentación oficial de Python en Inglés](https://docs.python.org/3/)\n",
    "* [Tutorial PyAR en español](http://docs.python.org.ar/tutorial/3/index.html)\n",
    "\n",
    "Se recomiendan además algunos tutoriales de buena calidad:\n",
    "\n",
    "* [Python para todos](http://mundogeek.net/tutorial-python/)\n",
    "* [Curso Python científico de Martín Gaitan (repo)](https://github.com/mgaitan/curso-python-cientifico)\n",
    "\n",
    "Cuando se trate de una biblioteca o paquete en particular, acudir siempre al **sitio web oficial de la biblioteca**, a la documentación oficial en [readthedocs](https://readthedocs.org/) o al repo oficial en [Github](https://github.com/).\n",
    "\n",
    "* En [Stackoverflow](https://stackoverflow.com/questions/tagged/python) se pueden encontrar preguntas, respuestas, soluciones, código, proyectos, comunidades, trabajos. En Stack están los desarrolladores de las bibliotecas de Python, los principiantes, los intermedios, los aficionados.\n",
    "\n",
    "* O'reilly\n",
    "\n",
    "![](https://proxy.duckduckgo.com/iu/?u=http%3A%2F%2Fakamaicovers.oreilly.com%2Fimages%2F9780596158118%2Fcat.gif&f=1)\n",
    "\n",
    "**OJO**, Python 2 ya no existe.\n",
    "\n",
    "**\n",
    "\n",
    "## Comunidad\n",
    "\n",
    "La comunidad de Python está en muchos lugares del mundo, [PythonArgentina](http://www.python.org.ar/) aloja la de nuestro país y ofrece:\n",
    "\n",
    "* [Tutoriales](http://www.python.org.ar/aprendiendo-python/).\n",
    "* [Lista de correo](http://www.python.org.ar/lista/).\n",
    "* [Proyectos](http://www.python.org.ar/wiki/Proyectos).\n",
    "* [Bolsa de trabajo](http://www.python.org.ar/trabajo/).\n",
    "* [Eventos](http://www.python.org.ar/eventos/).\n",
    "* [Grupo de Telegram PyAr](https://t.me/pythonargentina)\n"
   ]
  },
  {
   "cell_type": "markdown",
   "metadata": {},
   "source": [
    "# Qué sigue\n",
    "\n",
    "Habiendo sentado las bases de programación y de Python, el próximo paso aplicar todo lo aprendido, iniciar un proyecto con estas herramientas, seguir aprendiendo.\n",
    "\n",
    "Migrar del software que usamos actualmente a Python de a poco, evaluar las ventajas, desventajas, rendimiento, etc.\n",
    "\n",
    "## ¡Crear comunidad!\n",
    "\n",
    "A pesar de la popularidad de Python, la ciudad de Río Cuarto no cuenta con una comunidad, las acciones que se requieren para sentar precedentes, impulsar encuentros, eventos, talleres, meetups, espacios de formación y de intercambio, tienen que ver con la **creación de una comunidad local**.\n",
    "\n",
    "* [Grupo de Telegram PyR4](https://t.me/PythonRioCuarto).\n",
    "* [Lista de correo](https://groups.google.com/forum/#!forum/pythonrocuarto)."
   ]
  },
  {
   "cell_type": "markdown",
   "metadata": {},
   "source": [
    "# Optativas\n",
    "\n",
    "* **Matplotlib**\n",
    "* **Pandas**"
   ]
  },
  {
   "cell_type": "code",
   "execution_count": null,
   "metadata": {},
   "outputs": [],
   "source": []
  }
 ],
 "metadata": {
  "kernelspec": {
   "display_name": "Python 3",
   "language": "python",
   "name": "python3"
  },
  "language_info": {
   "codemirror_mode": {
    "name": "ipython",
    "version": 3
   },
   "file_extension": ".py",
   "mimetype": "text/x-python",
   "name": "python",
   "nbconvert_exporter": "python",
   "pygments_lexer": "ipython3",
   "version": "3.7.3"
  }
 },
 "nbformat": 4,
 "nbformat_minor": 2
}
