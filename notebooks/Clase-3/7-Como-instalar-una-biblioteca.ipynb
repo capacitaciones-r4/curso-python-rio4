{
 "cells": [
  {
   "cell_type": "markdown",
   "metadata": {
    "colab_type": "text",
    "id": "_Cng90obWLuA"
   },
   "source": [
    "# Cómo instalar una biblioteca en Python\n",
    "\n",
    "Una biblioteca o `módulo` en Python, es una porción de código a la que se puede instanciar para usar. Puede ser una función o un conjunto de ellas. Esto permite reutilizar código, para abordar el tema se presenta el siguiente ejemplo:"
   ]
  },
  {
   "cell_type": "code",
   "execution_count": null,
   "metadata": {
    "colab": {},
    "colab_type": "code",
    "id": "TjrBSyBCXE2f"
   },
   "outputs": [],
   "source": [
    "def calculo_raices(a, b=0, c=0):\n",
    "    \"\"\"\n",
    "    Dados los coeficientes de una cuadrática,\n",
    "    calcula los valores de x tal que \n",
    "    ax^2 + bx + c = 0\n",
    "    \"\"\"\n",
    "\n",
    "    discriminante = ( b ** 2 - 4 * a * c) ** 1/2\n",
    "    x1 = (-b + discriminante) / (2 * a)\n",
    "    x2 = (-b - discriminante) / (2 * a)\n",
    "    return (x1, x2)"
   ]
  },
  {
   "cell_type": "markdown",
   "metadata": {
    "colab_type": "text",
    "id": "a0U38a3IXMuH"
   },
   "source": [
    "Dicha porción de código puede ser *reutilizada* muchas veces en uno o más programas, se almacena en un archivo de extensión `.py` a modo de `módulo` o `biblioteca`, que puede ser instanciada desde cualquier script de Python."
   ]
  },
  {
   "cell_type": "code",
   "execution_count": null,
   "metadata": {
    "colab": {},
    "colab_type": "code",
    "id": "Q3HEF07dXPKF"
   },
   "outputs": [],
   "source": [
    "%%writefile cuadratica.py\n",
    "\n",
    "def calculo_raices(a, b=0, c=0):\n",
    "    \"\"\"\n",
    "    dados los coeficientes de una cuadrática,\n",
    "    calcula los valores de x tal que \n",
    "    ax^2 + bx + c = 0\n",
    "    \"\"\"\n",
    "\n",
    "    discriminante = ( b ** 2 - 4 * a * c) ** 0.5\n",
    "    x1 = (-b + discriminante) / (2 * a)\n",
    "    x2 = (-b - discriminante) / (2 * a)\n",
    "    return (x1, x2)"
   ]
  },
  {
   "cell_type": "markdown",
   "metadata": {
    "colab_type": "text",
    "id": "p7YgZSrbYNiA"
   },
   "source": [
    "*Ir a notebook  7.1*"
   ]
  },
  {
   "cell_type": "markdown",
   "metadata": {
    "colab_type": "text",
    "id": "mZpFPmGRYAMG"
   },
   "source": [
    "Se abordan las opciones que existen para instalar y usar bibliotecas oficiales."
   ]
  },
  {
   "cell_type": "markdown",
   "metadata": {
    "colab_type": "text",
    "id": "sxR14T_wV_H0"
   },
   "source": [
    "## Gestores de paquetes para Python\n",
    "\n",
    "Existen incontables bibliotecas para Python además de las estándar, según la naturaleza del proyecto en el que se trabaje, se requerirán algunas u otras.\n",
    "\n",
    "* **pip**: Python cuenta con una herramienta denominada `pip` para *instalar, actualizar y eliminar* paquetes o librerías, del mismo modo que el *\"AppStore\"* del celu o el *\"Centro de software\"*. Por defecto pip instala paquetes que viven en [pypi](https://pypi.org/).\n",
    "\n",
    "* **conda**: Conda es un gestor de paquetes y un sistema de gestión de entornos, posee varios canales para búsqueda de paquetes en repositorios, jerárquicos y específicos como *conda-forge*.\n",
    "    * conda puede instalar y gestionar bibliotecas que no sean de Python."
   ]
  },
  {
   "cell_type": "markdown",
   "metadata": {
    "colab_type": "text",
    "id": "nnNB_ntrV_H_"
   },
   "source": [
    "## pip\n",
    "\n",
    "Para usar pip se emplea la siguiente sintaxis, en la línea de comandos (siempre que Python se encuentre instalado en el sistema o entornovirtual):\n",
    "\n",
    "`pip <pip arguments>`\n",
    "\n",
    "Si el comando `pip` no es reconocido por la línea de comandos, se le especifica ejecutarlo con el intérprete de Python *(generlamente sucede en Windows)*:\n",
    "\n",
    "`python -m pip <pip arguments>`\n",
    "\n",
    "`py -m pip <pip arguments>`"
   ]
  },
  {
   "cell_type": "markdown",
   "metadata": {
    "colab_type": "text",
    "id": "H9gd5eamV_IF"
   },
   "source": [
    "### Beautiful Soup\n",
    "\n",
    "[BeautifulSoup](https://www.crummy.com/software/BeautifulSoup/bs4/doc/) es una biblioteca que permite trabajar de forma amigable con contenido HTML, parsearlo y mostrarlo de la forma correcta, entre otras cosas."
   ]
  },
  {
   "cell_type": "code",
   "execution_count": null,
   "metadata": {
    "colab": {},
    "colab_type": "code",
    "id": "4xeJOrm2V_IK"
   },
   "outputs": [],
   "source": [
    "import bs4"
   ]
  },
  {
   "cell_type": "code",
   "execution_count": null,
   "metadata": {
    "colab": {},
    "colab_type": "code",
    "id": "j6nuJnmbV_Ih"
   },
   "outputs": [],
   "source": [
    "! pip install bs4"
   ]
  },
  {
   "cell_type": "code",
   "execution_count": null,
   "metadata": {
    "colab": {},
    "colab_type": "code",
    "id": "lYmuiE_nV_Iy"
   },
   "outputs": [],
   "source": [
    "import bs4"
   ]
  },
  {
   "cell_type": "code",
   "execution_count": null,
   "metadata": {
    "colab": {},
    "colab_type": "code",
    "id": "NXjnyJMbV_JB"
   },
   "outputs": [],
   "source": [
    "from bs4 import BeautifulSoup"
   ]
  },
  {
   "cell_type": "code",
   "execution_count": null,
   "metadata": {
    "colab": {},
    "colab_type": "code",
    "id": "mladAIMgV_JN"
   },
   "outputs": [],
   "source": [
    "BeautifulSoup."
   ]
  },
  {
   "cell_type": "markdown",
   "metadata": {
    "colab_type": "text",
    "id": "Tvq9QvmoV_JX"
   },
   "source": [
    "### Instalar varios paquetes desde archivo de requerimientos\n",
    "\n",
    "La estructura correcta de un proyecto de software contiene en el directorio raíz, un archivo de texto *(generalmente extensión .txt)* que contiene la lista de requerimientos del proyecto, es decir los paquetes necesarios y sus correspondientes versiones, los requereimientos para este curso son:"
   ]
  },
  {
   "cell_type": "code",
   "execution_count": null,
   "metadata": {
    "colab": {},
    "colab_type": "code",
    "id": "MSdfKlChV_Jc"
   },
   "outputs": [],
   "source": [
    "!ls ../../"
   ]
  },
  {
   "cell_type": "code",
   "execution_count": null,
   "metadata": {
    "colab": {},
    "colab_type": "code",
    "id": "YWQM3sIQV_Jv"
   },
   "outputs": [],
   "source": [
    "cat ../../requirements.txt"
   ]
  },
  {
   "cell_type": "markdown",
   "metadata": {
    "colab_type": "text",
    "id": "fE51hPMbV_KA"
   },
   "source": [
    "Para instalar paquetes desde un archivo de requerimientos se debe ingresar en la consola:\n",
    "\n",
    "`pip install -r requirements.txt`"
   ]
  },
  {
   "cell_type": "markdown",
   "metadata": {
    "colab_type": "text",
    "id": "JLkP1v8oV_KF"
   },
   "source": [
    "### Crear un archivo de requerimientos automáticamente\n",
    "\n",
    "`pip` permite generar automáticamente el archivo `requirements.txt` con la lista de paquetes y sus versiones al momento de la ejecución del comando usando la opción `freeze`.\n",
    "\n",
    "`pip freeze > requirements.txt`"
   ]
  },
  {
   "cell_type": "code",
   "execution_count": null,
   "metadata": {
    "colab": {},
    "colab_type": "code",
    "id": "x9pmf0_2V_KJ"
   },
   "outputs": [],
   "source": [
    "! pip freeze > requeriments_test.txt"
   ]
  },
  {
   "cell_type": "markdown",
   "metadata": {
    "colab_type": "text",
    "id": "uuXrLO31V_Ki"
   },
   "source": [
    "### Listar paquetes con pip\n",
    "\n",
    "Para obtener información sobre los paquetes instalados y sus versiones se emplea `list`:\n",
    "\n",
    "`pip list`"
   ]
  },
  {
   "cell_type": "code",
   "execution_count": null,
   "metadata": {
    "colab": {},
    "colab_type": "code",
    "id": "EENfzo7SV_Kr"
   },
   "outputs": [],
   "source": [
    "!pip list"
   ]
  },
  {
   "cell_type": "markdown",
   "metadata": {
    "colab_type": "text",
    "id": "0y9EMs54V_K3"
   },
   "source": [
    "#### Sobre un paquete en particular\n",
    "\n",
    "Para listar información sobre un paquete en particular se emplea `show`\n",
    "\n",
    "`pip show <nombre_paquete>`"
   ]
  },
  {
   "cell_type": "code",
   "execution_count": null,
   "metadata": {
    "colab": {},
    "colab_type": "code",
    "id": "vV7M_DU6V_K7"
   },
   "outputs": [],
   "source": [
    "! pip show jupyterlab"
   ]
  },
  {
   "cell_type": "code",
   "execution_count": null,
   "metadata": {
    "colab": {},
    "colab_type": "code",
    "id": "KFVrkX_cV_LI"
   },
   "outputs": [],
   "source": [
    "! pip show bs4"
   ]
  },
  {
   "cell_type": "markdown",
   "metadata": {
    "colab_type": "text",
    "id": "SYesUx-nV_LX"
   },
   "source": [
    "## Buscar paquetes en pip\n",
    "\n",
    "Para buscar paquetes en el repositorio de pip se usa `search`\n",
    "\n",
    "`pip search <string_busqueda>`"
   ]
  },
  {
   "cell_type": "code",
   "execution_count": null,
   "metadata": {
    "colab": {},
    "colab_type": "code",
    "id": "8c_CURrHV_Lb"
   },
   "outputs": [],
   "source": [
    "! pip search astronomy"
   ]
  },
  {
   "cell_type": "markdown",
   "metadata": {
    "colab_type": "text",
    "id": "px5VzQGEV_Lm"
   },
   "source": [
    "## Eliminar paquetes con pip\n",
    "\n",
    "Para eliminar un paquete se usa `uninstall`\n",
    "\n",
    "`pip uninstall <paquete>`"
   ]
  },
  {
   "cell_type": "code",
   "execution_count": null,
   "metadata": {
    "colab": {},
    "colab_type": "code",
    "id": "wh7QTY9cV_Lq"
   },
   "outputs": [],
   "source": [
    "! pip uninstall -y bs4"
   ]
  },
  {
   "cell_type": "code",
   "execution_count": null,
   "metadata": {
    "colab": {},
    "colab_type": "code",
    "id": "nUET_Li-V_L5"
   },
   "outputs": [],
   "source": [
    "import bs4"
   ]
  },
  {
   "cell_type": "markdown",
   "metadata": {
    "colab_type": "text",
    "id": "WtSHpP25V_MG"
   },
   "source": [
    "## conda\n",
    "\n",
    "Las funciones y sintaxis son similares a pip"
   ]
  },
  {
   "cell_type": "markdown",
   "metadata": {
    "colab_type": "text",
    "id": "NX2fkxLmV_MO"
   },
   "source": [
    "## Instalar un paquete con conda\n",
    "\n",
    "Para instalar bibliotecas con conda se emplea la siguiente sintaxis:\n",
    "\n",
    "```sh\n",
    "conda install <nombre_paquete>          # última versión\n",
    "conda install nombre_paquete==1.0.4     # versión específica\n",
    "conda install nombre_paquete>=1.0.4     # mínima versión\n",
    "```\n",
    "\n",
    "Para instalar varios paquetes en una sola línea:\n",
    "\n",
    "```sh\n",
    "conda install <nombre_paquete_0> <nombre_paquete_1>\n",
    "conda install nombre_paquete_0==1.0.4 nombre_paquete_1==2.1.2\n",
    "```"
   ]
  },
  {
   "cell_type": "markdown",
   "metadata": {
    "colab_type": "text",
    "id": "Bru7l2vAV_MR"
   },
   "source": [
    "### Pint\n",
    "\n",
    "[Pint](https://pint.readthedocs.io/en/0.9/) es una biblioteca para manipular fácilmenet unidades científicas."
   ]
  },
  {
   "cell_type": "code",
   "execution_count": null,
   "metadata": {
    "colab": {},
    "colab_type": "code",
    "id": "WSJpUj75V_MY"
   },
   "outputs": [],
   "source": [
    "! conda install -y -c conda-forge pint"
   ]
  },
  {
   "cell_type": "code",
   "execution_count": null,
   "metadata": {
    "colab": {},
    "colab_type": "code",
    "id": "RNcGlBZDV_Mp"
   },
   "outputs": [],
   "source": [
    "import pint"
   ]
  },
  {
   "cell_type": "code",
   "execution_count": null,
   "metadata": {
    "colab": {},
    "colab_type": "code",
    "id": "xEbzPGk8V_M3"
   },
   "outputs": [],
   "source": [
    "ureg = pint.UnitRegistry()\n",
    "3 * ureg.meter + 4 * ureg.cm"
   ]
  },
  {
   "cell_type": "markdown",
   "metadata": {
    "colab_type": "text",
    "id": "OdK60fmlV_NE"
   },
   "source": [
    "### Listar paquetes con conda\n",
    "\n",
    "Para obtener información sobre los paquetes instalados y sus versiones se emplea `list`:\n",
    "\n",
    "`conda list`"
   ]
  },
  {
   "cell_type": "code",
   "execution_count": null,
   "metadata": {
    "colab": {},
    "colab_type": "code",
    "id": "DZK9nWnHV_NJ"
   },
   "outputs": [],
   "source": [
    "! conda list"
   ]
  },
  {
   "cell_type": "markdown",
   "metadata": {
    "colab_type": "text",
    "id": "RD_p_dpSV_Ne"
   },
   "source": [
    "## Buscar paquetes con conda\n",
    "\n",
    "Para buscar paquetes se usa `search`\n",
    "\n",
    "`conda search <string_busqueda>`"
   ]
  },
  {
   "cell_type": "code",
   "execution_count": null,
   "metadata": {
    "colab": {},
    "colab_type": "code",
    "id": "8c4Eu3FdV_Nr"
   },
   "outputs": [],
   "source": [
    "! conda search mysql"
   ]
  },
  {
   "cell_type": "markdown",
   "metadata": {
    "colab_type": "text",
    "id": "l8kEZUSGV_N8"
   },
   "source": [
    "## Actualizar paquetes con conda\n",
    "\n",
    "`conda update <paquete>`"
   ]
  },
  {
   "cell_type": "code",
   "execution_count": null,
   "metadata": {
    "colab": {},
    "colab_type": "code",
    "id": "8xUwr46LV_N-"
   },
   "outputs": [],
   "source": [
    "! conda update conda"
   ]
  },
  {
   "cell_type": "markdown",
   "metadata": {
    "colab_type": "text",
    "id": "LVlXdax2V_OG"
   },
   "source": [
    "## Eliminar paquetes con conda\n",
    "\n",
    "Para eliminar un paquete se usa `remove`\n",
    "\n",
    "`conda remove <paquete>`"
   ]
  },
  {
   "cell_type": "code",
   "execution_count": null,
   "metadata": {
    "colab": {},
    "colab_type": "code",
    "id": "P47oA5HzV_OJ"
   },
   "outputs": [],
   "source": [
    "! conda remove -y pint"
   ]
  },
  {
   "cell_type": "code",
   "execution_count": null,
   "metadata": {
    "colab": {},
    "colab_type": "code",
    "id": "lzDZ2CCDV_OZ"
   },
   "outputs": [],
   "source": [
    "import pint"
   ]
  },
  {
   "cell_type": "markdown",
   "metadata": {
    "colab_type": "text",
    "id": "Pc4wQvo6V_On"
   },
   "source": [
    "## Instalar bibliotecas que no están en los repositorios\n",
    "\n",
    "Para instalar bibliotecas que no se encuentran en los repositorios de `pip` y/o `conda`, inclusive módulos propios, se debe contar con un archivo de instalación, generalmente denominado `setup.py`.\n",
    "\n",
    "`python setup.py`\n",
    "\n",
    "Si sale todo bien, se debe poder importar la biblioteca con `import <biblioteca>`"
   ]
  },
  {
   "cell_type": "markdown",
   "metadata": {
    "colab_type": "text",
    "id": "svEHVEoqV_Oq"
   },
   "source": [
    "## Entorno virtual (virtualenv)\n",
    "\n",
    "Las aplicaciones en Python usualmente hacen uso de paquetes y módulos que *no forman parte de la librería estándar*. Las aplicaciones a veces necesitan *una versión específica* de una librería, debido a que dicha aplicación requiere que un bug particular haya sido solucionado o bien la aplicación ha sido escrita usando una versión obsoleta de la interface de la librería.\n",
    "\n",
    "> Esto significa que tal vez no sea posible para una instalación de Python cumplir los requerimientos de todas las aplicaciones. \n",
    "\n",
    "Si la aplicación A necesita la versión 1.0 de un módulo particular y la aplicación B necesita la versión 2.0, entonces los requerimientos **entran en conflicto** e instalar la versión 1.0 o 2.0 **dejará una de las aplicaciones sin funcionar.**\n",
    "\n",
    "La solución a este problema es **crear un entorno virtual**, `un directorio que contiene una instalación de Python de una versión en particular, además de unos cuantos paquetes adicionales.`\n",
    "\n",
    "![](https://i.imgur.com/g7bMGIK.png)\n",
    "\n",
    "Diferentes aplicaciones pueden entonces usar *entornos virtuales diferentes*. Para resolver el ejemplo de requerimientos en conflicto citado anteriormente, la aplicación A puede tener su propio entorno virtual con la versión 1.0 instalada mientras que la aplicación B tiene otro entorno virtual con la versión 2.0. Si la aplicación B requiere que actualizar la librería a la versión 3.0, esto no afectará el entorno virtual de la aplicación A."
   ]
  },
  {
   "cell_type": "markdown",
   "metadata": {
    "colab_type": "text",
    "id": "1a-_RSlBV_Or"
   },
   "source": [
    "### Crear un entorno virtual\n",
    "\n",
    "Para trabajar con entornos virtuales simplemente se debe crear/elegir un directorio donde \"viven\" los archivos con los que se trabaja en \"ese ambiente\" en particular.\n",
    "\n",
    "#### pyvenv\n",
    "\n",
    "Para crear y manejar entornos virtuales con `pyvenv`, que normalmente instala la versión mas reciente de Python que esté disponible, una vez en el directorio de interés, ejecutar:\n",
    "\n",
    "`python3 -m venv <nombre-del-entorno-virtual>`\n",
    "\n",
    "Esto crea el directorio <nombre-del-entorno-virtual> si no existe, y los subdirectorios conteniendo la copia del intérprete Python, la librería estándar y los archivos de soporte.\n",
    "\n",
    "Una vez creado el entorno virtual, hay que activarlo.\n",
    "\n",
    "* En Windows:\n",
    "\n",
    "`<nombre-de-entorno-virtual>\\Scripts\\activate.bat`\n",
    "\n",
    "En GNU/Linux o MacOS, ejecuta:\n",
    "\n",
    "`source <nombre-de-entorno-virtual>/bin/activate`\n",
    "\n",
    "Todo lo que se ejecute acontinuación corresponde al entorno virtual."
   ]
  },
  {
   "cell_type": "markdown",
   "metadata": {
    "colab_type": "text",
    "id": "XIvuOK4oV_Ox"
   },
   "source": [
    "### conda\n",
    "\n",
    "Para crear un entorno virtual con conda\n",
    "\n",
    "`conda create --name <nombre-del-entorno-virtual> python=3.7`\n",
    "\n",
    "Para crear un entorno virtual con paquetes en particular\n",
    "\n",
    "`conda create --name <nombre-del-entorno-virtual> <nombre-paquete> <nombre-paquete2>`\n",
    "\n",
    "Para activar un entorno virtual\n",
    "\n",
    "* Windows\n",
    "\n",
    "`activate <nombre-del-entorno-virtual>`\n",
    "\n",
    "* En GNU/Linux o Mac\n",
    "\n",
    "`source activate <nombre-del-entorno-virtual>`"
   ]
  },
  {
   "cell_type": "markdown",
   "metadata": {
    "colab_type": "text",
    "id": "_DSAol8UV_O1"
   },
   "source": [
    "# Referencias\n",
    "\n",
    "* [pip](https://pip.pypa.io/en/stable/)\n",
    "* [conda](https://docs.conda.io/projects/conda/en/latest/user-guide/tasks/manage-pkgs.html)\n",
    "* [virtualenv](https://virtualenv.pypa.io/en/stable/)\n",
    "* [conda](https://docs.conda.io/projects/conda/en/latest/user-guide/tasks/manage-environments.html#creating-an-environment-with-commands)"
   ]
  }
 ],
 "metadata": {
  "colab": {
   "collapsed_sections": [],
   "name": "7-Como-instalar-una-biblioteca.ipynb",
   "provenance": [],
   "version": "0.3.2"
  },
  "kernelspec": {
   "display_name": "Python 3",
   "language": "python",
   "name": "python3"
  },
  "language_info": {
   "codemirror_mode": {
    "name": "ipython",
    "version": 3
   },
   "file_extension": ".py",
   "mimetype": "text/x-python",
   "name": "python",
   "nbconvert_exporter": "python",
   "pygments_lexer": "ipython3",
   "version": "3.7.3"
  }
 },
 "nbformat": 4,
 "nbformat_minor": 2
}
