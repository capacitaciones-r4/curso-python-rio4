{
 "cells": [
  {
   "cell_type": "markdown",
   "metadata": {},
   "source": [
    "# Estructuras de control de flujo\n",
    "\n",
    "Las estructuras de control de flujo son sentencias que permiten *controlar* el flujo de un programa en función de alguna condición. Se puede ejecutar de manera *no secuencial* una serie de instrucciones a seguir por el intérprete de Python, \"tomando decisiones\" sobre el flujo del programa, según el resultado de evaluar condiciones.\n",
    "\n",
    "* **if elif y else**: Se usa para una instrucción condicional, si la condición se cumple, se ejecuta determinada instrucción, de lo contrario, una instrucción diferente.\n",
    "* **for**:\n",
    "* **while**:\n",
    "* **with**:\n",
    "* **try**:"
   ]
  },
  {
   "cell_type": "markdown",
   "metadata": {},
   "source": [
    "## if elif y else\n",
    "\n",
    "Se controla el flujo de un programa según si una condición es Verdadera/Falsa (booleana). Si `condición` es `True` se ejecuta el `bloque A`; Sino el `Bloque B`. \n",
    "\n",
    "si (`condición`):\n",
    "    `bloque A`\n",
    "\n",
    "sino:\n",
    "    `bloque B`\n",
    "\n"
   ]
  },
  {
   "cell_type": "code",
   "execution_count": null,
   "metadata": {},
   "outputs": [],
   "source": [
    "numero = 1"
   ]
  },
  {
   "cell_type": "code",
   "execution_count": null,
   "metadata": {},
   "outputs": [],
   "source": [
    "if (numero > 0):\n",
    "    print('Positivo')\n",
    "else:\n",
    "    print('Negativo')"
   ]
  },
  {
   "cell_type": "markdown",
   "metadata": {},
   "source": [
    "**¡OJO!**: IDENTACIÓN, \"cuatro espacios\" en Python indican que la línea pertenece a una bloque de flujo de instrucciones, su inmediato superior."
   ]
  },
  {
   "cell_type": "code",
   "execution_count": null,
   "metadata": {},
   "outputs": [],
   "source": [
    "if (numero > 0):\n",
    "print('Positivo')\n",
    "else:\n",
    "print('Negativo')"
   ]
  },
  {
   "cell_type": "code",
   "execution_count": null,
   "metadata": {},
   "outputs": [],
   "source": [
    "numero = -2"
   ]
  },
  {
   "cell_type": "code",
   "execution_count": null,
   "metadata": {},
   "outputs": [],
   "source": [
    "if (numero > 0):\n",
    "    print(numero)\n",
    "print('Positivo')"
   ]
  },
  {
   "cell_type": "code",
   "execution_count": null,
   "metadata": {},
   "outputs": [],
   "source": [
    "numero = 0"
   ]
  },
  {
   "cell_type": "code",
   "execution_count": null,
   "metadata": {},
   "outputs": [],
   "source": [
    "if (numero > 0):\n",
    "    print('Positivo')\n",
    "elif (numero == 0):\n",
    "    print('Cero')\n",
    "else:\n",
    "    print('Negativo')"
   ]
  },
  {
   "cell_type": "markdown",
   "metadata": {},
   "source": [
    "**EJEMPLO 0**: Se desea programar la lógica de un sistema que automatiza el encendido y apagado del aire acondicionado y la calefacción del aula. Se mide la temperatura, para valores superiores a 28°C se enciende el aire acondicionado, mientras que por debajo de 15°C."
   ]
  },
  {
   "cell_type": "code",
   "execution_count": null,
   "metadata": {},
   "outputs": [],
   "source": [
    "temperatura = '25'"
   ]
  },
  {
   "cell_type": "code",
   "execution_count": null,
   "metadata": {},
   "outputs": [],
   "source": [
    "if temperatura < 15:\n",
    "    print('Encender calefacción')\n",
    "elif temperatura > 28:\n",
    "    print('Encender aire')\n",
    "else:\n",
    "    print('La temperatura ambiente está bien')"
   ]
  },
  {
   "cell_type": "markdown",
   "metadata": {},
   "source": [
    "¿A qué se debe el error?, ¿como corregirlo?"
   ]
  },
  {
   "cell_type": "code",
   "execution_count": null,
   "metadata": {},
   "outputs": [],
   "source": []
  },
  {
   "cell_type": "markdown",
   "metadata": {},
   "source": [
    "**EJEMPLO 1**: Mejorar el código del ejemplo anterior para evitar que el aire acondicionado o la calefacción estén encendidos en rangos de temperatura que no corresponden, o peor aún, los dos al mismo tiempo."
   ]
  },
  {
   "cell_type": "code",
   "execution_count": null,
   "metadata": {},
   "outputs": [],
   "source": []
  },
  {
   "cell_type": "markdown",
   "metadata": {},
   "source": [
    "**EJERCICIO 0**: *(clase)* Una persona ingresa por teclado su nombre y luego la opción `A` o `B`, Python la saluda de la forma `¡Hola <nombre>!` y además le informa `Elegiste la opción <A/B>`. ¿Cómo implementar este programa?"
   ]
  },
  {
   "cell_type": "code",
   "execution_count": null,
   "metadata": {},
   "outputs": [],
   "source": []
  },
  {
   "cell_type": "markdown",
   "metadata": {},
   "source": [
    "**EJERCICIO 0.1**: *(clase)* Mejorar el ejercicio anterior, controlando que la opción ingresada sea `A` o `B`, de lo contrario, la persona debe ver por pantalla `¡Hola <nombre>! La opción ingresada es incorrecta`."
   ]
  },
  {
   "cell_type": "code",
   "execution_count": null,
   "metadata": {},
   "outputs": [],
   "source": []
  },
  {
   "cell_type": "markdown",
   "metadata": {},
   "source": [
    "**EJERCICIO 1**: *(tarea)* Dado un número, se desea imprimir por pantalla `el número <numero> es par`, o `el número <numero> es impar` o `el número <numero> no es par ni impar`, según corresponda.\n",
    "\n",
    "*NOTA*: Un número es par si la división por dos de ese número reporta `resto nulo`, de lo contrario se trata de un número impar. En el caso del cero, el resto de la división por dos es nula, pero no se trata de un número par ni impar. Se debe averiguar cómo obtener el resto de una división.\n",
    "\n",
    "Por ej: \n",
    "\n",
    "| 4 | |_2 _ |\n",
    "|---|---|\n",
    "| 0 | 2 |\n",
    "\n",
    "\n",
    "`4 es par`\n",
    "\n",
    "| 5 | |_2 _ |\n",
    "|---|---|\n",
    "| 1 | 2 |\n",
    "\n",
    "`5 es impar`"
   ]
  },
  {
   "cell_type": "code",
   "execution_count": null,
   "metadata": {},
   "outputs": [],
   "source": []
  },
  {
   "cell_type": "markdown",
   "metadata": {},
   "source": [
    "## for"
   ]
  },
  {
   "cell_type": "code",
   "execution_count": null,
   "metadata": {},
   "outputs": [],
   "source": []
  },
  {
   "cell_type": "markdown",
   "metadata": {},
   "source": [
    "## while"
   ]
  },
  {
   "cell_type": "code",
   "execution_count": null,
   "metadata": {},
   "outputs": [],
   "source": []
  },
  {
   "cell_type": "markdown",
   "metadata": {},
   "source": [
    "## with"
   ]
  },
  {
   "cell_type": "code",
   "execution_count": null,
   "metadata": {},
   "outputs": [],
   "source": []
  },
  {
   "cell_type": "markdown",
   "metadata": {},
   "source": [
    "## try"
   ]
  },
  {
   "cell_type": "code",
   "execution_count": null,
   "metadata": {},
   "outputs": [],
   "source": []
  },
  {
   "cell_type": "markdown",
   "metadata": {},
   "source": [
    "**EJERCICIO INTEGRADOR**: *(tarea)* Se almacenan en una `lista`, `tuplas` o ternas con los precios de cotización del dolar para los primeros 15 días del mes de abril. Se deben comparar los valores con la cotización del 1° de Abril *hasta que* se registre una suba, cuando esto suceda, mostrar una alerta por pantalla y comparar los siguientes valores con el precio de suba.\n",
    "\n",
    "Sabiendo que 1° de Abril es Lunes en el calendario, si una suba se produce en fin de semana, no mostrar la alerta."
   ]
  },
  {
   "cell_type": "code",
   "execution_count": null,
   "metadata": {},
   "outputs": [],
   "source": [
    "precio_dolar_abril = [('01-04-19', 44.39, 44.39), \n",
    "                     ('03-04-19', 44.81, 44.81), \n",
    "                     ('04-04-19', 44.84, 44.84), \n",
    "                     ('05-04-19', 44.34, 44.34), \n",
    "                     ('08-04-19', 44.91, 44.91), \n",
    "                     ('09-04-19', 44.80, 44.80),\n",
    "                     ('10-04-19', 44.55, 44.55),\n",
    "                     ('11-04-19', 44.08, 44.08),\n",
    "                     ('12-04-19', 43.89, 43.89),\n",
    "                     ('15-04-19', 43.31, 43.32),]"
   ]
  },
  {
   "cell_type": "code",
   "execution_count": null,
   "metadata": {},
   "outputs": [],
   "source": [
    "finde_abril = [(7, 'sa'), (8, 'do')]"
   ]
  },
  {
   "cell_type": "code",
   "execution_count": null,
   "metadata": {},
   "outputs": [],
   "source": []
  },
  {
   "cell_type": "markdown",
   "metadata": {},
   "source": [
    "# Referencias\n",
    "\n",
    "* [Documentación oficial de Python en Inglés](https://docs.python.org/3/)\n",
    "* [Tutorial PyAR en español](http://docs.python.org.ar/tutorial/3/index.html)\n",
    "* [Python para todos](http://mundogeek.net/tutorial-python/)\n",
    "* [Curso Python científico de Martín Gaitan (repo)](https://github.com/mgaitan/curso-python-cientifico)\n",
    "* [Dólar histórico 2019](https://www.cotizacion-dolar.com.ar/dolar-historico-2019.php)"
   ]
  }
 ],
 "metadata": {
  "kernelspec": {
   "display_name": "Python 3",
   "language": "python",
   "name": "python3"
  },
  "language_info": {
   "codemirror_mode": {
    "name": "ipython",
    "version": 3
   },
   "file_extension": ".py",
   "mimetype": "text/x-python",
   "name": "python",
   "nbconvert_exporter": "python",
   "pygments_lexer": "ipython3",
   "version": "3.7.3"
  }
 },
 "nbformat": 4,
 "nbformat_minor": 2
}
