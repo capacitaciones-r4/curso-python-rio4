{
 "cells": [
  {
   "cell_type": "markdown",
   "metadata": {
    "colab_type": "text",
    "id": "tyAIhclj9yna"
   },
   "source": [
    "# Estructuras de control de flujo\n",
    "\n",
    "Las estructuras de control de flujo son sentencias que permiten *controlar* el flujo de un programa en función de alguna condición. Se puede ejecutar de manera *no secuencial* una serie de instrucciones a seguir por el intérprete de Python, \"tomando decisiones\" sobre el flujo del programa, según el resultado de evaluar condiciones.\n",
    "\n",
    "* **if elif y else**: Se usa para una instrucción condicional, si la condición se cumple (`True`), se ejecuta determinada instrucción, de lo contrario (`False`), una instrucción diferente.\n",
    "* **for**: Se realiza de manera repetitiva una instrucción, siempre que se conozca o se pueda calcular, exactamente el número de veces que se debe repetir.\n",
    "* **while**: Se realiza de manera repetitiva una instrucción, mientras se cumpla determinada condición (`True`), en cuanto dicha condición cambie y/o se produzca un evento, se deja de ejecutar la instrucción.\n",
    "* **try/except**: Intenta realizar una instrucción, si la misma produce un error lo *\"ataja\"*, se ejecuta el bloque \"except\"."
   ]
  },
  {
   "cell_type": "markdown",
   "metadata": {
    "colab_type": "text",
    "id": "PViyKXPJ9yng"
   },
   "source": [
    "## if, elif y else\n",
    "\n",
    "Se controla el flujo de un programa según si una condición es Verdadera/Falsa (booleana). Si `condición` es `True` se ejecuta el `bloque A`; Sino el `Bloque B`. \n",
    "\n",
    "si (`condición`):\n",
    "    `bloque A`\n",
    "\n",
    "sino:\n",
    "    `bloque B`\n",
    "\n"
   ]
  },
  {
   "cell_type": "code",
   "execution_count": null,
   "metadata": {
    "colab": {},
    "colab_type": "code",
    "id": "O-bQxQDc9ynk"
   },
   "outputs": [],
   "source": [
    "numero = 1"
   ]
  },
  {
   "cell_type": "code",
   "execution_count": null,
   "metadata": {
    "colab": {},
    "colab_type": "code",
    "id": "_5R-q9B09ynw"
   },
   "outputs": [],
   "source": [
    "if numero > 0:\n",
    "    print('Positivo')\n",
    "else:\n",
    "    print('Negativo')"
   ]
  },
  {
   "cell_type": "markdown",
   "metadata": {
    "colab_type": "text",
    "id": "PF99aO2c9yn7"
   },
   "source": [
    "**¡OJO!**: IDENTACIÓN, \"cuatro espacios\" en Python indican que la línea pertenece a un bloque de flujo de instrucciones, su inmediato superior. Después de *: (dos puntos)* siempre hay 4 espacios (o Tab)."
   ]
  },
  {
   "cell_type": "code",
   "execution_count": null,
   "metadata": {
    "colab": {},
    "colab_type": "code",
    "id": "UrFbjdM99yn_"
   },
   "outputs": [],
   "source": [
    "if numero > 0:\n",
    "print('Positivo')\n",
    "else:\n",
    "print('Negativo')"
   ]
  },
  {
   "cell_type": "code",
   "execution_count": null,
   "metadata": {
    "colab": {},
    "colab_type": "code",
    "id": "K9UYo9r49yoI"
   },
   "outputs": [],
   "source": [
    "numero = -2"
   ]
  },
  {
   "cell_type": "code",
   "execution_count": null,
   "metadata": {
    "colab": {},
    "colab_type": "code",
    "id": "0K6QYKZQ9yoO"
   },
   "outputs": [],
   "source": [
    "if numero > 0:\n",
    "    print(numero)\n",
    "print('Positivo')"
   ]
  },
  {
   "cell_type": "code",
   "execution_count": null,
   "metadata": {
    "colab": {},
    "colab_type": "code",
    "id": "7j_XpQs-9yoU"
   },
   "outputs": [],
   "source": [
    "numero = 0"
   ]
  },
  {
   "cell_type": "code",
   "execution_count": null,
   "metadata": {
    "colab": {},
    "colab_type": "code",
    "id": "GU_diYB79yod"
   },
   "outputs": [],
   "source": [
    "if (numero > 0):\n",
    "    print('Positivo')\n",
    "elif (numero == 0):\n",
    "    print('Cero')\n",
    "else:\n",
    "    print('Negativo')"
   ]
  },
  {
   "cell_type": "markdown",
   "metadata": {
    "colab_type": "text",
    "id": "NcsWh5-b9yoo"
   },
   "source": [
    "**EJEMPLO 4**: Se desea programar la lógica de un sistema que automatiza el encendido y apagado del aire acondicionado y la calefacción del aula. Se mide la temperatura, para valores superiores a 28°C se enciende el aire acondicionado, mientras que por debajo de 15°C se enciende la calefacción."
   ]
  },
  {
   "cell_type": "code",
   "execution_count": null,
   "metadata": {
    "colab": {},
    "colab_type": "code",
    "id": "Ew-Cz32a9yos"
   },
   "outputs": [],
   "source": [
    "temperatura = '25'"
   ]
  },
  {
   "cell_type": "code",
   "execution_count": null,
   "metadata": {
    "colab": {},
    "colab_type": "code",
    "id": "jJ4aSwFv9yo3"
   },
   "outputs": [],
   "source": [
    "if temperatura < 15:\n",
    "    print('Encender calefacción')\n",
    "elif temperatura > 28:\n",
    "    print('Encender aire')\n",
    "else:\n",
    "    print('La temperatura ambiente está bien')"
   ]
  },
  {
   "cell_type": "markdown",
   "metadata": {
    "colab_type": "text",
    "id": "hJPOZVSb9ypE"
   },
   "source": [
    "¿A qué se debe el error?, ¿como corregirlo?"
   ]
  },
  {
   "cell_type": "code",
   "execution_count": null,
   "metadata": {
    "colab": {},
    "colab_type": "code",
    "id": "1t2ncRTL9ypH"
   },
   "outputs": [],
   "source": []
  },
  {
   "cell_type": "markdown",
   "metadata": {
    "colab_type": "text",
    "id": "zxreJa-79ypM"
   },
   "source": [
    "**EJEMPLO 5**: Mejorar el código del ejemplo anterior para evitar que el aire acondicionado o la calefacción estén encendidos en rangos de temperatura que no corresponden, o peor aún, los dos al mismo tiempo."
   ]
  },
  {
   "cell_type": "code",
   "execution_count": null,
   "metadata": {
    "colab": {},
    "colab_type": "code",
    "id": "agmBpteg9ypO"
   },
   "outputs": [],
   "source": []
  },
  {
   "cell_type": "markdown",
   "metadata": {
    "colab_type": "text",
    "id": "lWoK-SOG9ypW"
   },
   "source": [
    "**EJERCICIO 16**: *(clase)* Una persona ingresa por teclado su nombre y luego la opción `A` o `B`, Python la saluda de la forma `¡Hola <nombre>!` y además le informa `Elegiste la opción <A/B>`. ¿Cómo implementar este programa?"
   ]
  },
  {
   "cell_type": "code",
   "execution_count": null,
   "metadata": {
    "colab": {},
    "colab_type": "code",
    "id": "YtQhJjSb9ypY"
   },
   "outputs": [],
   "source": []
  },
  {
   "cell_type": "markdown",
   "metadata": {
    "colab_type": "text",
    "id": "WEdYBAnz9ype"
   },
   "source": [
    "**EJERCICIO 17**: *(clase)* Mejorar el ejercicio anterior, controlando que la opción ingresada sea `A` o `B`, de lo contrario, la persona debe ver por pantalla `¡Hola <nombre>! La opción ingresada es incorrecta`."
   ]
  },
  {
   "cell_type": "code",
   "execution_count": null,
   "metadata": {
    "colab": {},
    "colab_type": "code",
    "id": "OTIAjmzo9ypi"
   },
   "outputs": [],
   "source": []
  },
  {
   "cell_type": "markdown",
   "metadata": {
    "colab_type": "text",
    "id": "ztmcguT-9ypn"
   },
   "source": [
    "**EJERCICIO 18**: *(tarea)* Dado un número, se desea imprimir por pantalla `el número <numero> es par`, o `el número <numero> es impar` o `el número <numero> no es par ni impar`, según corresponda.\n",
    "\n",
    "*NOTA*: Un número es par si la división por dos de ese número reporta `resto nulo`, de lo contrario se trata de un número impar. En el caso del cero, el resto de la división por dos es nula, pero no se trata de un número par ni impar. Se debe averiguar cómo obtener el resto de una división.\n",
    "\n",
    "Por ej: \n",
    "\n",
    "| 4 | |_2 _ |\n",
    "|---|---|\n",
    "| 0 | 2 |\n",
    "\n",
    "\n",
    "`4 es par`\n",
    "\n",
    "| 5 | |_2 _ |\n",
    "|---|---|\n",
    "| 1 | 2 |\n",
    "\n",
    "`5 es impar`"
   ]
  },
  {
   "cell_type": "code",
   "execution_count": null,
   "metadata": {
    "colab": {},
    "colab_type": "code",
    "id": "vOb35Vvo9ypr"
   },
   "outputs": [],
   "source": []
  },
  {
   "cell_type": "code",
   "execution_count": null,
   "metadata": {},
   "outputs": [],
   "source": []
  },
  {
   "cell_type": "markdown",
   "metadata": {
    "colab_type": "text",
    "id": "3Pgk453g9ypw"
   },
   "source": [
    "## for"
   ]
  },
  {
   "cell_type": "markdown",
   "metadata": {
    "colab_type": "text",
    "id": "R4tLAsye9ypy"
   },
   "source": [
    "Cuando se requiera efectuar una __operación__ para cada uno de los elementos de una variable, o un __número conocido__ de veces (o al menos factible de averiguar), se utiliza la sentencia __for__, de la siguiente manera:\n",
    "\n",
    "```python\n",
    "\n",
    "for objeto_mutable in elemento_a_recorrer:\n",
    "    instrucción\n",
    "```\n",
    "\n"
   ]
  },
  {
   "cell_type": "markdown",
   "metadata": {
    "colab_type": "text",
    "id": "UENYmEst9yp0"
   },
   "source": [
    "![](https://cdn.pixabay.com/photo/2012/06/16/20/52/lechner-50119_960_720.jpg)"
   ]
  },
  {
   "cell_type": "markdown",
   "metadata": {
    "colab_type": "text",
    "id": "xB8Nfpbm9yp7"
   },
   "source": [
    "__Ejemplo 6__: Dadas las siguientes variables, imprimir sus elementos uno a uno, y su tipo."
   ]
  },
  {
   "cell_type": "code",
   "execution_count": null,
   "metadata": {
    "colab": {},
    "colab_type": "code",
    "id": "1YvfR0yV9yp9"
   },
   "outputs": [],
   "source": [
    "un_string = 'Un_simple_sting'\n",
    "una_lista = ['una','simple','lista']\n",
    "una_tupla = (1,['s','i','m','p','l','e'],'tupla')"
   ]
  },
  {
   "cell_type": "code",
   "execution_count": null,
   "metadata": {
    "colab": {},
    "colab_type": "code",
    "id": "5m0u3ClX9yqG"
   },
   "outputs": [],
   "source": [
    "for caracter in un_string:\n",
    "    print(caracter, type(caracter))"
   ]
  },
  {
   "cell_type": "code",
   "execution_count": null,
   "metadata": {
    "colab": {},
    "colab_type": "code",
    "id": "xAJY-Dvm9yqN"
   },
   "outputs": [],
   "source": [
    "for string in una_lista:\n",
    "    print(string, type(string))"
   ]
  },
  {
   "cell_type": "code",
   "execution_count": null,
   "metadata": {
    "colab": {},
    "colab_type": "code",
    "id": "5Wb_gAS19yqW"
   },
   "outputs": [],
   "source": [
    "for elemento in una_tupla:\n",
    "    print(elemento, type(elemento))"
   ]
  },
  {
   "cell_type": "markdown",
   "metadata": {
    "colab_type": "text",
    "id": "eF4GP5Gm9yqd"
   },
   "source": [
    "Cuando la sentencia no se ejecuta sobre todos los elementos de una variable (sino que se lleva a cabo siguiendo un rango numérico), se debe explicitar el número de iteraciones:\n",
    "    \n",
    "```python\n",
    "\n",
    "for objeto_mutable in range(inicio_del_rango, final del rango, paso del rango):\n",
    "    instrucción\n",
    "```"
   ]
  },
  {
   "cell_type": "markdown",
   "metadata": {
    "colab_type": "text",
    "id": "5htCMWiO9yqh"
   },
   "source": [
    "__Ejemplo 7__: imprimir solamente los elementos correspondientes a la palabra simple de la variable __un_string__"
   ]
  },
  {
   "cell_type": "code",
   "execution_count": null,
   "metadata": {
    "colab": {},
    "colab_type": "code",
    "id": "WzLK_rBb9yql"
   },
   "outputs": [],
   "source": [
    "for i in range(3,9):\n",
    "    print(un_string[i])"
   ]
  },
  {
   "cell_type": "markdown",
   "metadata": {
    "colab_type": "text",
    "id": "ccJkesLn9yqv"
   },
   "source": [
    "__Ejemplo 8__: crear una lista vacía y llenarla con los números del 0 al 41"
   ]
  },
  {
   "cell_type": "code",
   "execution_count": null,
   "metadata": {
    "colab": {},
    "colab_type": "code",
    "id": "RpUZVkFQ9yq1"
   },
   "outputs": [],
   "source": [
    "lista_a_llenar = []\n",
    "for entero in range(42):\n",
    "    lista_a_llenar.append(entero)\n",
    "\n",
    "print(lista_a_llenar)"
   ]
  },
  {
   "cell_type": "markdown",
   "metadata": {
    "colab_type": "text",
    "id": "8fg0UjMh9yq6"
   },
   "source": [
    "__Ejemplo 9__: De la lista creada anteriormente remover todos los números impares"
   ]
  },
  {
   "cell_type": "code",
   "execution_count": null,
   "metadata": {
    "colab": {},
    "colab_type": "code",
    "id": "XSzjdvJM9yq8"
   },
   "outputs": [],
   "source": [
    "for numero in range(1, 41, 2):\n",
    "    print(numero)\n",
    "    lista_a_llenar.remove(numero)\n",
    "print(lista_a_llenar)"
   ]
  },
  {
   "cell_type": "markdown",
   "metadata": {
    "colab_type": "text",
    "id": "-CTLTLYt9yrF"
   },
   "source": [
    "__Ejercicio 19__ (_clase_): Dado el texto que sigue verificar que las mayúsculas y minúsculas estén usadas adecuadamente, caso contrario, corregirlo."
   ]
  },
  {
   "cell_type": "code",
   "execution_count": null,
   "metadata": {
    "colab": {},
    "colab_type": "code",
    "id": "PV2CeERv9yrI"
   },
   "outputs": [],
   "source": [
    "fragmento_de_texto = 'Estaba tumbado boca abajo, Sobre una capa de agujas de pino de color castaño, Con la barbilla apoyada en los brazos cruzados, mientras el viento, en lo alto, Zumbaba entre las copas. el flanco de la montaña hacía un suave declive por aquella parte; pero, más abajo, se convertía en una pendiente escarpada, De modo que desde donde se hallaba tumbado podía ver la cinta oscura, Bien embreada, de la carretera, zigzagueando en torno al puerto. había un torrente que corría junto a la carretera y, más abajo, A orillas del torrente, se veía un aserradero y la blanca cabellera de la cascada que se derramaba de la represa, Cabrilleando a la luz del sol.' "
   ]
  },
  {
   "cell_type": "code",
   "execution_count": null,
   "metadata": {
    "colab": {},
    "colab_type": "code",
    "id": "dP6GMh5Z9yrS"
   },
   "outputs": [],
   "source": [
    "print(fragmento_de_texto)"
   ]
  },
  {
   "cell_type": "code",
   "execution_count": null,
   "metadata": {},
   "outputs": [],
   "source": []
  },
  {
   "cell_type": "markdown",
   "metadata": {},
   "source": [
    "__EJERCICIO 19.2__ _(clase)_: Dado el texto que sigue verificar que las mayúsculas y minúsculas estén usadas adecuadamente, caso contrario, corregirlo."
   ]
  },
  {
   "cell_type": "code",
   "execution_count": null,
   "metadata": {},
   "outputs": [],
   "source": [
    "fragmento_de_texto_alternativo = 'Estaba tumbado boca abAjo, Sobre una capa de aguJas de pino de color casTaño, Con la barbilla apoyada en los brazos cruzados, mientras el viento, en lo alto, Zumbaba entre las copas. el flanco de la montaña hacía un suave declive por aquElla parte; pero, más abajo, se convertía en una pendiente escarpada, De modo que desde donde se halLaba tumbado podía ver la cinta oscura, Bien embreada, de la carretera, zigzaGueando en torno al puerto. había un torrente que corría junto a la carretera y, más abajo, A orillas del torrente, se veía un aserradero y la blanca cabellera de la casCada que se derramaba de la represa, Cabrilleando a la luz del sol.' "
   ]
  },
  {
   "cell_type": "code",
   "execution_count": null,
   "metadata": {},
   "outputs": [],
   "source": []
  },
  {
   "cell_type": "markdown",
   "metadata": {
    "colab_type": "text",
    "id": "jPpNni1f9yrX"
   },
   "source": [
    "## while"
   ]
  },
  {
   "cell_type": "markdown",
   "metadata": {
    "colab_type": "text",
    "id": "mdA_GoTR9yrc"
   },
   "source": [
    "Cuando sea necesario ejecutar una acción hasta el momento en que __se deje de cumplir una condición__, se utiliza la estructura while:  \n",
    "\n",
    "```python\n",
    "\n",
    "while condición_que_debe_cumplirse:\n",
    "  #repetir estas operaciones hasta que se cumpla\n",
    "\n",
    "```"
   ]
  },
  {
   "cell_type": "markdown",
   "metadata": {
    "colab_type": "text",
    "id": "nrmHe52C9yrd"
   },
   "source": [
    "![](https://encrypted-tbn0.gstatic.com/images?q=tbn:ANd9GcR4cieDxg6tiXlVLrCJc_CMmdTnXapWtE9BkKsqKRtbK7XMMsza4Q)"
   ]
  },
  {
   "cell_type": "markdown",
   "metadata": {
    "colab_type": "text",
    "id": "PVWIMiGB9yrg"
   },
   "source": [
    "__Ejemplo 11__:  Pedir por teclado un número y sumar cada nueva entrada al anterior. Finalizar el ciclo cuando la suma ingresada sea mayor a 41."
   ]
  },
  {
   "cell_type": "code",
   "execution_count": null,
   "metadata": {
    "colab": {},
    "colab_type": "code",
    "id": "8IfuRfeH9yrg"
   },
   "outputs": [],
   "source": [
    "numero = 0\n",
    "while numero < 41:\n",
    "    nuevo_numero = input('Ingrese un nuevo número:  ')\n",
    "    numero = numero + float(nuevo_numero)\n",
    "print(numero)"
   ]
  },
  {
   "cell_type": "markdown",
   "metadata": {
    "colab_type": "text",
    "id": "T_cc1XvR9yrr"
   },
   "source": [
    "__Ejemplo 12__: Pedir por teclado una palabra y añadirla a una lista creada previamente, repetir indefinidamente la acción hasta que el tamaño de la palabra ingresada sea de exactamente siete caracteres."
   ]
  },
  {
   "cell_type": "code",
   "execution_count": null,
   "metadata": {
    "colab": {},
    "colab_type": "code",
    "id": "sdIwiSlt9yrs"
   },
   "outputs": [],
   "source": [
    "lista_con_palabras=[]\n",
    "largo_palabra = 0\n",
    "while largo_palabra != 7:\n",
    "    nueva_palabra = input('Ingrese una palabra')\n",
    "    lista_con_palabras.append(nueva_palabra)\n",
    "    largo_palabra = len(str(nueva_palabra))\n",
    "print(largo_palabra)\n",
    "lista_con_palabras"
   ]
  },
  {
   "cell_type": "markdown",
   "metadata": {
    "colab_type": "text",
    "id": "Qf4p55wb9yrv"
   },
   "source": [
    "__Ejercicio 21__ (_clase_): Implementar un generador de números aleatorios, entre 0 y 2, el mismo debe producir enteros y cargarlos en la lista. La ejecución debe interrumpirse si cualquier número aparece en la lista más de 2 veces. "
   ]
  },
  {
   "cell_type": "code",
   "execution_count": null,
   "metadata": {
    "colab": {},
    "colab_type": "code",
    "id": "t0UR1YEdSPPv"
   },
   "outputs": [],
   "source": []
  },
  {
   "cell_type": "markdown",
   "metadata": {
    "colab_type": "text",
    "id": "xXhMefCx9yr1"
   },
   "source": [
    "__Ejercicio 22__ (_clase_): Generar una lista con la secuencia de Fibonacci hasta superar o alcanzar un número que el usuario determine por teclado.\n",
    "  \n",
    "  \n",
    "_NOTA_: en una secuencia de este tipo cada elemento en la suma de los dos anteriores: 1, 1, 2, 3, 5, 8, 13, 21, 34, ..."
   ]
  },
  {
   "cell_type": "code",
   "execution_count": null,
   "metadata": {},
   "outputs": [],
   "source": []
  },
  {
   "cell_type": "markdown",
   "metadata": {
    "colab_type": "text",
    "id": "mMQBLJHb9yr6"
   },
   "source": [
    "__Ejercicio 23__ (_tarea_): Crear un temporizador que dado una cantidad en minutos muestre un mensaje por pantalla notificando que ese tiempo se alcanzó.\n",
    "\n",
    "_NOTA_: Explorar la biblioteca `time`."
   ]
  },
  {
   "cell_type": "code",
   "execution_count": null,
   "metadata": {},
   "outputs": [],
   "source": []
  },
  {
   "cell_type": "markdown",
   "metadata": {
    "colab_type": "text",
    "id": "AqvKp0ZbCOGB"
   },
   "source": [
    "## try\n",
    "\n",
    "### Introducción\n",
    "\n",
    "Dadas dos listas con números generados al azar, se desea obtener el cociente elemento a elemento de las 2 listas, es decir, elemento en la posición 0 de la primer lista dividido en el elemento de la posición 1 de la segunda lista y así sucesivamente, redondear el resultado y guardarlo."
   ]
  },
  {
   "cell_type": "code",
   "execution_count": null,
   "metadata": {
    "colab": {},
    "colab_type": "code",
    "id": "rwDAvkxjCObI"
   },
   "outputs": [],
   "source": [
    "from random import randint                      # Función para crear enteros aleatorios.\n",
    "\n",
    "lista_a = [randint(0, 10) for _ in range(100)]  # Lista con 100 numeros aleatorias entre 0 y 10.\n",
    "lista_b = [randint(0, 10) for _ in range(100)]  # Lista con 100 numeros aleatorios diferentes."
   ]
  },
  {
   "cell_type": "code",
   "execution_count": null,
   "metadata": {
    "colab": {},
    "colab_type": "code",
    "id": "S0D1VHq8COmB"
   },
   "outputs": [],
   "source": [
    "resultados = []                     # Una lista vacía para guardar los resultados\n",
    "\n",
    "for i, j in zip(lista_a, lista_b):\n",
    "    resultado = i / j\n",
    "    resultado = round(resultado)    # Redondeamos el numero\n",
    "    resultados.append(resultado)\n"
   ]
  },
  {
   "cell_type": "markdown",
   "metadata": {
    "colab_type": "text",
    "id": "B6YhykmmCOpf"
   },
   "source": [
    "Tenemos el error `ZeroDivisionError` por dividir por cero (recordemos que la división por cero no esta definida)\n",
    "\n",
    "### Opción A:\n",
    "\n",
    "Asegurarnos que el número no sea cero antes de realizar la división:"
   ]
  },
  {
   "cell_type": "code",
   "execution_count": null,
   "metadata": {
    "colab": {},
    "colab_type": "code",
    "id": "HABDQYzfCOsi"
   },
   "outputs": [],
   "source": [
    "from math import nan                  # 'not a number' ('no es un número', literalmente)\n",
    "\n",
    "resultados = []\n",
    "\n",
    "for i, j in zip(lista_a, lista_b):\n",
    "    if j != 0:                        # Nos aseguramos que sea diferente de cero\n",
    "        resultado = i / j\n",
    "        resultado = round(resultado)\n",
    "    else:                             # Si es cero, agregamos un nan en su lugar.\n",
    "        resultado = nan\n",
    "        \n",
    "    resultados.append(resultado)\n",
    "    \n",
    "resultados[:10]"
   ]
  },
  {
   "cell_type": "markdown",
   "metadata": {
    "colab_type": "text",
    "id": "FMpvOiJwCO2a"
   },
   "source": [
    "### Opción B:\n",
    "\n",
    "try básico:"
   ]
  },
  {
   "cell_type": "code",
   "execution_count": null,
   "metadata": {
    "colab": {},
    "colab_type": "code",
    "id": "ViNM2mdaCO5m"
   },
   "outputs": [],
   "source": [
    "resultados_bis = []\n",
    "\n",
    "for i, j in zip(lista_a, lista_b):\n",
    "    try:\n",
    "        resultado = i / j\n",
    "        resultado = round(resultado)\n",
    "    except:                               \n",
    "        resultado = nan\n",
    "        \n",
    "    resultados_bis.append(resultado)\n",
    "    \n",
    "resultados_bis[:10]"
   ]
  },
  {
   "cell_type": "markdown",
   "metadata": {
    "colab_type": "text",
    "id": "rnkvk_JdCO8b"
   },
   "source": [
    "¿Qué pasa si tenemos otro error, que no esperamos?  Por ejemplo, algún elemento en la lista es un string y no un número.  \n",
    "\n",
    "Se produce un error diferente, `TypeError` (no tiene sentido dividir un número por un string), pero no se muestra por pantalla porque el `except` está \"atajando\" todos los errores."
   ]
  },
  {
   "cell_type": "code",
   "execution_count": null,
   "metadata": {
    "colab": {},
    "colab_type": "code",
    "id": "LwLPnqpBCPgV"
   },
   "outputs": [],
   "source": [
    "resultados_erroneos = []\n",
    "lista_c = lista_b[:]                           # Hacemos una copia de lista_b\n",
    "lista_c[1:6] = [str(i) for i in lista_c[1:6]]  # Cambiamos el tipo del 2do al 5to \n",
    "                                               # valor a string.\n",
    "for i, j in zip(lista_a, lista_c):\n",
    "    try:\n",
    "        resultado = i / j\n",
    "        resultado = round(resultado)\n",
    "    except:                                    # Atajamos todos los errores.\n",
    "        resultado = nan\n",
    "    resultados_erroneos.append(resultado)\n",
    "    \n",
    "resultados_erroneos[:10]                        # Notar que los primeros 6 son nan.\n"
   ]
  },
  {
   "cell_type": "markdown",
   "metadata": {
    "colab_type": "text",
    "id": "ajce7eE4CPk7"
   },
   "source": [
    "Se puede especificar a `except` el tipo de error a atacar. También se puede implementar más de un `except`:\n",
    "\n",
    "```python\n",
    "try:\n",
    "    # algo que pueda dar un error\n",
    "except Error0:\n",
    "    # hacemos algo con el Error0\n",
    "except (Error1, Error2) as e:\n",
    "    # hacemos otra cosas para los errores 1 o 2 \n",
    "```"
   ]
  },
  {
   "cell_type": "code",
   "execution_count": null,
   "metadata": {
    "colab": {},
    "colab_type": "code",
    "id": "SLHilUkhCPuk"
   },
   "outputs": [],
   "source": [
    "resultados_erroneos_bis = []\n",
    "\n",
    "for i, j in zip(lista_a, lista_c):\n",
    "    try:\n",
    "        resultado = i / j\n",
    "        resultado = round(resultado)\n",
    "    except ZeroDivisionError:                    # Atajamos solo la division por zero.\n",
    "        resultado = nan\n",
    "    resultados_erroneos_bis.append(resultado)\n",
    "    \n",
    "resultados_erroneos_bis[:10]                      # Notar que los primeros 6 son nan."
   ]
  },
  {
   "cell_type": "markdown",
   "metadata": {
    "colab_type": "text",
    "id": "O1WaCKm1CQ8A"
   },
   "source": [
    "Ademas de `except`, puede tener dos partes opcionales:\n",
    "- `else`. Se va a ejecutar solamente si no hubo ninguna excepción.\n",
    "- `finally`. Se va a ejecutar siempre."
   ]
  },
  {
   "cell_type": "code",
   "execution_count": null,
   "metadata": {
    "colab": {},
    "colab_type": "code",
    "id": "IYQg7EshCQ6T"
   },
   "outputs": [],
   "source": [
    "resultados_bis = []\n",
    "\n",
    "for i, j in zip(lista_a, lista_b):\n",
    "    try:\n",
    "        resultado = i / j\n",
    "    except ZeroDivisionError:            # Atajamos SÓLO el error 'ZeroDivisionError'\n",
    "        resultado = nan\n",
    "    else:                                # Este bloque se ejecuta sólo si no hubo errores\n",
    "        resultado = round(resultado)\n",
    "    finally:                             # Este bloque siempre se va a ejecutar\n",
    "        resultados_bis.append(resultado)\n",
    "        \n",
    "resultados[:10]"
   ]
  },
  {
   "cell_type": "markdown",
   "metadata": {
    "colab_type": "text",
    "id": "gXCON0v4CQ4i"
   },
   "source": [
    "**EJERCICIO 24**: Modificar lo anterior para el caso que tambien hay strings mesclado"
   ]
  },
  {
   "cell_type": "code",
   "execution_count": null,
   "metadata": {},
   "outputs": [],
   "source": []
  },
  {
   "cell_type": "markdown",
   "metadata": {
    "colab_type": "text",
    "id": "CP4LhzfpCQ20"
   },
   "source": [
    "**EJERCICIO 25**: Redefinir el siguiente fragmento de código reemplazando la estructura `if/else` por una estructura `try/except`"
   ]
  },
  {
   "cell_type": "code",
   "execution_count": null,
   "metadata": {
    "colab": {},
    "colab_type": "code",
    "id": "-GVlUPO3CQ0g"
   },
   "outputs": [],
   "source": [
    "opciones = {'a': 'jugar', 'b': 'bailar', 'c': 'dormir siesta'}\n",
    "\n",
    "opcion = input(\"Ingrese opcion \")\n",
    "if opcion in opciones:\n",
    "    print('Vamos a ', opciones[opcion])\n",
    "else:\n",
    "    print('Valor invalido')\n"
   ]
  },
  {
   "cell_type": "code",
   "execution_count": null,
   "metadata": {
    "colab": {},
    "colab_type": "code",
    "id": "rGkYhcTb9ysE"
   },
   "outputs": [],
   "source": []
  },
  {
   "cell_type": "markdown",
   "metadata": {
    "colab_type": "text",
    "id": "DmGOn7Rk9ysH"
   },
   "source": [
    "**EJERCICIO 26**: *(tarea)* Se almacenan en una `lista`, `tuplas` o ternas con los precios de cotización del dolar para los primeros 15 días del mes de abril. Se deben comparar los valores con la cotización del 1° de Abril *hasta que* se registre una suba, cuando esto suceda, mostrar una alerta por pantalla y comparar los siguientes valores con el precio de suba.\n",
    "\n",
    "Sabiendo que 1° de Abril es Lunes en el calendario, si una suba se produce en fin de semana, no mostrar la alerta."
   ]
  },
  {
   "cell_type": "code",
   "execution_count": null,
   "metadata": {
    "colab": {},
    "colab_type": "code",
    "id": "hJmoHOes9ysJ"
   },
   "outputs": [],
   "source": [
    "precio_dolar_abril = [('01-04-19', 44.39, 44.39), \n",
    "                     ('03-04-19', 44.81, 44.81), \n",
    "                     ('04-04-19', 44.84, 44.84), \n",
    "                     ('05-04-19', 44.34, 44.34), \n",
    "                     ('08-04-19', 44.91, 44.91), \n",
    "                     ('09-04-19', 44.80, 44.80),\n",
    "                     ('10-04-19', 44.55, 44.55),\n",
    "                     ('11-04-19', 44.08, 44.08),\n",
    "                     ('12-04-19', 43.89, 43.89),\n",
    "                     ('15-04-19', 43.31, 43.32),]"
   ]
  },
  {
   "cell_type": "code",
   "execution_count": null,
   "metadata": {
    "colab": {},
    "colab_type": "code",
    "id": "cT0vLdzw9ysO"
   },
   "outputs": [],
   "source": [
    "finde_abril = [(7, 'sa'), (8, 'do')]"
   ]
  },
  {
   "cell_type": "code",
   "execution_count": null,
   "metadata": {
    "colab": {},
    "colab_type": "code",
    "id": "cTGAgBnn9ysR"
   },
   "outputs": [],
   "source": []
  },
  {
   "cell_type": "markdown",
   "metadata": {
    "colab_type": "text",
    "id": "Sr8K1jsg9ysU"
   },
   "source": [
    "# Referencias\n",
    "\n",
    "* [Documentación oficial de Python en Inglés](https://docs.python.org/3/)\n",
    "* [Tutorial PyAR en español](http://docs.python.org.ar/tutorial/3/index.html)\n",
    "* [Python para todos](http://mundogeek.net/tutorial-python/)\n",
    "* [Curso Python científico de Martín Gaitan (repo)](https://github.com/mgaitan/curso-python-cientifico)\n",
    "* [Dólar histórico 2019](https://www.cotizacion-dolar.com.ar/dolar-historico-2019.php)"
   ]
  }
 ],
 "metadata": {
  "colab": {
   "collapsed_sections": [],
   "name": "3-Estructuras-de-control-de-flujos.ipynb",
   "provenance": [],
   "version": "0.3.2"
  },
  "kernelspec": {
   "display_name": "Python 3",
   "language": "python",
   "name": "python3"
  },
  "language_info": {
   "codemirror_mode": {
    "name": "ipython",
    "version": 3
   },
   "file_extension": ".py",
   "mimetype": "text/x-python",
   "name": "python",
   "nbconvert_exporter": "python",
   "pygments_lexer": "ipython3",
   "version": "3.7.3"
  }
 },
 "nbformat": 4,
 "nbformat_minor": 2
}
