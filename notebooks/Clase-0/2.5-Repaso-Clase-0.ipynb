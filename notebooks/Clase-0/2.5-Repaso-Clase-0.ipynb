{
 "cells": [
  {
   "cell_type": "markdown",
   "metadata": {},
   "source": [
    "# Repaso de Clase 0\n",
    "\n",
    "## Tipos y estructuras de datos\n",
    "\n",
    "Algunos ejercicios para repasar la primer clase"
   ]
  },
  {
   "cell_type": "markdown",
   "metadata": {},
   "source": [
    "### Operaciones matemática y variables\n",
    "\n",
    "**EJERCICIO 9**: Dada la siguiente lista de materiales, sus precios y cantidades, calcular el precio final de la compra, *incluyendo IVA*.\n",
    "\n",
    "*NOTA*: IVA para consumidor final corresponde al 21%.\n",
    "\n",
    " Lista de materiales:\n",
    "\n",
    "- Bolsa de cemento:\n",
    "    - Cantidad: 4\n",
    "    - Precio unitario: \\$200,00\n",
    "- Bolsa de pegamento:\n",
    "    - Cantidad: 2\n",
    "    - Precio unitario: \\$250,50\n",
    "- Caja de cerámicos:\n",
    "    - Cantidad: 12\n",
    "    - Precio unitario: \\$370\n",
    "\n",
    "Los costos por elemento deben almacenarse en las variables correspondientes, y también el precio final.\n",
    "\n",
    "Por ejemplo: \n",
    "\n",
    "```python\n",
    "costo_total_cemento = 200.00 * 4\n",
    "costo_total = costo_total_cemento_iva + costo_total_pegamento_iva + costo_total_cemento_cerámico\n",
    "```\n",
    "\n",
    "Además se debe imprimir por pantalla el costo total de cada material y el final."
   ]
  },
  {
   "cell_type": "code",
   "execution_count": null,
   "metadata": {},
   "outputs": [],
   "source": []
  },
  {
   "cell_type": "code",
   "execution_count": null,
   "metadata": {},
   "outputs": [],
   "source": [
    "print('El costo total es: ' + str(costo_total))"
   ]
  },
  {
   "cell_type": "markdown",
   "metadata": {},
   "source": [
    "### Tipos de datos"
   ]
  },
  {
   "cell_type": "markdown",
   "metadata": {},
   "source": [
    "#### Booleano\n",
    "\n",
    "Las variables de tipo __bool__ (del inglés _boolean_) solamente pueden tomar dos valores: __True__ *(verdadero)* y __False__ *(falso)*. Python tiene la capacidad de interpretar varios tipos de variable como si fuesen booleanas, asignando el valor __False__ a variables __vacías__ y el valor __True__ a variables __no vacías__.\n",
    "\n",
    "| Entrada 1 \t| Entrada 2 \t|   Or \t|\n",
    "|:---------:\t|:---------:\t|:-----:\t|\n",
    "|   False   \t|   False   \t| False \t|\n",
    "|   False   \t|    True   \t|  True \t|\n",
    "|    True   \t|   False   \t|  True \t|\n",
    "|    True   \t|    True   \t|  True \t|\n",
    "    \n",
    "  | Entrada 1 \t| Entrada 2 \t|  And \t|\n",
    "|:---------:\t|:---------:\t|:-----:\t|\n",
    "|   False   \t|   False   \t| False \t|\n",
    "|   False   \t|    True   \t| False \t|\n",
    "|    True   \t|   False   \t| False \t|\n",
    "|    True   \t|    True   \t|  True \t||\n",
    "\n",
    "**EJERCICIO 10**\n",
    "\n",
    "**10.1**: Dadas las variables `el_tacho_esta_lleno` y `es_hora_recolector` **si ambas se cumplen**, se debe producir un `True`.\n",
    "\n",
    "**10.2**: Dadas las variables que almacenan el estado de sensores de humo, **si alguna de ellas se cumple**, se debe evacuar el lugar por lo que debe resultar en `True`.\n",
    "\n",
    "Elegir correspondientemente la operación booleana para cada caso, `and` u `or`."
   ]
  },
  {
   "cell_type": "code",
   "execution_count": 4,
   "metadata": {},
   "outputs": [],
   "source": [
    "el_tacho_esta_lleno = True\n",
    "es_hora_recolector = True"
   ]
  },
  {
   "cell_type": "code",
   "execution_count": null,
   "metadata": {},
   "outputs": [],
   "source": []
  },
  {
   "cell_type": "code",
   "execution_count": null,
   "metadata": {},
   "outputs": [],
   "source": [
    "sensor_humo_cocina = False\n",
    "sensor_humo_comedor = True\n",
    "sensor_humo_baño = True"
   ]
  },
  {
   "cell_type": "code",
   "execution_count": null,
   "metadata": {},
   "outputs": [],
   "source": []
  },
  {
   "cell_type": "markdown",
   "metadata": {},
   "source": [
    "### Estructuras de datos\n",
    "\n",
    "* **Lista**: Secuencia de objetos *ordenada*, separados por coma y entre *corchetes*, \n",
    "\n",
    "`lista = [objeto0, objeto1, objeto2]`\n",
    "\n",
    "Es mutable, se indexa con números enteros, comparte propiedades con los strings, generalmente almacena objetos *homogéneos*. En otros lenguajes o en álgebra se conoce como `vector o array`.\n",
    "\n",
    "* **Tupla**: Secuencia de elementos *ordenados*, separados por coma y entre *paréntesis*, \n",
    "\n",
    "`tupla = (objeto0, objeto1, objeto2)`\n",
    "\n",
    "Es inmutable, se indexa con números enteros, generalmente almacena objetos *heterogéneos*.\n",
    "\n",
    "* **Diccionario**: Estructura de datos que almacena elementos *no ordenados*, separados por coma, entre *llaves* del tipo *clave: valor*, mapeando una clave de manera unívoca con un valor, en vez de índices enteros, \n",
    "\n",
    "`diccionario = {clave0: valor0, clave1: valor1, clave2, valor2}`\n",
    "\n",
    "Las claves pueden ser cualquier objeto *inmutable*.\n",
    "\n",
    "* **Set**: Conjunto de elementos *no ordenado* y sin repetir, separados por coma y entre *llaves*, \n",
    "\n",
    "`set_ejemplo = {objeto1, objeto2}`\n",
    "\n",
    "No admite indexado, se emplea para trabajar con propiedades de conjunto *(pertenece, unión, intersección, etc)*."
   ]
  },
  {
   "cell_type": "markdown",
   "metadata": {},
   "source": [
    "**EJERCICIO 11**: Dado el siguiente string, encontrar dos palabras que correspondan con tipos de datos numéricos abordados en la Clase-0, usando indexado."
   ]
  },
  {
   "cell_type": "code",
   "execution_count": 6,
   "metadata": {},
   "outputs": [],
   "source": [
    "sopa_de_letras = 'qwinterfloatty'"
   ]
  },
  {
   "cell_type": "code",
   "execution_count": 8,
   "metadata": {},
   "outputs": [
    {
     "data": {
      "text/plain": [
       "'floa'"
      ]
     },
     "execution_count": 8,
     "metadata": {},
     "output_type": "execute_result"
    }
   ],
   "source": []
  },
  {
   "cell_type": "markdown",
   "metadata": {},
   "source": [
    "**EJERCICIO 12**: Definir una `tupla` que contenga las letras de tu segundo nombre, es decir, cada letra debe ser un objeto del tipo string contenido por la estructura de datos."
   ]
  },
  {
   "cell_type": "code",
   "execution_count": null,
   "metadata": {},
   "outputs": [],
   "source": []
  },
  {
   "cell_type": "markdown",
   "metadata": {},
   "source": [
    "**EJERCICIO 13**: Dada la lista con los días de la semana llamada `días de la semana`, acceder al `viernes` y escribir por pantalla *\"Es viernes y mi cuerpo lo sabe\"*."
   ]
  },
  {
   "cell_type": "code",
   "execution_count": 5,
   "metadata": {},
   "outputs": [],
   "source": [
    "dias_de_la_semana = ['lunes', 'martes', 'miércoles', 'jueves', 'viernes', 'sábado', 'domingo']"
   ]
  },
  {
   "cell_type": "code",
   "execution_count": null,
   "metadata": {},
   "outputs": [],
   "source": []
  },
  {
   "cell_type": "markdown",
   "metadata": {},
   "source": [
    "**EJERCICIO 14**: Crear un diccionario que almacene como `key` los nombres de países y como `value` la cantidad de copas mundiales de fútbol obtenidas."
   ]
  },
  {
   "cell_type": "code",
   "execution_count": null,
   "metadata": {},
   "outputs": [],
   "source": []
  },
  {
   "cell_type": "markdown",
   "metadata": {},
   "source": [
    "**EJERCICIO 15**: Dado un diccionario con la lista de la verdulería, acceder a la cantidad de `bananas` y `papa`."
   ]
  },
  {
   "cell_type": "code",
   "execution_count": 9,
   "metadata": {},
   "outputs": [],
   "source": [
    "compras_verdulería = {'naranja': 6, 'banana': 12, 'papa': '2 kg', 'cebolla': '1 kg'}"
   ]
  },
  {
   "cell_type": "code",
   "execution_count": null,
   "metadata": {},
   "outputs": [],
   "source": []
  }
 ],
 "metadata": {
  "kernelspec": {
   "display_name": "Python 3",
   "language": "python",
   "name": "python3"
  },
  "language_info": {
   "codemirror_mode": {
    "name": "ipython",
    "version": 3
   },
   "file_extension": ".py",
   "mimetype": "text/x-python",
   "name": "python",
   "nbconvert_exporter": "python",
   "pygments_lexer": "ipython3",
   "version": "3.7.3"
  }
 },
 "nbformat": 4,
 "nbformat_minor": 2
}
