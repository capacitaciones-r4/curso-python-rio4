{
 "cells": [
  {
   "cell_type": "markdown",
   "metadata": {},
   "source": [
    "# Tipos de de datos en Python\n",
    "\n",
    "* **Número**\n",
    "    * **Int** (entero), `3`, `598`, `1655`\n",
    "    * **Flot** (de punto flotante), `1.5`, `2.0`\n",
    "    * **Complex** (complejo), `1 + j`, `29 + 56j`\n",
    "* **String** (cadenas de texto), `'hola'`, `\"A\"`\n",
    "* **Bool**, `True`, `False`"
   ]
  },
  {
   "cell_type": "markdown",
   "metadata": {},
   "source": [
    "Python es un lenguaje de **tipado dinámico**, es decir que no es necesario definir el tipo de dato sino que el intérprete setea el tipo de dato, por lo que hay que prestar atención a la forma en la que se definen."
   ]
  },
  {
   "cell_type": "markdown",
   "metadata": {},
   "source": [
    "# Números\n",
    "\n",
    "## Int"
   ]
  },
  {
   "cell_type": "markdown",
   "metadata": {},
   "source": [
    "El nombre __int__ proviene del inglés _integer_ y se utiliza para almacenar números __enteros__, tanto positivos como negativos. Al definir una variable como número entero Python le asigna automaticamente este tipo. En Python 3 los enteros no tienen límite de tamaño."
   ]
  },
  {
   "cell_type": "markdown",
   "metadata": {},
   "source": [
    "## Float"
   ]
  },
  {
   "cell_type": "markdown",
   "metadata": {},
   "source": [
    "El nombre __float__ proviene de _floating point real values_, se utilizan para representar número reales no enteros."
   ]
  },
  {
   "cell_type": "code",
   "execution_count": 1,
   "metadata": {},
   "outputs": [
    {
     "data": {
      "text/plain": [
       "(float, float)"
      ]
     },
     "execution_count": 1,
     "metadata": {},
     "output_type": "execute_result"
    }
   ],
   "source": [
    "type(.5), type(2.0)"
   ]
  },
  {
   "cell_type": "markdown",
   "metadata": {},
   "source": [
    "## Complex"
   ]
  },
  {
   "cell_type": "markdown",
   "metadata": {},
   "source": [
    "Los números complejos se representan en Python utilizando a la ___j___ como número imaginario, siempre precedida con un número real:\n",
    "    \n",
    "```python\n",
    "\n",
    "numero_complejo = 1 + 1j #forma correcta\n",
    "numero_complejo = 1 + j  #forma incorrecta\n",
    "\n",
    "```"
   ]
  },
  {
   "cell_type": "markdown",
   "metadata": {},
   "source": [
    "## Conversión entre tipos numéricos"
   ]
  },
  {
   "cell_type": "markdown",
   "metadata": {},
   "source": [
    "Si la situación lo requiere puede modificarse el tipo de una variable mediante funciones específicas:"
   ]
  },
  {
   "cell_type": "code",
   "execution_count": 38,
   "metadata": {},
   "outputs": [],
   "source": [
    "int_nativo = 41\n",
    "float_nativo = 42.3\n",
    "complex_nativo = 43 + 0j"
   ]
  },
  {
   "cell_type": "code",
   "execution_count": 39,
   "metadata": {},
   "outputs": [
    {
     "data": {
      "text/plain": [
       "(int, float, complex)"
      ]
     },
     "execution_count": 2,
     "metadata": {},
     "output_type": "execute_result"
    }
   ],
   "source": [
    "type(int_nativo), type(float_nativo), type(complex_nativo)"
   ]
  },
  {
   "cell_type": "code",
   "execution_count": 41,
   "metadata": {},
   "outputs": [
    {
     "data": {
      "text/plain": [
       "int"
      ]
     },
     "execution_count": 41,
     "metadata": {},
     "output_type": "execute_result"
    }
   ],
   "source": [
    "nuevo_int = int(float_nativo)\n",
    "type(nuevo_int)"
   ]
  },
  {
   "cell_type": "code",
   "execution_count": 42,
   "metadata": {},
   "outputs": [
    {
     "data": {
      "text/plain": [
       "int"
      ]
     },
     "execution_count": 42,
     "metadata": {},
     "output_type": "execute_result"
    }
   ],
   "source": [
    "float_nativo = int(float_nativo)\n",
    "type(float_nativo)"
   ]
  },
  {
   "cell_type": "code",
   "execution_count": 3,
   "metadata": {},
   "outputs": [
    {
     "data": {
      "text/plain": [
       "complex"
      ]
     },
     "execution_count": 56,
     "metadata": {},
     "output_type": "execute_result"
    }
   ],
   "source": [
    "int_nativo = complex(int_nativo)\n",
    "type(int_nativo)"
   ]
  },
  {
   "cell_type": "markdown",
   "metadata": {},
   "source": [
    "__NOTA &__: Cambiar de __float a int__ cuando el decimal del número no es igual a cero conlleva pérdida de información:"
   ]
  },
  {
   "cell_type": "code",
   "execution_count": 53,
   "metadata": {},
   "outputs": [
    {
     "data": {
      "text/plain": [
       "(100.25, float)"
      ]
     },
     "execution_count": 53,
     "metadata": {},
     "output_type": "execute_result"
    }
   ],
   "source": [
    "flotante = 100.25\n",
    "flotante, type(flotante)"
   ]
  },
  {
   "cell_type": "code",
   "execution_count": 54,
   "metadata": {},
   "outputs": [
    {
     "data": {
      "text/plain": [
       "(100, int)"
      ]
     },
     "execution_count": 54,
     "metadata": {},
     "output_type": "execute_result"
    }
   ],
   "source": [
    "flotante=int(flotante)\n",
    "flotante, type(flotante)"
   ]
  },
  {
   "cell_type": "markdown",
   "metadata": {},
   "source": [
    "__NOTA &__: No es posible cambiar el tipo __complex__ a otro tipo numérico"
   ]
  },
  {
   "cell_type": "markdown",
   "metadata": {},
   "source": [
    "## __Objetos__ int y float"
   ]
  },
  {
   "cell_type": "markdown",
   "metadata": {},
   "source": [
    "Las variables de estos tipos se consideran objetos (como todo en Python), y como tales tienen _atributos_ y _métodos_ especiales:"
   ]
  },
  {
   "cell_type": "code",
   "execution_count": 104,
   "metadata": {},
   "outputs": [],
   "source": [
    "variable_de_tipo_int = -41.2"
   ]
  },
  {
   "cell_type": "code",
   "execution_count": 89,
   "metadata": {},
   "outputs": [
    {
     "data": {
      "text/plain": [
       "6"
      ]
     },
     "execution_count": 89,
     "metadata": {},
     "output_type": "execute_result"
    }
   ],
   "source": [
    "variable_de_tipo_int.bit_length()"
   ]
  },
  {
   "cell_type": "code",
   "execution_count": 90,
   "metadata": {},
   "outputs": [
    {
     "data": {
      "text/plain": [
       "-41"
      ]
     },
     "execution_count": 90,
     "metadata": {},
     "output_type": "execute_result"
    }
   ],
   "source": [
    "variable_de_tipo_int.conjugate()"
   ]
  },
  {
   "cell_type": "code",
   "execution_count": 105,
   "metadata": {},
   "outputs": [
    {
     "data": {
      "text/plain": [
       "(-2899192260119757, 70368744177664)"
      ]
     },
     "execution_count": 105,
     "metadata": {},
     "output_type": "execute_result"
    }
   ],
   "source": [
    "variable_de_tipo_int.as_integer_ratio()\n"
   ]
  },
  {
   "cell_type": "code",
   "execution_count": 106,
   "metadata": {},
   "outputs": [
    {
     "data": {
      "text/plain": [
       "41.2"
      ]
     },
     "execution_count": 106,
     "metadata": {},
     "output_type": "execute_result"
    }
   ],
   "source": [
    "2899192260119757 / 70368744177664"
   ]
  },
  {
   "cell_type": "markdown",
   "metadata": {},
   "source": [
    "## Bool"
   ]
  },
  {
   "cell_type": "code",
   "execution_count": null,
   "metadata": {},
   "outputs": [],
   "source": [
    "type(2 > 1), type('a' == 1)"
   ]
  },
  {
   "cell_type": "markdown",
   "metadata": {},
   "source": [
    "## String\n",
    "\n",
    "Un string es una secuencia de caracteres, pueden ser letras, palabras, espacios, saltos de línea, símbolos. Python 3 emplea como estándar `unicode`.\n",
    "\n",
    "### ¿Cómo definir un string?\n",
    "\n",
    "**¡CON COMILLAS!** Es la forma de indicarle al intérprete de Python que se desea definir un string. Pueden ser comillas simples o dobles, la triple comilla permite texto multilínea."
   ]
  },
  {
   "cell_type": "code",
   "execution_count": 4,
   "metadata": {},
   "outputs": [],
   "source": [
    "mi_primer_string = 'Esto es un string'"
   ]
  },
  {
   "cell_type": "code",
   "execution_count": 5,
   "metadata": {},
   "outputs": [
    {
     "name": "stdout",
     "output_type": "stream",
     "text": [
      "Esto es un string\n"
     ]
    }
   ],
   "source": [
    "print(mi_primer_string)"
   ]
  },
  {
   "cell_type": "code",
   "execution_count": 6,
   "metadata": {},
   "outputs": [
    {
     "data": {
      "text/plain": [
       "str"
      ]
     },
     "execution_count": 6,
     "metadata": {},
     "output_type": "execute_result"
    }
   ],
   "source": [
    "type(mi_primer_string)"
   ]
  },
  {
   "cell_type": "code",
   "execution_count": 7,
   "metadata": {},
   "outputs": [
    {
     "name": "stdout",
     "output_type": "stream",
     "text": [
      "Ñ\n"
     ]
    },
    {
     "data": {
      "text/plain": [
       "str"
      ]
     },
     "execution_count": 7,
     "metadata": {},
     "output_type": "execute_result"
    }
   ],
   "source": [
    "una_enie = 'Ñ'\n",
    "print(una_enie)\n",
    "type(una_enie)"
   ]
  },
  {
   "cell_type": "code",
   "execution_count": 8,
   "metadata": {},
   "outputs": [
    {
     "name": "stdout",
     "output_type": "stream",
     "text": [
      "字漢字\n"
     ]
    },
    {
     "data": {
      "text/plain": [
       "str"
      ]
     },
     "execution_count": 8,
     "metadata": {},
     "output_type": "execute_result"
    }
   ],
   "source": [
    "simbolos_chinos = \"字漢字\"\n",
    "print(simbolos_chinos)\n",
    "type(simbolos_chinos)"
   ]
  },
  {
   "cell_type": "code",
   "execution_count": 9,
   "metadata": {},
   "outputs": [
    {
     "name": "stdout",
     "output_type": "stream",
     "text": [
      "¿Sabés lo que tenían para comer? \n",
      "¡Tres empanadas!\n"
     ]
    },
    {
     "data": {
      "text/plain": [
       "str"
      ]
     },
     "execution_count": 9,
     "metadata": {},
     "output_type": "execute_result"
    }
   ],
   "source": [
    "frase_antonio = \"\"\"¿Sabés lo que tenían para comer? \n",
    "¡Tres empanadas!\"\"\"\n",
    "print(frase_antonio)\n",
    "type(frase_antonio)"
   ]
  },
  {
   "cell_type": "code",
   "execution_count": 10,
   "metadata": {},
   "outputs": [
    {
     "name": "stdout",
     "output_type": "stream",
     "text": [
      "¿Sabés lo que tenían para comer?\n",
      "¡Tres empanadas!\n"
     ]
    },
    {
     "data": {
      "text/plain": [
       "str"
      ]
     },
     "execution_count": 10,
     "metadata": {},
     "output_type": "execute_result"
    }
   ],
   "source": [
    "frase_antonio = \"\"\"¿Sabés lo que tenían para comer?\\n¡Tres empanadas!\"\"\"\n",
    "print(frase_antonio)\n",
    "type(frase_antonio)"
   ]
  },
  {
   "cell_type": "code",
   "execution_count": 73,
   "metadata": {},
   "outputs": [],
   "source": [
    "string_o_float = '3.1416'"
   ]
  },
  {
   "cell_type": "markdown",
   "metadata": {},
   "source": [
    "![](https://media1.tenor.com/images/2acd46917cbfeca0d71d1fd0899f992f/tenor.gif?itemid=4502079)"
   ]
  },
  {
   "cell_type": "code",
   "execution_count": null,
   "metadata": {},
   "outputs": [],
   "source": []
  },
  {
   "cell_type": "markdown",
   "metadata": {},
   "source": [
    "Para convertir un tipo de dato a `str` (siempre que sea posible), se emplea la función `str(objeto)`"
   ]
  },
  {
   "cell_type": "code",
   "execution_count": 41,
   "metadata": {},
   "outputs": [
    {
     "name": "stdout",
     "output_type": "stream",
     "text": [
      "<class 'int'>\n"
     ]
    },
    {
     "data": {
      "text/plain": [
       "str"
      ]
     },
     "execution_count": 41,
     "metadata": {},
     "output_type": "execute_result"
    }
   ],
   "source": [
    "tres_patitos = 222\n",
    "print(type(tres_patitos))\n",
    "tres_patitos_str = str(tres_patitos)\n",
    "type(tres_patitos_str)"
   ]
  },
  {
   "cell_type": "markdown",
   "metadata": {},
   "source": [
    "Algunos **métodos** del objeto string:\n",
    "\n",
    "* Pasar a mayúsculas: `nombre_string.upper()`\n",
    "* Pasar a minúscula: `nombre_string.lower()`\n",
    "* Capitalizar: `nombre_string.capitalize()`\n",
    "* Contar frecuencia de caracter: `nombre_string.count('caracter')`"
   ]
  },
  {
   "cell_type": "code",
   "execution_count": 1,
   "metadata": {},
   "outputs": [],
   "source": [
    "palabra = 'veo'"
   ]
  },
  {
   "cell_type": "code",
   "execution_count": 13,
   "metadata": {},
   "outputs": [
    {
     "data": {
      "text/plain": [
       "'VEO'"
      ]
     },
     "execution_count": 13,
     "metadata": {},
     "output_type": "execute_result"
    }
   ],
   "source": [
    "palabra.upper()"
   ]
  },
  {
   "cell_type": "code",
   "execution_count": 14,
   "metadata": {},
   "outputs": [
    {
     "data": {
      "text/plain": [
       "'Veo'"
      ]
     },
     "execution_count": 14,
     "metadata": {},
     "output_type": "execute_result"
    }
   ],
   "source": [
    "palabra.capitalize()"
   ]
  },
  {
   "cell_type": "code",
   "execution_count": 15,
   "metadata": {},
   "outputs": [
    {
     "data": {
      "text/plain": [
       "0"
      ]
     },
     "execution_count": 15,
     "metadata": {},
     "output_type": "execute_result"
    }
   ],
   "source": [
    "palabra.count('a')"
   ]
  },
  {
   "cell_type": "code",
   "execution_count": 16,
   "metadata": {},
   "outputs": [
    {
     "data": {
      "text/plain": [
       "1"
      ]
     },
     "execution_count": 16,
     "metadata": {},
     "output_type": "execute_result"
    }
   ],
   "source": [
    "palabra.count('v')"
   ]
  },
  {
   "cell_type": "markdown",
   "metadata": {},
   "source": [
    "`Alt + Tab` es un amigo"
   ]
  },
  {
   "cell_type": "code",
   "execution_count": 17,
   "metadata": {},
   "outputs": [
    {
     "ename": "SyntaxError",
     "evalue": "invalid syntax (<ipython-input-17-c3a606ebbdff>, line 1)",
     "output_type": "error",
     "traceback": [
      "\u001b[0;36m  File \u001b[0;32m\"<ipython-input-17-c3a606ebbdff>\"\u001b[0;36m, line \u001b[0;32m1\u001b[0m\n\u001b[0;31m    palabra.\u001b[0m\n\u001b[0m            ^\u001b[0m\n\u001b[0;31mSyntaxError\u001b[0m\u001b[0;31m:\u001b[0m invalid syntax\n"
     ]
    }
   ],
   "source": [
    "palabra."
   ]
  },
  {
   "cell_type": "markdown",
   "metadata": {},
   "source": [
    "### Operaciones con strings\n",
    "\n",
    "Python permite usar operadores con tipos de datos strings, de manera similar a los tipos de datos numéricos."
   ]
  },
  {
   "cell_type": "code",
   "execution_count": 18,
   "metadata": {},
   "outputs": [
    {
     "data": {
      "text/plain": [
       "'palabrapalabra'"
      ]
     },
     "execution_count": 18,
     "metadata": {},
     "output_type": "execute_result"
    }
   ],
   "source": [
    "'palabra' * 2"
   ]
  },
  {
   "cell_type": "code",
   "execution_count": 19,
   "metadata": {},
   "outputs": [
    {
     "data": {
      "text/plain": [
       "'veoveo'"
      ]
     },
     "execution_count": 19,
     "metadata": {},
     "output_type": "execute_result"
    }
   ],
   "source": [
    "palabra * 2"
   ]
  },
  {
   "cell_type": "code",
   "execution_count": 20,
   "metadata": {},
   "outputs": [
    {
     "data": {
      "text/plain": [
       "'veoveo ¿qué ves?'"
      ]
     },
     "execution_count": 20,
     "metadata": {},
     "output_type": "execute_result"
    }
   ],
   "source": [
    "otra_palabra = '¿qué ves?'\n",
    "palabra * 2 + ' ' + otra_palabra"
   ]
  },
  {
   "cell_type": "code",
   "execution_count": 46,
   "metadata": {},
   "outputs": [
    {
     "ename": "TypeError",
     "evalue": "unsupported operand type(s) for /: 'str' and 'int'",
     "output_type": "error",
     "traceback": [
      "\u001b[0;31m---------------------------------------------------------------------------\u001b[0m",
      "\u001b[0;31mTypeError\u001b[0m                                 Traceback (most recent call last)",
      "\u001b[0;32m<ipython-input-46-fd593ef232a5>\u001b[0m in \u001b[0;36m<module>\u001b[0;34m\u001b[0m\n\u001b[0;32m----> 1\u001b[0;31m \u001b[0mpalabra\u001b[0m \u001b[0;34m/\u001b[0m \u001b[0;36m2\u001b[0m\u001b[0;34m\u001b[0m\u001b[0;34m\u001b[0m\u001b[0m\n\u001b[0m",
      "\u001b[0;31mTypeError\u001b[0m: unsupported operand type(s) for /: 'str' and 'int'"
     ]
    }
   ],
   "source": [
    "palabra / 2"
   ]
  },
  {
   "cell_type": "code",
   "execution_count": 47,
   "metadata": {},
   "outputs": [
    {
     "ename": "TypeError",
     "evalue": "unsupported operand type(s) for ** or pow(): 'str' and 'int'",
     "output_type": "error",
     "traceback": [
      "\u001b[0;31m---------------------------------------------------------------------------\u001b[0m",
      "\u001b[0;31mTypeError\u001b[0m                                 Traceback (most recent call last)",
      "\u001b[0;32m<ipython-input-47-186e490536c7>\u001b[0m in \u001b[0;36m<module>\u001b[0;34m\u001b[0m\n\u001b[0;32m----> 1\u001b[0;31m \u001b[0mpalabra\u001b[0m \u001b[0;34m**\u001b[0m \u001b[0;36m2\u001b[0m\u001b[0;34m\u001b[0m\u001b[0;34m\u001b[0m\u001b[0m\n\u001b[0m",
      "\u001b[0;31mTypeError\u001b[0m: unsupported operand type(s) for ** or pow(): 'str' and 'int'"
     ]
    }
   ],
   "source": [
    "palabra ** 2"
   ]
  },
  {
   "cell_type": "markdown",
   "metadata": {},
   "source": [
    "### Split\n",
    "\n",
    "Se trata de un *método* de los objetos del tipo `str` que permite **separar** un string, según un determinado criterio.\n",
    "\n",
    "Su sintaxis es `nombre_string.split('string de separación')`"
   ]
  },
  {
   "cell_type": "code",
   "execution_count": 21,
   "metadata": {},
   "outputs": [
    {
     "data": {
      "text/plain": [
       "['hola', 'mundo', 'desde', 'Python']"
      ]
     },
     "execution_count": 21,
     "metadata": {},
     "output_type": "execute_result"
    }
   ],
   "source": [
    "texto_a_splitear = 'hola mundo desde Python'\n",
    "texto_a_splitear.split(' ')"
   ]
  },
  {
   "cell_type": "code",
   "execution_count": 22,
   "metadata": {},
   "outputs": [],
   "source": [
    "ingredientes_guiso = 'tomate, cebolla, pimiento, carne, papa, batata, chorizo colorado, lentejas'"
   ]
  },
  {
   "cell_type": "code",
   "execution_count": 23,
   "metadata": {},
   "outputs": [
    {
     "data": {
      "text/plain": [
       "['tomate',\n",
       " ' cebolla',\n",
       " ' pimiento',\n",
       " ' carne',\n",
       " ' papa',\n",
       " ' batata',\n",
       " ' chorizo colorado',\n",
       " ' lentejas']"
      ]
     },
     "execution_count": 23,
     "metadata": {},
     "output_type": "execute_result"
    }
   ],
   "source": [
    "ingredientes_guiso.split(',')"
   ]
  },
  {
   "cell_type": "markdown",
   "metadata": {},
   "source": [
    "¿Qué cosa extraña devulelve el split?"
   ]
  },
  {
   "cell_type": "markdown",
   "metadata": {},
   "source": [
    "### Join\n",
    "\n",
    "Join es el método *opuesto* a split, a partir de un conjunto de strings separados, genera un objeto compuesto por todos ellos.\n",
    "\n",
    "Su sintaxis es: `\"string de unión\".join(['string1', 'string2'])`"
   ]
  },
  {
   "cell_type": "code",
   "execution_count": 57,
   "metadata": {},
   "outputs": [],
   "source": [
    "lista_de_palabras = ['¡Con',\n",
    "                     '10',\n",
    "                     '\"pé\"',\n",
    "                     'me', \n",
    "                     'hago',\n",
    "                     'alto',\n",
    "                     'guiso!']"
   ]
  },
  {
   "cell_type": "code",
   "execution_count": 59,
   "metadata": {},
   "outputs": [
    {
     "data": {
      "text/plain": [
       "'¡Con 10 \"pé\" me hago alto guiso!'"
      ]
     },
     "execution_count": 59,
     "metadata": {},
     "output_type": "execute_result"
    }
   ],
   "source": [
    "' '.join(lista_de_palabras)"
   ]
  },
  {
   "cell_type": "markdown",
   "metadata": {},
   "source": [
    "### Indexado y rebanado (o slicing)\n",
    "\n",
    "Los strings son secuencias, o sea conjuntos ordenados que se pueden indexar, recortar, reordenar, etc.\n",
    "\n",
    "Para el siguiente string:\n",
    "\n",
    "![](https://raw.githubusercontent.com/mgaitan/curso-python-cientifico/e0567d7ba49f0deb167fe71b80b404d95d7afb6e/img/index_slicing.png)"
   ]
  },
  {
   "cell_type": "code",
   "execution_count": 20,
   "metadata": {},
   "outputs": [],
   "source": [
    "string_a_indexar = 'HOLA MUNDO'"
   ]
  },
  {
   "cell_type": "markdown",
   "metadata": {},
   "source": [
    "*NOTA*: En Python se comienza a contar desde cero y no desde uno."
   ]
  },
  {
   "cell_type": "code",
   "execution_count": 21,
   "metadata": {},
   "outputs": [
    {
     "data": {
      "text/plain": [
       "'H'"
      ]
     },
     "execution_count": 21,
     "metadata": {},
     "output_type": "execute_result"
    }
   ],
   "source": [
    "string_a_indexar[0]"
   ]
  },
  {
   "cell_type": "code",
   "execution_count": 22,
   "metadata": {},
   "outputs": [
    {
     "data": {
      "text/plain": [
       "'HOLA'"
      ]
     },
     "execution_count": 22,
     "metadata": {},
     "output_type": "execute_result"
    }
   ],
   "source": [
    "string_a_indexar[0:4]"
   ]
  },
  {
   "cell_type": "markdown",
   "metadata": {},
   "source": [
    "*OJO*: No incluye la posición 4, se \"rebana\" desde el 0 hasta el 4 *sin incluir*."
   ]
  },
  {
   "cell_type": "code",
   "execution_count": 37,
   "metadata": {},
   "outputs": [
    {
     "data": {
      "text/plain": [
       "10"
      ]
     },
     "execution_count": 37,
     "metadata": {},
     "output_type": "execute_result"
    }
   ],
   "source": [
    "len(string_a_indexar)"
   ]
  },
  {
   "cell_type": "code",
   "execution_count": 46,
   "metadata": {},
   "outputs": [
    {
     "data": {
      "text/plain": [
       "'HOLA MUNDO'"
      ]
     },
     "execution_count": 46,
     "metadata": {},
     "output_type": "execute_result"
    }
   ],
   "source": [
    "string_a_indexar[0:110]"
   ]
  },
  {
   "cell_type": "code",
   "execution_count": 49,
   "metadata": {},
   "outputs": [
    {
     "ename": "IndexError",
     "evalue": "string index out of range",
     "output_type": "error",
     "traceback": [
      "\u001b[0;31m---------------------------------------------------------------------------\u001b[0m",
      "\u001b[0;31mIndexError\u001b[0m                                Traceback (most recent call last)",
      "\u001b[0;32m<ipython-input-49-221fda23952a>\u001b[0m in \u001b[0;36m<module>\u001b[0;34m\u001b[0m\n\u001b[0;32m----> 1\u001b[0;31m \u001b[0mstring_a_indexar\u001b[0m\u001b[0;34m[\u001b[0m\u001b[0;36m11\u001b[0m\u001b[0;34m]\u001b[0m\u001b[0;34m\u001b[0m\u001b[0;34m\u001b[0m\u001b[0m\n\u001b[0m",
      "\u001b[0;31mIndexError\u001b[0m: string index out of range"
     ]
    }
   ],
   "source": [
    "string_a_indexar[11]"
   ]
  },
  {
   "cell_type": "code",
   "execution_count": 31,
   "metadata": {},
   "outputs": [
    {
     "data": {
      "text/plain": [
       "'O'"
      ]
     },
     "execution_count": 31,
     "metadata": {},
     "output_type": "execute_result"
    }
   ],
   "source": [
    "string_a_indexar[-1]"
   ]
  },
  {
   "cell_type": "code",
   "execution_count": 60,
   "metadata": {},
   "outputs": [
    {
     "data": {
      "text/plain": [
       "'HOLA MUNDO'"
      ]
     },
     "execution_count": 60,
     "metadata": {},
     "output_type": "execute_result"
    }
   ],
   "source": [
    "string_a_indexar[:]"
   ]
  },
  {
   "cell_type": "markdown",
   "metadata": {},
   "source": [
    "¿Cómo se obtiene la \"M\"?"
   ]
  },
  {
   "cell_type": "code",
   "execution_count": null,
   "metadata": {},
   "outputs": [],
   "source": []
  },
  {
   "cell_type": "code",
   "execution_count": 32,
   "metadata": {},
   "outputs": [
    {
     "data": {
      "text/plain": [
       "'ODNUM ALOH'"
      ]
     },
     "execution_count": 32,
     "metadata": {},
     "output_type": "execute_result"
    }
   ],
   "source": [
    "string_a_indexar[::-1]"
   ]
  },
  {
   "cell_type": "markdown",
   "metadata": {},
   "source": [
    "![](https://media.tenor.com/images/24a81c6b4a59269350112f76a4744acd/tenor.gif)"
   ]
  },
  {
   "cell_type": "markdown",
   "metadata": {},
   "source": [
    "Los strings son **inmutables**, es decir que, una vez definida la secuencia, no es posible modificarla."
   ]
  },
  {
   "cell_type": "code",
   "execution_count": 33,
   "metadata": {},
   "outputs": [
    {
     "ename": "TypeError",
     "evalue": "'str' object does not support item assignment",
     "output_type": "error",
     "traceback": [
      "\u001b[0;31m---------------------------------------------------------------------------\u001b[0m",
      "\u001b[0;31mTypeError\u001b[0m                                 Traceback (most recent call last)",
      "\u001b[0;32m<ipython-input-33-0446dc1a97e5>\u001b[0m in \u001b[0;36m<module>\u001b[0;34m\u001b[0m\n\u001b[0;32m----> 1\u001b[0;31m \u001b[0mstring_a_indexar\u001b[0m\u001b[0;34m[\u001b[0m\u001b[0;36m0\u001b[0m\u001b[0;34m]\u001b[0m \u001b[0;34m=\u001b[0m \u001b[0;34m'A'\u001b[0m\u001b[0;34m\u001b[0m\u001b[0;34m\u001b[0m\u001b[0m\n\u001b[0m",
      "\u001b[0;31mTypeError\u001b[0m: 'str' object does not support item assignment"
     ]
    }
   ],
   "source": [
    "string_a_indexar[0] = 'A'"
   ]
  },
  {
   "cell_type": "code",
   "execution_count": 34,
   "metadata": {},
   "outputs": [
    {
     "data": {
      "text/plain": [
       "'ALÓ MUNDO'"
      ]
     },
     "execution_count": 34,
     "metadata": {},
     "output_type": "execute_result"
    }
   ],
   "source": [
    "'ALÓ' + string_a_indexar[4:]"
   ]
  },
  {
   "cell_type": "code",
   "execution_count": 35,
   "metadata": {},
   "outputs": [
    {
     "name": "stdout",
     "output_type": "stream",
     "text": [
      "ALÓ MUNDO\n"
     ]
    }
   ],
   "source": [
    "string_a_indexar = string_a_indexar.replace('HOLA', 'ALÓ')\n",
    "print(string_a_indexar)"
   ]
  },
  {
   "cell_type": "markdown",
   "metadata": {},
   "source": [
    "**EJEMPLO 0**: A partir de los *palíndromos*:\n",
    "\n",
    "> *\"Acaso hubo buhos acá\"*\n",
    "\n",
    "> *\"Amargor pleno con el programa\"*\n",
    "\n",
    "de Juan Filloy, corroborar que cumple con la característica de un palíndromo, eliminar los espacios, dividir la palabra a la mitad, invertir los dos string resultantes, unirlos e imprimir el original y el modificado para poder leerlos en voz alta."
   ]
  },
  {
   "cell_type": "markdown",
   "metadata": {},
   "source": [
    "**RESOLUCIÓN**: \n",
    "\n",
    "* Se separan los vocablos de los espacios con la función `split()`.\n",
    "* Se los concatena con la función `.join()`.\n",
    "* Se imprime la longitud del string resultante con `len()`.\n",
    "* Se divide el string a la mitad y se invierten los resultantes usando `indexado`.\n",
    "* Se imprime el original y el resultado."
   ]
  },
  {
   "cell_type": "markdown",
   "metadata": {},
   "source": [
    "Encontrar el error en el código"
   ]
  },
  {
   "cell_type": "code",
   "execution_count": 50,
   "metadata": {},
   "outputs": [
    {
     "name": "stdout",
     "output_type": "stream",
     "text": [
      "acasohubobuhosacá\n",
      "17\n"
     ]
    }
   ],
   "source": [
    "\"\"\"\n",
    "Se corrobora la propiedad de un palíndromo\n",
    "dado un string, se eliminan los espacios,\n",
    "se \"rebana\" a la mitad, se invierte cada uno, \n",
    "así como el orden de los mismos\n",
    "y se imprimen para corroborar\n",
    "\"\"\"\n",
    "\n",
    "palindromo_buhos = \"Acaso hubo buhos acá\" # palíndromo de Juan Filloy\n",
    "palindromo_buhos_spliteado = palindromo_buhos.split(' ') # se separan las palabras por espacio\n",
    "palindromo_buhos_sin_espacios = ''.join(palindromo_buhos_spliteado).lower() # se pasa a minúscula\n",
    "print(palindromo_buhos_sin_espacios)\n",
    "longitud = len(palindromo_buhos_sin_espacios) # se calcula la longitud\n",
    "print(longitud)"
   ]
  },
  {
   "cell_type": "code",
   "execution_count": 52,
   "metadata": {},
   "outputs": [
    {
     "ename": "TypeError",
     "evalue": "slice indices must be integers or None or have an __index__ method",
     "output_type": "error",
     "traceback": [
      "\u001b[0;31m---------------------------------------------------------------------------\u001b[0m",
      "\u001b[0;31mTypeError\u001b[0m                                 Traceback (most recent call last)",
      "\u001b[0;32m<ipython-input-52-c70efff85516>\u001b[0m in \u001b[0;36m<module>\u001b[0;34m\u001b[0m\n\u001b[1;32m      1\u001b[0m \u001b[0mmitad_longitud\u001b[0m \u001b[0;34m=\u001b[0m \u001b[0;34m(\u001b[0m\u001b[0mlongitud\u001b[0m \u001b[0;34m+\u001b[0m \u001b[0;36m1\u001b[0m\u001b[0;34m)\u001b[0m \u001b[0;34m/\u001b[0m \u001b[0;36m2\u001b[0m \u001b[0;31m# Se calcula posición media\u001b[0m\u001b[0;34m\u001b[0m\u001b[0;34m\u001b[0m\u001b[0m\n\u001b[0;32m----> 2\u001b[0;31m \u001b[0mpalindromo_0\u001b[0m \u001b[0;34m=\u001b[0m \u001b[0mpalindromo_buhos_sin_espacios\u001b[0m\u001b[0;34m[\u001b[0m\u001b[0;36m0\u001b[0m\u001b[0;34m:\u001b[0m\u001b[0mmitad_longitud\u001b[0m\u001b[0;34m]\u001b[0m \u001b[0;31m# primera mitad\u001b[0m\u001b[0;34m\u001b[0m\u001b[0;34m\u001b[0m\u001b[0m\n\u001b[0m\u001b[1;32m      3\u001b[0m \u001b[0mpalindromo_1\u001b[0m \u001b[0;34m=\u001b[0m \u001b[0mpalindromo_buhos_sin_espacios\u001b[0m\u001b[0;34m[\u001b[0m\u001b[0mmitad_longitud\u001b[0m\u001b[0;34m:\u001b[0m\u001b[0;34m:\u001b[0m\u001b[0;34m]\u001b[0m \u001b[0;31m# segunda mitad\u001b[0m\u001b[0;34m\u001b[0m\u001b[0;34m\u001b[0m\u001b[0m\n\u001b[1;32m      4\u001b[0m \u001b[0mprint\u001b[0m\u001b[0;34m(\u001b[0m\u001b[0mpalindromo_0\u001b[0m\u001b[0;34m)\u001b[0m\u001b[0;34m\u001b[0m\u001b[0;34m\u001b[0m\u001b[0m\n\u001b[1;32m      5\u001b[0m \u001b[0mprint\u001b[0m\u001b[0;34m(\u001b[0m\u001b[0mpalindromo_1\u001b[0m\u001b[0;34m)\u001b[0m\u001b[0;34m\u001b[0m\u001b[0;34m\u001b[0m\u001b[0m\n",
      "\u001b[0;31mTypeError\u001b[0m: slice indices must be integers or None or have an __index__ method"
     ]
    }
   ],
   "source": [
    "mitad_longitud = (longitud + 1) / 2 # Se calcula posición media\n",
    "palindromo_0 = palindromo_buhos_sin_espacios[0:mitad_longitud] # primera mitad\n",
    "palindromo_1 = palindromo_buhos_sin_espacios[mitad_longitud::] # segunda mitad\n",
    "print(palindromo_0)\n",
    "print(palindromo_1)"
   ]
  },
  {
   "cell_type": "code",
   "execution_count": 51,
   "metadata": {},
   "outputs": [
    {
     "name": "stdout",
     "output_type": "stream",
     "text": [
      "acasohubobuhosacá\n",
      "buhosacáacasohubo\n"
     ]
    }
   ],
   "source": [
    "palindromo_0 = palindromo_0[::-1] # se invierte la primera mitad\n",
    "palindromo_1 = palindromo_1[::-1] # se invierte la segunda mitad\n",
    "palindromo_a_corroborar = palindromo_1 + palindromo_0 # se combinan las mitades invertidas\n",
    "print(palindromo_buhos_sin_espacios)\n",
    "print(palindromo_a_corroborar)"
   ]
  },
  {
   "cell_type": "markdown",
   "metadata": {},
   "source": [
    "Ahora con *\"Amargor pleno con el programa\"* (de Python)"
   ]
  },
  {
   "cell_type": "markdown",
   "metadata": {},
   "source": [
    "**EJEMPLO 1**: Se desea contar la cantidad de veces que aparece la letra \"o\" en la palabra \"otorrinonaringólogo\", reemplazar la \"o\" por la \"i\", pasar a mayúsculas y leer el resultado en voz alta."
   ]
  },
  {
   "cell_type": "markdown",
   "metadata": {},
   "source": [
    "**RESOLUCIÓN**:\n",
    "* Para contar la frecuencia de la \"o\" se emplea el método `count()` y la función `print()`\n",
    "* Para reemplazar la \"o\" por la \"i\" se usa el método `replace()`\n",
    "* Para pasar a mayúsculas el método `upper()`\n",
    "* Para mostrar por pantalla el resultado, la función `print()`\n",
    "\n",
    "*NOTA*: Las modificaciones que sufre la palabra \"otorrinonaringólogo\" se almacenan en la misma\n",
    "`variable`."
   ]
  },
  {
   "cell_type": "code",
   "execution_count": 12,
   "metadata": {},
   "outputs": [
    {
     "name": "stdout",
     "output_type": "stream",
     "text": [
      "La \"o\" aparece 6 veces\n"
     ]
    }
   ],
   "source": [
    "palabra_dificil = 'otorrinonaringologo'\n",
    "frecuencia_o = palabra_dificil.count('o')\n",
    "print('La \"o\" aparece ' + str(frecuencia_o) + ' veces')"
   ]
  },
  {
   "cell_type": "code",
   "execution_count": 13,
   "metadata": {},
   "outputs": [
    {
     "name": "stdout",
     "output_type": "stream",
     "text": [
      "ITIRRININARINGILIGI\n"
     ]
    }
   ],
   "source": [
    "palabra_dificil = palabra_dificil.replace('o', 'i')\n",
    "palabra_dificil = palabra_dificil.upper()\n",
    "print(palabra_dificil)"
   ]
  },
  {
   "cell_type": "markdown",
   "metadata": {},
   "source": [
    "**EJERCICIO 0**: *(clase)* A partir de un string que contiene las cinco primeras *preposiciones* del español separadas por coma, imprimir viñetas de las mismas ordenadas alfabéticamente, el resultado debería verse como sigue:\n",
    "\n",
    "* preposición0\n",
    "* preposición1\n",
    "* ...\n",
    "* preppsición5\n",
    "\n",
    "*OJO*: Hay que recordar *esa* clase de lengua y *buscar* una herramienta de python que nos permita ordenar palabras. "
   ]
  },
  {
   "cell_type": "code",
   "execution_count": null,
   "metadata": {},
   "outputs": [],
   "source": []
  },
  {
   "cell_type": "markdown",
   "metadata": {},
   "source": [
    "**EJERCICIO 1**: *(clase)* Imprimir en pantalla, en mayúscula el fragmento de la canción:\n",
    "\n",
    "> *\"Dos y dos, son cuatro,\n",
    "cuatro y dos, son seis,\n",
    "seis y dos, son ocho,\n",
    "y ocho, dieciseis,\n",
    "y ocho, veinticuatro,\n",
    "y ocho, treinta y dos\"*\n",
    "\n",
    "a partir de las sumas con enteros, por ejemplo, para la primer oración:"
   ]
  },
  {
   "cell_type": "code",
   "execution_count": 72,
   "metadata": {},
   "outputs": [
    {
     "name": "stdout",
     "output_type": "stream",
     "text": [
      "2 Y 2, SON 4, \n"
     ]
    }
   ],
   "source": [
    "dos = 2\n",
    "suma = dos + dos\n",
    "primera_oracion = str(dos) + ' y ' + str(dos) + ', son ' + str(suma) + ', '\n",
    "print(primera_oracion.upper())"
   ]
  },
  {
   "cell_type": "code",
   "execution_count": null,
   "metadata": {},
   "outputs": [],
   "source": []
  },
  {
   "cell_type": "markdown",
   "metadata": {},
   "source": [
    "**EJERCICIO 2**: *(tarea)* Se desea obtener un nombre para un país ficticio de un juego de mesa, una buena forma de lograrlo es construirlo con sílabas de países conocidos, por ejemplo:\n",
    "'Argentina, Bolivia, Brasil, Chile, Paraguay, Perú' -> 'Ar-via-le-gu-pe', se toman sílabas **al azar** de cada nombre de país para conformar el nuevo país de fantasía. El string resulta muy largo, se podrían obtener a partir de él dos nombres de países: \"Arvia\" y \"Legupe\".\n",
    "\n",
    "*NOTA 0*: Se debe partir de un string del tipo `\"Argentina, Bolivia, Brasil, Chile, Paraguay, Perú\"`\n",
    "\n",
    "*NOTA 1*: Se debe averiguar cómo obtener *un número al azar* que no supere la cantidad de sílabas de los países base en Python.\n",
    "\n",
    "*NOTA 2*: Si el string resulta de una longitud mayor a 7 caracteres, se deben construir dos apartir de la palabra combinada.\n",
    "\n",
    "*NOTA 3*: El/los nombre/s de país resultante debe imprimirse en pantalla capitalizado."
   ]
  },
  {
   "cell_type": "code",
   "execution_count": 9,
   "metadata": {},
   "outputs": [],
   "source": [
    "lista_paises = \"Argentina, Bolivia, Brasil, Chile, Paraguay, Perú\""
   ]
  },
  {
   "cell_type": "code",
   "execution_count": null,
   "metadata": {},
   "outputs": [],
   "source": []
  },
  {
   "cell_type": "markdown",
   "metadata": {},
   "source": [
    "# Estructuras de datos \n",
    "\n",
    "Python posee varias estructuras de datos o *tipos de datos compuestos*, que almacenan *objetos*, es decir datos o estructuras de datos que pueden ser de diferentes tipos. Son formas de *\"contener\"* grupos de objetos (en Python todo es un objeto).\n",
    "\n",
    "Existen tres tipos de estructuras de datos o tipos de datos compuestos:\n",
    "\n",
    "* **Lista**: Secuencia de objetos *ordenada*, separados por coma y entre *corchetes*, \n",
    "\n",
    "`lista = [objeto0, objeto1, objeto2]`\n",
    "\n",
    "Es mutable, se indexa con números enteros, comparte propiedades con los strings, generalmente almacena objetos *homogéneos*. En otros lenguajes o en álgebra se conoce como `vector o array`.\n",
    "\n",
    "* **Tupla**: Secuencia de elementos *ordenados*, separados por coma y entre *paréntesis*, \n",
    "\n",
    "`tupla = (objeto0, objeto1, objeto2)`\n",
    "\n",
    "Es inmutable, se indexa con números enteros, generalmente almacena objetos *heterogéneos*.\n",
    "\n",
    "* **Diccionario**: Estructura de datos que almacena elementos *no ordenados*, separados por coma, entre *llaves* del tipo *clave: valor*, mapeando una clave de manera unívoca con un valor, en vez de índices enteros, \n",
    "\n",
    "`diccionario = {clave0: valor0, clave1: valor1, clave2, valor2}`\n",
    "\n",
    "Las claves pueden ser cualquier objeto *inmutable*.\n",
    "\n",
    "* **Set**: Conjunto de elementos *no ordenado* y sin repetir, separados por coma y entre *llaves*, \n",
    "\n",
    "`set_ejemplo = {objeto1, objeto2}`\n",
    "\n",
    "No admite indexado, se emplea para trabajar con propiedades de conjunto *(pertenece, unión, intersección, etc)*."
   ]
  },
  {
   "cell_type": "markdown",
   "metadata": {},
   "source": [
    "## Lista\n",
    "\n",
    "(list) Es una secuencia de objetos, para definir una lista se usan *corchetes*, entre los que se especifican los objetos separados por coma, generalmente almacena objetos homogéneos, es decir del mismo tipo. En otros lenguajes o en álgebra se conoce como `vector o array`."
   ]
  },
  {
   "cell_type": "code",
   "execution_count": 40,
   "metadata": {},
   "outputs": [
    {
     "name": "stdout",
     "output_type": "stream",
     "text": [
      "[]\n",
      "<class 'list'>\n"
     ]
    }
   ],
   "source": [
    "lista_vacia = []\n",
    "print(lista_vacia)\n",
    "print(type(lista_vacia))"
   ]
  },
  {
   "cell_type": "markdown",
   "metadata": {},
   "source": [
    "Se define una lista con los ingredientes de un guiso de lentejas:"
   ]
  },
  {
   "cell_type": "code",
   "execution_count": 45,
   "metadata": {},
   "outputs": [],
   "source": [
    "ingredientes_guiso = ['cebolla', 'pimiento', 'carne', \n",
    "                      'tomate', 'chorizo colorado', \n",
    "                      'lentejas', 'papa', 'batata']"
   ]
  },
  {
   "cell_type": "markdown",
   "metadata": {},
   "source": [
    "¿De qué tipo son los objetos de la lista `ingredientes_guiso`?"
   ]
  },
  {
   "cell_type": "markdown",
   "metadata": {},
   "source": [
    "La lista Comparte propiedades con los `strings`. Algunas características distintivas:\n",
    "\n",
    "* **Ordenada**, los objetos se encuentran en las posiciones correspondientes a los *índices* dados por números enteros. Admite \"rebanado\" o `slicing`."
   ]
  },
  {
   "cell_type": "code",
   "execution_count": 42,
   "metadata": {},
   "outputs": [
    {
     "data": {
      "text/plain": [
       "'cebolla'"
      ]
     },
     "execution_count": 42,
     "metadata": {},
     "output_type": "execute_result"
    }
   ],
   "source": [
    "# Primer ingrediente del guiso\n",
    "ingredientes_guiso[0]"
   ]
  },
  {
   "cell_type": "code",
   "execution_count": 43,
   "metadata": {},
   "outputs": [
    {
     "data": {
      "text/plain": [
       "'batata'"
      ]
     },
     "execution_count": 43,
     "metadata": {},
     "output_type": "execute_result"
    }
   ],
   "source": [
    "# Último ingrediente del guiso\n",
    "ingredientes_guiso[-1]"
   ]
  },
  {
   "cell_type": "code",
   "execution_count": 44,
   "metadata": {},
   "outputs": [
    {
     "data": {
      "text/plain": [
       "['batata',\n",
       " 'papa',\n",
       " 'lentejas',\n",
       " 'chorizo colorado',\n",
       " 'tomate',\n",
       " 'carne',\n",
       " 'pimiento',\n",
       " 'cebolla']"
      ]
     },
     "execution_count": 44,
     "metadata": {},
     "output_type": "execute_result"
    }
   ],
   "source": [
    "# Ingredientes alrevés para corroborar la receta\n",
    "ingredientes_guiso[::-1]"
   ]
  },
  {
   "cell_type": "code",
   "execution_count": 45,
   "metadata": {},
   "outputs": [
    {
     "data": {
      "text/plain": [
       "8"
      ]
     },
     "execution_count": 45,
     "metadata": {},
     "output_type": "execute_result"
    }
   ],
   "source": [
    "len(ingredientes_guiso)"
   ]
  },
  {
   "cell_type": "code",
   "execution_count": 46,
   "metadata": {},
   "outputs": [
    {
     "data": {
      "text/plain": [
       "['carne', 'tomate', 'chorizo colorado']"
      ]
     },
     "execution_count": 46,
     "metadata": {},
     "output_type": "execute_result"
    }
   ],
   "source": [
    "ingredientes_guiso[2:5]"
   ]
  },
  {
   "cell_type": "markdown",
   "metadata": {},
   "source": [
    "* **Es mutable**, una vez definida la lista, se pueden modificar los valores de los objetos.\n",
    ", se indexa con números enteros, comparte propiedades con los strings, generalmente almacena objetos homogéneos. En otros lenguajes o en álgebra se conoce como vector o array."
   ]
  },
  {
   "cell_type": "code",
   "execution_count": 47,
   "metadata": {},
   "outputs": [
    {
     "name": "stdout",
     "output_type": "stream",
     "text": [
      "['cebolla', 'pimiento', 'carne', 'tomate', 'panceta', 'lentejas', 'papa', 'batata']\n"
     ]
    }
   ],
   "source": [
    "# Se reemplaza 'chorizo colorado' por 'panceta'\n",
    "ingredientes_guiso[4] = 'panceta'\n",
    "print(ingredientes_guiso)"
   ]
  },
  {
   "cell_type": "markdown",
   "metadata": {},
   "source": [
    "Al igual que con los strings, es posible concatenar listas:"
   ]
  },
  {
   "cell_type": "code",
   "execution_count": 48,
   "metadata": {},
   "outputs": [],
   "source": [
    "ingredientes_postre = ['chocolinas', 'crema batida', 'dulce de leche', 'café']"
   ]
  },
  {
   "cell_type": "code",
   "execution_count": 49,
   "metadata": {},
   "outputs": [
    {
     "name": "stdout",
     "output_type": "stream",
     "text": [
      "['cebolla', 'pimiento', 'carne', 'tomate', 'panceta', 'lentejas', 'papa', 'batata', 'chocolinas', 'crema batida', 'dulce de leche', 'café']\n"
     ]
    }
   ],
   "source": [
    "ingredientes_cena = ingredientes_guiso + ingredientes_postre\n",
    "print(ingredientes_cena)"
   ]
  },
  {
   "cell_type": "markdown",
   "metadata": {},
   "source": [
    "### Operaciones con listas\n",
    "\n",
    "El objeto `list` tiene métodos y atributos asociados a su naturaleza."
   ]
  },
  {
   "cell_type": "code",
   "execution_count": 50,
   "metadata": {},
   "outputs": [
    {
     "data": {
      "text/plain": [
       "[1, 4, 9, 16, 25]"
      ]
     },
     "execution_count": 50,
     "metadata": {},
     "output_type": "execute_result"
    }
   ],
   "source": [
    "cuadrados = [1, 4, 9, 16, 25]\n",
    "cuadrados"
   ]
  },
  {
   "cell_type": "markdown",
   "metadata": {},
   "source": [
    "¿Qué operación realiza sobre una lista el método `append()`? (Usar `Alt + Shift` para averiguar)."
   ]
  },
  {
   "cell_type": "markdown",
   "metadata": {},
   "source": []
  },
  {
   "cell_type": "code",
   "execution_count": 51,
   "metadata": {},
   "outputs": [
    {
     "ename": "TypeError",
     "evalue": "append() takes exactly one argument (0 given)",
     "output_type": "error",
     "traceback": [
      "\u001b[0;31m---------------------------------------------------------------------------\u001b[0m",
      "\u001b[0;31mTypeError\u001b[0m                                 Traceback (most recent call last)",
      "\u001b[0;32m<ipython-input-51-31a0ef89b843>\u001b[0m in \u001b[0;36m<module>\u001b[0;34m\u001b[0m\n\u001b[0;32m----> 1\u001b[0;31m \u001b[0mcuadrados\u001b[0m\u001b[0;34m.\u001b[0m\u001b[0mappend\u001b[0m\u001b[0;34m(\u001b[0m\u001b[0;34m)\u001b[0m\u001b[0;34m\u001b[0m\u001b[0;34m\u001b[0m\u001b[0m\n\u001b[0m",
      "\u001b[0;31mTypeError\u001b[0m: append() takes exactly one argument (0 given)"
     ]
    }
   ],
   "source": [
    "cuadrados.append()"
   ]
  },
  {
   "cell_type": "code",
   "execution_count": 38,
   "metadata": {},
   "outputs": [],
   "source": [
    "cuadrados.append(6 ** 2)\n",
    "cuadrados.append(7 * 7)"
   ]
  },
  {
   "cell_type": "code",
   "execution_count": 39,
   "metadata": {},
   "outputs": [
    {
     "name": "stdout",
     "output_type": "stream",
     "text": [
      "[1, 4, 9, 16, 25, 36, 49]\n"
     ]
    }
   ],
   "source": [
    "print(cuadrados)"
   ]
  },
  {
   "cell_type": "markdown",
   "metadata": {},
   "source": [
    "Una lista puede almacenar datos del tipo `int`, `float`, `string`, pero también del tipo `list`."
   ]
  },
  {
   "cell_type": "code",
   "execution_count": 57,
   "metadata": {},
   "outputs": [
    {
     "data": {
      "text/plain": [
       "[[],\n",
       " ['cebolla',\n",
       "  'pimiento',\n",
       "  'carne',\n",
       "  'tomate',\n",
       "  'panceta',\n",
       "  'lentejas',\n",
       "  'papa',\n",
       "  'batata'],\n",
       " [1, 4, 9, 16, 25]]"
      ]
     },
     "execution_count": 57,
     "metadata": {},
     "output_type": "execute_result"
    }
   ],
   "source": [
    "lista_de_listas = []\n",
    "lista_de_listas.append(lista_vacia)\n",
    "lista_de_listas.append(ingredientes_guiso)\n",
    "lista_de_listas.append(cuadrados)\n",
    "lista_de_listas"
   ]
  },
  {
   "cell_type": "code",
   "execution_count": 59,
   "metadata": {},
   "outputs": [
    {
     "name": "stdout",
     "output_type": "stream",
     "text": [
      "[]\n",
      "<class 'list'>\n"
     ]
    }
   ],
   "source": [
    "print(lista_de_listas[0])\n",
    "print(type(lista_de_listas[0]))"
   ]
  },
  {
   "cell_type": "code",
   "execution_count": 61,
   "metadata": {},
   "outputs": [
    {
     "name": "stdout",
     "output_type": "stream",
     "text": [
      "['cebolla', 'pimiento', 'carne', 'tomate', 'panceta', 'lentejas', 'papa', 'batata']\n"
     ]
    }
   ],
   "source": [
    "print(lista_de_listas[1])"
   ]
  },
  {
   "cell_type": "code",
   "execution_count": 62,
   "metadata": {},
   "outputs": [
    {
     "data": {
      "text/plain": [
       "'batata'"
      ]
     },
     "execution_count": 62,
     "metadata": {},
     "output_type": "execute_result"
    }
   ],
   "source": [
    "lista_de_listas[1][-1]"
   ]
  },
  {
   "cell_type": "markdown",
   "metadata": {},
   "source": [
    "![](https://proxy.duckduckgo.com/iu/?u=https%3A%2F%2Fmedia.tenor.co%2Fimages%2Ff75212bb66a24037c078b5bbe2084f4f%2Ftenor.gif&f=1)"
   ]
  },
  {
   "cell_type": "markdown",
   "metadata": {},
   "source": [
    "¿Cómo se puede obtener el cuadrado de 3 de `lista_de_listas`?"
   ]
  },
  {
   "cell_type": "code",
   "execution_count": 63,
   "metadata": {},
   "outputs": [
    {
     "name": "stdout",
     "output_type": "stream",
     "text": [
      "[[], ['cebolla', 'pimiento', 'carne', 'tomate', 'panceta', 'lentejas', 'papa', 'batata'], [1, 4, 9, 16, 25]]\n"
     ]
    }
   ],
   "source": [
    "print(lista_de_listas)"
   ]
  },
  {
   "cell_type": "code",
   "execution_count": null,
   "metadata": {},
   "outputs": [],
   "source": []
  },
  {
   "cell_type": "markdown",
   "metadata": {},
   "source": [
    "Métodos del objeto list:\n",
    "\n",
    "* **append()**: Agrega un elemento al final de la lista.\n",
    "* **clear()**: Elimina todos los elementos de la lista, la convierte en una lista vacía.\n",
    "* **copy()**: Devuelve una copia de la lista.\n",
    "* **count()**: Retorna la cantidad de veces que se encuentra determinado objeto dado en la lista.\n",
    "* **extend()**: Agrega al final de la lista los elementos de un objeto *iterable* dado.\n",
    "* **index()**: Devuelve el índice de la posición en la que se encuentra un objeto dado.\n",
    "* **insert()**: Inserta un objeto dado en un índice dado.\n",
    "* **pop()**: Dado un índice, elimina el elemento de ese índice, y lo muestra por pantalla.\n",
    "* **remove()**: Dado un objeto, elimina el primero que encuentre de la lista. O **del()**\n",
    "* **rerverse()**: Invierte el órden de los objetos de la lista."
   ]
  },
  {
   "cell_type": "markdown",
   "metadata": {},
   "source": [
    "**¡OJO!** Al asignar a una lista, los valores de otra lista, y modificarla, se modifican *ambas*:"
   ]
  },
  {
   "cell_type": "code",
   "execution_count": 46,
   "metadata": {},
   "outputs": [
    {
     "data": {
      "text/plain": [
       "['cebolla',\n",
       " 'pimiento',\n",
       " 'carne',\n",
       " 'tomate',\n",
       " 'chorizo colorado',\n",
       " 'lentejas',\n",
       " 'papa',\n",
       " 'batata']"
      ]
     },
     "execution_count": 46,
     "metadata": {},
     "output_type": "execute_result"
    }
   ],
   "source": [
    "ingredientes_guiso"
   ]
  },
  {
   "cell_type": "code",
   "execution_count": 63,
   "metadata": {},
   "outputs": [
    {
     "data": {
      "text/plain": [
       "['cebolla',\n",
       " 'pimiento',\n",
       " 'carne',\n",
       " 'tomate',\n",
       " 'chorizo colorado',\n",
       " 'lentejas',\n",
       " 'papa',\n",
       " 'batata',\n",
       " 'ají']"
      ]
     },
     "execution_count": 63,
     "metadata": {},
     "output_type": "execute_result"
    }
   ],
   "source": [
    "ingredientes_guiso_picante = ingredientes_guiso\n",
    "ingredientes_guiso_picante.append('ají')\n",
    "ingredientes_guiso_picante"
   ]
  },
  {
   "cell_type": "code",
   "execution_count": 60,
   "metadata": {},
   "outputs": [
    {
     "data": {
      "text/plain": [
       "['cebolla',\n",
       " 'pimiento',\n",
       " 'carne',\n",
       " 'tomate',\n",
       " 'chorizo colorado',\n",
       " 'lentejas',\n",
       " 'papa',\n",
       " 'batata',\n",
       " 'ají']"
      ]
     },
     "execution_count": 60,
     "metadata": {},
     "output_type": "execute_result"
    }
   ],
   "source": [
    "ingredientes_guiso"
   ]
  },
  {
   "cell_type": "code",
   "execution_count": 77,
   "metadata": {},
   "outputs": [
    {
     "data": {
      "text/plain": [
       "False"
      ]
     },
     "execution_count": 77,
     "metadata": {},
     "output_type": "execute_result"
    }
   ],
   "source": [
    "'ají' in ingredientes_guiso"
   ]
  },
  {
   "cell_type": "markdown",
   "metadata": {},
   "source": [
    "![](https://media2.giphy.com/media/XsUtdIeJ0MWMo/giphy.gif)"
   ]
  },
  {
   "cell_type": "code",
   "execution_count": 64,
   "metadata": {},
   "outputs": [
    {
     "data": {
      "text/plain": [
       "['cebolla',\n",
       " 'pimiento',\n",
       " 'carne',\n",
       " 'tomate',\n",
       " 'chorizo colorado',\n",
       " 'lentejas',\n",
       " 'papa',\n",
       " 'batata']"
      ]
     },
     "execution_count": 64,
     "metadata": {},
     "output_type": "execute_result"
    }
   ],
   "source": [
    "ingredientes_guiso.remove('ají')\n",
    "ingredientes_guiso"
   ]
  },
  {
   "cell_type": "markdown",
   "metadata": {},
   "source": [
    "Se debe usar el método `copy()` para mantener los valores de la lista original intactos y trabajar sobre una copia."
   ]
  },
  {
   "cell_type": "code",
   "execution_count": 65,
   "metadata": {},
   "outputs": [
    {
     "name": "stdout",
     "output_type": "stream",
     "text": [
      "Original:  ['cebolla', 'pimiento', 'carne', 'tomate', 'chorizo colorado', 'lentejas', 'papa', 'batata']\n",
      "Picante:  ['cebolla', 'pimiento', 'carne', 'tomate', 'chorizo colorado', 'lentejas', 'papa', 'batata', 'ají']\n"
     ]
    }
   ],
   "source": [
    "ingredientes_guiso_picante = ingredientes_guiso.copy()\n",
    "ingredientes_guiso_picante.append('ají')\n",
    "print('Original: ', ingredientes_guiso)\n",
    "print('Picante: ', ingredientes_guiso_picante)"
   ]
  },
  {
   "cell_type": "code",
   "execution_count": 79,
   "metadata": {},
   "outputs": [
    {
     "name": "stdout",
     "output_type": "stream",
     "text": [
      "False\n",
      "True\n"
     ]
    }
   ],
   "source": [
    "print('ají' in ingredientes_guiso)\n",
    "print('ají' in ingredientes_guiso_picante)"
   ]
  },
  {
   "cell_type": "markdown",
   "metadata": {},
   "source": [
    "Se puede convertir un conjunto de objetos en una lista con el método `list()` "
   ]
  },
  {
   "cell_type": "code",
   "execution_count": 82,
   "metadata": {},
   "outputs": [
    {
     "data": {
      "text/plain": [
       "['a', 'b', 'c']"
      ]
     },
     "execution_count": 82,
     "metadata": {},
     "output_type": "execute_result"
    }
   ],
   "source": [
    "list(('a', 'b', 'c'))"
   ]
  },
  {
   "cell_type": "markdown",
   "metadata": {},
   "source": [
    "**EJEMPLO 0**: Dada una lista con las 20 palabras más frecuentes del español, se desea deducir cuál es la *vocal más frecuente* y la *menos frecuente* y mostrar el resultado por pantalla."
   ]
  },
  {
   "cell_type": "code",
   "execution_count": 24,
   "metadata": {},
   "outputs": [],
   "source": [
    "# Se crea lista con las 20 palabras más frecuentes del español\n",
    "palabras_frec_español = ['de', 'la', 'que', 'el', 'en',\n",
    "                         'y', 'a', 'los', 'se', 'del', \n",
    "                         'las', 'un', 'por', 'con', 'no',\n",
    "                         'una', 'su', 'para', 'es', 'al']     "
   ]
  },
  {
   "cell_type": "code",
   "execution_count": 25,
   "metadata": {},
   "outputs": [],
   "source": [
    "# Se crea lista con vocales\n",
    "vocales = ['a', 'e', 'i', 'o', 'u']"
   ]
  },
  {
   "cell_type": "code",
   "execution_count": 26,
   "metadata": {},
   "outputs": [
    {
     "data": {
      "text/plain": [
       "'de la que el en y a los se del las un por con no una su para es al'"
      ]
     },
     "execution_count": 26,
     "metadata": {},
     "output_type": "execute_result"
    }
   ],
   "source": [
    "# Se convierte la lista de palabras en string\n",
    "palabras_string = ' '.join(palabras_frec_español)\n",
    "palabras_string"
   ]
  },
  {
   "cell_type": "code",
   "execution_count": 32,
   "metadata": {},
   "outputs": [],
   "source": [
    "# Se crea una lista vacía para almacenar la frecuencia por vocal\n",
    "frecuencia_vocales = []"
   ]
  },
  {
   "cell_type": "code",
   "execution_count": 33,
   "metadata": {},
   "outputs": [],
   "source": [
    "\"\"\" \n",
    "Se cuenta la cantidad de veces que aparece cada vocal en el string \n",
    "y se agrega a la lista recién creada\n",
    "\"\"\"\n",
    "frecuencia_vocales.append( palabras_string.count(vocales[0]) )\n",
    "frecuencia_vocales.append( palabras_string.count(vocales[1]) )\n",
    "frecuencia_vocales.append( palabras_string.count(vocales[2]) )\n",
    "frecuencia_vocales.append( palabras_string.count(vocales[3]) )\n",
    "frecuencia_vocales.append( palabras_string.count(vocales[4]) )"
   ]
  },
  {
   "cell_type": "code",
   "execution_count": 34,
   "metadata": {},
   "outputs": [
    {
     "data": {
      "text/plain": [
       "[7, 7, 0, 4, 4]"
      ]
     },
     "execution_count": 34,
     "metadata": {},
     "output_type": "execute_result"
    }
   ],
   "source": [
    "frecuencia_vocales"
   ]
  },
  {
   "cell_type": "code",
   "execution_count": 36,
   "metadata": {},
   "outputs": [],
   "source": [
    "# Se determinan las vocales que más aparecen y que menos aparecen\n",
    "indice_max_frec = frecuencia_vocales.index( max(frecuencia_vocales) )\n",
    "indice_min_frec = frecuencia_vocales.index( min(frecuencia_vocales) )"
   ]
  },
  {
   "cell_type": "code",
   "execution_count": 37,
   "metadata": {},
   "outputs": [
    {
     "name": "stdout",
     "output_type": "stream",
     "text": [
      "La vocal más frecuente del español es: a\n",
      "y la menos frecuente es: i\n"
     ]
    }
   ],
   "source": [
    "print('La vocal más frecuente del español es: ' + vocales[indice_max_frec])\n",
    "print('y la menos frecuente es: ' + vocales[indice_min_frec])"
   ]
  },
  {
   "cell_type": "markdown",
   "metadata": {},
   "source": [
    "**EJEMPLO 1**: Se desea crear una `lista de listas` con los nombres de los asistentes del curso de Python *por fila*, mostrar los nombres alfabéticamente y elegir un asistente de cada fila `al azar` para resolver el ejercicio 0."
   ]
  },
  {
   "cell_type": "code",
   "execution_count": null,
   "metadata": {},
   "outputs": [],
   "source": []
  },
  {
   "cell_type": "markdown",
   "metadata": {},
   "source": [
    "**EJERCICIO 0**: *(clase)* Dadas las listas `enteros`, `cuadrados` y `cubos`, que almacenan los primeros 4 números enteros *(incluyendo el cero)*, los enteros elevados al cuadrado y al cubo, correspondientemente, *eliminar* el 0 y el 1, *agregar* los números enteros faltantes para llegar hasta el 10, sus cuadrados y cubos, y crear una lista que almacene todo lo anterior.\n",
    "\n",
    "*NOTA*: Si no recordás las tablas, ¡usá Python como calculadora!"
   ]
  },
  {
   "cell_type": "code",
   "execution_count": 4,
   "metadata": {},
   "outputs": [],
   "source": [
    "lista_enteros = [0, 1, 2, 3, 4]\n",
    "lista_cuadrados = [0, 1, 4, 9, 16]\n",
    "lista_cubos = [0, 1, 8, 27, 64]"
   ]
  },
  {
   "cell_type": "code",
   "execution_count": null,
   "metadata": {},
   "outputs": [],
   "source": []
  },
  {
   "cell_type": "markdown",
   "metadata": {},
   "source": [
    "**EJERCICIO 1**: *(tarea)* Dadas las listas `compras`, con precios de productos a comprar, `precios` de un producto determinado, `descuentos` con diferentes formas de pago, se desea ver la siguiente leyenda por pantalla:\n",
    "\n",
    "> El menor precio para el producto es `precio`, el mejor descuento es del `descuento`%, el precio final es `precio_final` y el total para compras es `total_compras`\n",
    "\n",
    "Para lo que se requiere determinar el *mínimo* de la lista `precios`, el *máximo* de la lista `descuentos` y la *suma* de la lista `compras` (con el nuevo precio en ella)."
   ]
  },
  {
   "cell_type": "code",
   "execution_count": null,
   "metadata": {},
   "outputs": [],
   "source": []
  },
  {
   "cell_type": "markdown",
   "metadata": {},
   "source": [
    "## Tupla\n",
    "\n",
    "(tuple) Es una secuencia de objetos, para definir una tupla se usan *paréntesis*, entre los que se especifican los objetos separados por coma, generalmente almacena objetos heterogéneos, es decir de diferente tipo. "
   ]
  },
  {
   "cell_type": "code",
   "execution_count": 38,
   "metadata": {},
   "outputs": [
    {
     "name": "stdout",
     "output_type": "stream",
     "text": [
      "()\n"
     ]
    },
    {
     "data": {
      "text/plain": [
       "tuple"
      ]
     },
     "execution_count": 38,
     "metadata": {},
     "output_type": "execute_result"
    }
   ],
   "source": [
    "tupla_vacia = ()\n",
    "print(tupla_vacia)\n",
    "type(tupla_vacia)"
   ]
  },
  {
   "cell_type": "markdown",
   "metadata": {},
   "source": [
    "* **Ordenada**, los objetos se encuentran en las posiciones correspondientes a los *índices* dados por números enteros. Admite \"rebanado\" o `slicing`."
   ]
  },
  {
   "cell_type": "code",
   "execution_count": 70,
   "metadata": {},
   "outputs": [],
   "source": [
    "cant_herramientas = 10\n",
    "destornilladores = ['estrella', 'phillips', 'allen', 'plano']\n",
    "llaves = [1, 1/4, 3/8]\n",
    "fecha_actualizacion = (15, 5, 2019)"
   ]
  },
  {
   "cell_type": "code",
   "execution_count": 73,
   "metadata": {},
   "outputs": [
    {
     "data": {
      "text/plain": [
       "(10,\n",
       " ['estrella', 'phillips', 'allen', 'plano'],\n",
       " [1, 0.25, 0.375],\n",
       " (15, 5, 2019))"
      ]
     },
     "execution_count": 73,
     "metadata": {},
     "output_type": "execute_result"
    }
   ],
   "source": [
    "tupla_caja_herramientas = (cant_herramientas, \n",
    "                           destornilladores,\n",
    "                           llaves,\n",
    "                           fecha_actualizacion)\n",
    "tupla_caja_herramientas"
   ]
  },
  {
   "cell_type": "code",
   "execution_count": 76,
   "metadata": {},
   "outputs": [
    {
     "data": {
      "text/plain": [
       "(['estrella', 'phillips', 'allen', 'plano'], [1, 0.25, 0.375])"
      ]
     },
     "execution_count": 76,
     "metadata": {},
     "output_type": "execute_result"
    }
   ],
   "source": [
    "tupla_caja_herramientas[1:3]"
   ]
  },
  {
   "cell_type": "markdown",
   "metadata": {},
   "source": [
    "* **Inmutable**, es decir que una vez definida una tupla, no se puede modificar el valor de los objetos que contiene."
   ]
  },
  {
   "cell_type": "code",
   "execution_count": 75,
   "metadata": {},
   "outputs": [
    {
     "ename": "TypeError",
     "evalue": "'tuple' object does not support item assignment",
     "output_type": "error",
     "traceback": [
      "\u001b[0;31m---------------------------------------------------------------------------\u001b[0m",
      "\u001b[0;31mTypeError\u001b[0m                                 Traceback (most recent call last)",
      "\u001b[0;32m<ipython-input-75-9afa89a69cc6>\u001b[0m in \u001b[0;36m<module>\u001b[0;34m\u001b[0m\n\u001b[0;32m----> 1\u001b[0;31m \u001b[0mtupla_caja_herramientas\u001b[0m\u001b[0;34m[\u001b[0m\u001b[0;36m0\u001b[0m\u001b[0;34m]\u001b[0m \u001b[0;34m=\u001b[0m \u001b[0;36m11\u001b[0m\u001b[0;34m\u001b[0m\u001b[0;34m\u001b[0m\u001b[0m\n\u001b[0m",
      "\u001b[0;31mTypeError\u001b[0m: 'tuple' object does not support item assignment"
     ]
    }
   ],
   "source": [
    "tupla_caja_herramientas[0] = 11"
   ]
  },
  {
   "cell_type": "markdown",
   "metadata": {},
   "source": [
    "### Operaciones con tuplas\n",
    "\n",
    "* **count()**: Similar a lista.\n",
    "* **index()**: Similar a lista.\n",
    "* **all()**: Retorna `True` si todos los elementos de la tupla son `True`. (O si está vacía).\n",
    "* **any()**: Retorna `True` si alguno de los elementos es `True`."
   ]
  },
  {
   "cell_type": "markdown",
   "metadata": {},
   "source": [
    "**EJERCICIO 0**: *(clase)* Se almacena en una `tupla` la masa de un objeto y el valor de la aceleración de la gravedad *(dado que estos dos valores se mantienen inmutables en una situación de simulación de física)*, se desea calcular la energía del objeto a diferentes alturas dadas en una `lista` y calcular el punto de mayor y menor energía.\n",
    "\n",
    "*NOTA*: La energía responde a la siguiente expresión matemática $E = m·g·h$, donde `m` es la masa del objeto, `g` la aceleración de la gravedad y `h` la altura."
   ]
  },
  {
   "cell_type": "code",
   "execution_count": null,
   "metadata": {},
   "outputs": [],
   "source": [
    "constantes_fisicas = ()"
   ]
  },
  {
   "cell_type": "markdown",
   "metadata": {},
   "source": [
    "## Diccionario"
   ]
  },
  {
   "cell_type": "markdown",
   "metadata": {},
   "source": [
    "## Set"
   ]
  },
  {
   "cell_type": "code",
   "execution_count": null,
   "metadata": {},
   "outputs": [],
   "source": [
    "# Referencias\n",
    "\n",
    "* [Documentación oficial de Python en Inglés](https://docs.python.org/3/)\n",
    "* [Tutorial PyAR en español](http://docs.python.org.ar/tutorial/3/index.html)\n",
    "* [Python para todos](http://mundogeek.net/tutorial-python/)\n",
    "* [Curso Python científico de Martín Gaitan (repo)](https://github.com/mgaitan/curso-python-cientifico)"
   ]
  }
 ],
 "metadata": {
  "kernelspec": {
   "display_name": "Python 3",
   "language": "python",
   "name": "python3"
  },
  "language_info": {
   "codemirror_mode": {
    "name": "ipython",
    "version": 3
   },
   "file_extension": ".py",
   "mimetype": "text/x-python",
   "name": "python",
   "nbconvert_exporter": "python",
   "pygments_lexer": "ipython3",
   "version": "3.7.3"
  }
 },
 "nbformat": 4,
 "nbformat_minor": 2
}
