{
 "cells": [
  {
   "cell_type": "markdown",
   "metadata": {},
   "source": [
    "# Breve (brevísima) introducción a git, conda y jupyter\n",
    "\n",
    "El entorno de aprendizaje y desarrollo del curso consiste en herramientas varias de vanguardia:\n",
    "\n",
    "* **[git](https://git-scm.com/)**: software de control de versiones.\n",
    "    * **[github](https://github.com/)**: plataforma de desarrollo para alojar proyectos usando git.\n",
    "* **[conda](https://docs.conda.io/en/latest/)**: gestor de paquetes y un sistema de gestión de entornos.\n",
    "* **[jupyterlab](https://jupyter.org/)**: aplicación web (\"*IDE*\") para desarrollo de software en Python, trabaja con ipybn, estándar entre desarrolladores de Python.\n",
    "\n",
    "El siguiente es un diagrama simbólico del entorno de trabajo creado para el curso:\n",
    "\n",
    "![](https://i.imgur.com/GhpNjSp.png)\n",
    "\n",
    "Con `conda` se gestionan paquetes y entornos virtuales:\n",
    "\n",
    "![](https://i.imgur.com/BfR8D9j.png)\n",
    "\n",
    "¿Por qué un entorno virtual?\n",
    "\n",
    "![](https://i.imgur.com/g7bMGIK.png)\n",
    "\n",
    "¿Por qué Jupyter(lab)?\n",
    "\n",
    "Jupyter es amigable, eficiente, está hecho para desarrolladores Python, desarrollar en `ipynb` es un estándar en el mundo de Python.\n",
    "\n",
    "* **¿Se puede programar en Python sin todas estas herramientas?**\n",
    "\n",
    "Si, basta con instalar el intérprete de Python.\n",
    "\n",
    "* **¿Se puede programar sin un IDE?**\n",
    "\n",
    "Si, basta con instalar el intérprete de Python y la consola, pero existen editores o IDEs para trabajar en Python de manera eficiente y amigable, como [emacs](https://www.gnu.org/software/emacs/), [atom](https://atom.io/), [sublime](https://www.sublimetext.com), [spyder](https://docs.spyder-ide.org/)."
   ]
  },
  {
   "cell_type": "markdown",
   "metadata": {},
   "source": [
    "## Introducción a Jupyter\n",
    "\n",
    "Las celdas pueden ser Markdown o codigo.\n",
    " \n",
    "Apretar `shift + enter` ejecuar la celda. También puede ser `ctrl + enter`"
   ]
  },
  {
   "cell_type": "markdown",
   "metadata": {},
   "source": [
    "## ¿Por qué Python?\n",
    "\n",
    "### ¿Por qué se habla de Python3?\n",
    "\n",
    "### El zen de Python"
   ]
  },
  {
   "cell_type": "code",
   "execution_count": null,
   "metadata": {},
   "outputs": [],
   "source": [
    "import this"
   ]
  },
  {
   "cell_type": "markdown",
   "metadata": {},
   "source": [
    "---\n",
    "## Hola Mundo"
   ]
  },
  {
   "cell_type": "markdown",
   "metadata": {},
   "source": [
    "### Pequeña nota histórica"
   ]
  },
  {
   "cell_type": "markdown",
   "metadata": {},
   "source": [
    "Un __Hola Mundo__ o __Hello World__, es un sencillo programa que simplemente imprime la frase que le da nombre, y que suele usarse en la bibliografía y cursos de programación como primer ejercicio introductorio.\n",
    "No hay una versión única y clara del origen del __Hola Mundo__. La más confiable cuenta  que __Brian Kernighan__ (destacado desarrollador de software y autor), habría introducido este famoso ejemplo en 1973 un su libro, ___A Tutorial Introduction to the Programming Language B___:"
   ]
  },
  {
   "cell_type": "markdown",
   "metadata": {},
   "source": [
    "\n",
    "```C\n",
    "main( ) {  \n",
    "extrn a, b, c;  \n",
    "putchar(a); putchar(b); putchar(c); putchar(’!*n’);  \n",
    "} 1 ’hell’;  \n",
    "b ’o, w’;  \n",
    "c ’orld’;  \n",
    "```"
   ]
  },
  {
   "cell_type": "markdown",
   "metadata": {},
   "source": [
    "![](https://upload.wikimedia.org/wikipedia/commons/thumb/a/ae/Brian_Kernighan_in_2012_at_Bell_Labs_1.jpg/800px-Brian_Kernighan_in_2012_at_Bell_Labs_1.jpg)"
   ]
  },
  {
   "cell_type": "markdown",
   "metadata": {},
   "source": [
    "Aparentemente la frase provino de un programa de dibujos animados.\n",
    "Otra versión más pintorezca, pero menos creible, ubica al primer _hello wolrd_ en la Francia de 1801, donde Joseph Marie Jacquard, comerciante y tejedor, utilizó tarjetas perforadas para instruir a un telar y tejer “Hello, World” en un tapiz."
   ]
  },
  {
   "cell_type": "markdown",
   "metadata": {},
   "source": [
    "![](https://upload.wikimedia.org/wikipedia/commons/0/09/Jacquard.loom.cards.jpg)"
   ]
  },
  {
   "cell_type": "markdown",
   "metadata": {},
   "source": [
    "### Hola Mundo en Python"
   ]
  },
  {
   "cell_type": "code",
   "execution_count": null,
   "metadata": {},
   "outputs": [],
   "source": [
    "print(hola Mundo)"
   ]
  },
  {
   "cell_type": "code",
   "execution_count": null,
   "metadata": {},
   "outputs": [],
   "source": [
    "print('¡Hola mundo!')"
   ]
  },
  {
   "cell_type": "markdown",
   "metadata": {},
   "source": [
    "### Hola Mundo en otros lenguajes"
   ]
  },
  {
   "cell_type": "markdown",
   "metadata": {},
   "source": [
    "__Ada__  \n",
    "\n",
    "```ada\n",
    "with Ada.Text_IO;  \n",
    "\n",
    "procedure Hola_Mundo is begin  \n",
    "Ada.Text_IO.Put_Line(\"¡Hola, mundo!\");  \n",
    "end Hola_Mundo;  \n",
    "```"
   ]
  },
  {
   "cell_type": "markdown",
   "metadata": {},
   "source": [
    "__Bash__\n",
    "\n",
    "```sh\n",
    "#!/bin/bash  \n",
    "echo \"Hola mundo\"  \n",
    "```"
   ]
  },
  {
   "cell_type": "markdown",
   "metadata": {},
   "source": [
    "__BrainFuck__ \n",
    "\n",
    "```++++++++++[>++++++++++<-]>++++.---.+++++++..+++.  \n",
    ">++++[>+++++++++++<-]>.------------.[-]<<  \n",
    "++++++++.--------.+++.------.--------.[-]  \n",
    "<+[>++++++++++<-]>.[-]<  \n",
    "```"
   ]
  },
  {
   "cell_type": "markdown",
   "metadata": {},
   "source": [
    "__C__  \n",
    "\n",
    "```c\n",
    "#include <stdio.h>  \n",
    "  \n",
    "int main(void)  \n",
    "{  \n",
    "    printf(\"¡Hola, mundo!\\n\");  \n",
    "    return 0;  \n",
    "}  \n",
    "```"
   ]
  },
  {
   "cell_type": "markdown",
   "metadata": {},
   "source": [
    "__C++__\n",
    "\n",
    "```c++\n",
    "#include <iostream>\n",
    "\n",
    "using namespace std;\n",
    "\n",
    "int main()\n",
    "{\n",
    "   cout << \"¡Hola, mundo!\" << endl;\n",
    "   return 0;\n",
    "}\n",
    "```"
   ]
  },
  {
   "cell_type": "markdown",
   "metadata": {},
   "source": [
    "__Cobol__\n",
    "\n",
    "```cobol\n",
    "IDENTIFICATION DIVISION.\n",
    "        PROGRAM-ID. HELLO.\n",
    "        PROCEDURE DIVISION.\n",
    "            DISPLAY \"Hola mundo\".\n",
    "            STOP RUN.\n",
    "```"
   ]
  },
  {
   "cell_type": "markdown",
   "metadata": {},
   "source": [
    "__HQ9+__\n",
    "\n",
    "```\n",
    "H\n",
    "```"
   ]
  },
  {
   "cell_type": "markdown",
   "metadata": {},
   "source": [
    "__HTML__\n",
    "\n",
    "```html\n",
    "<!DOCTYPE HTML PUBLIC \"-//W3C//DTD HTML 4.01//EN\" \"http://www.w3.org/TR/html4/strict.dtd\">\n",
    "  <html>\n",
    "    <head>\n",
    "      <title>Hola Mundo</title>\n",
    "    </head>\n",
    "    <body>\n",
    "      ¡Hola Mundo!\n",
    "    </body>\n",
    "  </html>\n",
    "```"
   ]
  },
  {
   "cell_type": "markdown",
   "metadata": {},
   "source": [
    "__Java__\n",
    "\n",
    "```java\n",
    "class HolaMundo\n",
    "{\n",
    "    public static void main(String[] args)\n",
    "    {\n",
    "        System.out.println(\"Hola Mundo\");//Opcion 1\n",
    "\n",
    "        JOptionPane.showMessageDialog(null,\"Hola Mundo\");//Opcion 2\n",
    "    }\n",
    "}\n",
    "```"
   ]
  },
  {
   "cell_type": "markdown",
   "metadata": {},
   "source": [
    "__Matlab__\n",
    "\n",
    "```matlab\n",
    "clear;\n",
    "clc;\n",
    "\n",
    "disp('Hola mundo')\n",
    "```"
   ]
  },
  {
   "cell_type": "markdown",
   "metadata": {},
   "source": [
    "__Perl__\n",
    "\n",
    "```perl\n",
    "print \"Hola, mundo\\n\";\n",
    "```"
   ]
  },
  {
   "cell_type": "markdown",
   "metadata": {},
   "source": [
    "__PHP__\n",
    "\n",
    "```php\n",
    "<?php print(\"Hola Mundo!\"); ?>\n",
    "```"
   ]
  },
  {
   "cell_type": "markdown",
   "metadata": {},
   "source": [
    "__Ruby__\n",
    "\n",
    "```ruby\n",
    " puts \"Hola Mundo\"\n",
    "```"
   ]
  },
  {
   "cell_type": "markdown",
   "metadata": {},
   "source": [
    "__Scratch__\n",
    "\n",
    "![](https://upload.wikimedia.org/wikipedia/commons/f/fb/HolaMundoScratch.png)"
   ]
  },
  {
   "cell_type": "markdown",
   "metadata": {},
   "source": [
    "__Umlambda__\n",
    "\n",
    "```umlambda\n",
    "```s``sii`ki\n",
    "``s``s`ks\n",
    "    ``s``s`ks``s`k`s`kr\n",
    "              ``s`k`si``s`k`s`k\n",
    "                              `d````````````.H.o.l.a.,. .m.u.n.d.o.!\n",
    "                       k\n",
    "     k\n",
    " `k``s``s`ksk`k.*\n",
    "```"
   ]
  },
  {
   "cell_type": "markdown",
   "metadata": {},
   "source": [
    "---\n",
    "## Python como calculadora"
   ]
  },
  {
   "cell_type": "code",
   "execution_count": null,
   "metadata": {},
   "outputs": [],
   "source": [
    "Python puede realizar operaciones numéricas como cualquier calculadora."
   ]
  },
  {
   "cell_type": "markdown",
   "metadata": {},
   "source": [
    "### Operaciones básicas"
   ]
  },
  {
   "cell_type": "code",
   "execution_count": null,
   "metadata": {},
   "outputs": [],
   "source": [
    "# Suma\n",
    "2 + 5"
   ]
  },
  {
   "cell_type": "code",
   "execution_count": null,
   "metadata": {},
   "outputs": [],
   "source": [
    "# Resta\n",
    "49 - 7"
   ]
  },
  {
   "cell_type": "markdown",
   "metadata": {},
   "source": [
    "Por defecto el resultado de la __última__ operación se guarda en el caracter  __\"_\"__ aunque lo habitual es guardarlo en una __variable__."
   ]
  },
  {
   "cell_type": "code",
   "execution_count": null,
   "metadata": {},
   "outputs": [],
   "source": [
    "_"
   ]
  },
  {
   "cell_type": "code",
   "execution_count": null,
   "metadata": {},
   "outputs": [],
   "source": [
    "# Multiplicación\n",
    "12 * 5"
   ]
  },
  {
   "cell_type": "markdown",
   "metadata": {},
   "source": [
    "Es posible dar prioridad a algunas operaciones con el uso de paréntesis"
   ]
  },
  {
   "cell_type": "code",
   "execution_count": null,
   "metadata": {},
   "outputs": [],
   "source": [
    "(4 + 3) * (-1 * 2)"
   ]
  },
  {
   "cell_type": "markdown",
   "metadata": {},
   "source": [
    "### Variables"
   ]
  },
  {
   "cell_type": "markdown",
   "metadata": {},
   "source": [
    "Se puede asignar el resultado de una operación a una __variable__ (un espacio reservado en la memoria que puede cambiar de contenido).\n",
    "___NOTA 0___: Es muy recomendable poner nombres sencillos y descriptivos a las variables, a fin de que el código sea legible para terceros y para el mismo programador. \n",
    "\n",
    "\n",
    "```python\n",
    "variable_de_ejemplo = 'Una variable de ejemplo'\n",
    "```\n",
    "(Correcto)\n",
    "\n",
    "```python\n",
    "cosita = 'Una variable de ejemplo'\n",
    "```\n",
    "(Incorrecto)\n",
    "\n",
    "\n",
    "___NOTA 1___: Otra buena práctica consiste en dejar espacios entre el nombre de la variable y el signo igual, y entre este y su valor:  \n",
    "\n",
    "```python\n",
    "variable_de_ejemplo = 'Una variable de ejemplo'\n",
    "```\n",
    "(Correcto)\n",
    "\n",
    "```python\n",
    "variable_de_ejemplo='Una variable de ejemplo'\n",
    "```\n",
    "(Incorrecto)\n",
    "\n"
   ]
  },
  {
   "cell_type": "code",
   "execution_count": null,
   "metadata": {},
   "outputs": [],
   "source": [
    "mi_numero = 40"
   ]
  },
  {
   "cell_type": "code",
   "execution_count": null,
   "metadata": {},
   "outputs": [],
   "source": [
    "mi_numero"
   ]
  },
  {
   "cell_type": "code",
   "execution_count": null,
   "metadata": {},
   "outputs": [],
   "source": [
    "mi_numero + 2"
   ]
  },
  {
   "cell_type": "code",
   "execution_count": null,
   "metadata": {},
   "outputs": [],
   "source": [
    "# División\n",
    "100 / 2"
   ]
  },
  {
   "cell_type": "markdown",
   "metadata": {},
   "source": [
    "El __tipo de resultado__ de una operación matemática depende de los números involucrados y los operadores utilizados "
   ]
  },
  {
   "cell_type": "markdown",
   "metadata": {},
   "source": [
    "Operaciones como __sumas, resta y multiplicación__ entre __enteros__, devuelve siempre un __entero__. "
   ]
  },
  {
   "cell_type": "code",
   "execution_count": null,
   "metadata": {},
   "outputs": [],
   "source": [
    "1+0"
   ]
  },
  {
   "cell_type": "code",
   "execution_count": null,
   "metadata": {},
   "outputs": [],
   "source": [
    "2-1"
   ]
  },
  {
   "cell_type": "code",
   "execution_count": null,
   "metadata": {},
   "outputs": [],
   "source": [
    "1*1"
   ]
  },
  {
   "cell_type": "markdown",
   "metadata": {},
   "source": [
    "Una __división__ devuelve siempre un número de __coma flotante__"
   ]
  },
  {
   "cell_type": "code",
   "execution_count": null,
   "metadata": {},
   "outputs": [],
   "source": [
    "2/2"
   ]
  },
  {
   "cell_type": "markdown",
   "metadata": {},
   "source": [
    "Operaciones entre números de coma flotante y enteros, devuelve siempre otro número de coma flotante."
   ]
  },
  {
   "cell_type": "code",
   "execution_count": null,
   "metadata": {},
   "outputs": [],
   "source": [
    "1 + 0.0"
   ]
  },
  {
   "cell_type": "markdown",
   "metadata": {},
   "source": [
    "Puede conocerse el tipo de una variable con la función __type()__"
   ]
  },
  {
   "cell_type": "code",
   "execution_count": null,
   "metadata": {},
   "outputs": [],
   "source": [
    "resultado_suma = 1+1\n",
    "resultado_resta = 2-1\n",
    "resultado_multiplicacion = 1.0 * 1\n",
    "resultado_division = 2/2 "
   ]
  },
  {
   "cell_type": "code",
   "execution_count": null,
   "metadata": {},
   "outputs": [],
   "source": [
    "type(resultado_suma)"
   ]
  },
  {
   "cell_type": "code",
   "execution_count": null,
   "metadata": {},
   "outputs": [],
   "source": [
    "type(resultado_resta)"
   ]
  },
  {
   "cell_type": "code",
   "execution_count": null,
   "metadata": {},
   "outputs": [],
   "source": [
    "type(resultado_multiplicacion)"
   ]
  },
  {
   "cell_type": "code",
   "execution_count": null,
   "metadata": {},
   "outputs": [],
   "source": [
    "type(resultado_division)"
   ]
  },
  {
   "cell_type": "markdown",
   "metadata": {},
   "source": [
    "### Otras operaciones"
   ]
  },
  {
   "cell_type": "code",
   "execution_count": null,
   "metadata": {},
   "outputs": [],
   "source": [
    "# División entera\n",
    "5 // 2"
   ]
  },
  {
   "cell_type": "code",
   "execution_count": null,
   "metadata": {},
   "outputs": [],
   "source": [
    "# Resto de la división entera\n",
    "5 % 2"
   ]
  },
  {
   "cell_type": "code",
   "execution_count": null,
   "metadata": {},
   "outputs": [],
   "source": [
    "# Potencia\n",
    "2**3"
   ]
  },
  {
   "cell_type": "markdown",
   "metadata": {},
   "source": [
    "### Uso de la __biblioteca__ [math](https://docs.python.org/3.6/library/math.html)"
   ]
  },
  {
   "cell_type": "markdown",
   "metadata": {},
   "source": [
    "Con el uso de bibliotecas, un colección de subprogramas, puede ampliarse las capacidades del lenguaje. Una de ellas, llamada __math__ amplía la capacidad de Python de realizar operaciones numéricas"
   ]
  },
  {
   "cell_type": "markdown",
   "metadata": {},
   "source": [
    "Antes de poder usarla es necesario importarla. Puede realizarse con la palabra revervada __import__ importando toda la biblioteca:\n",
    "\n",
    "```python\n",
    "import math```\n",
    "\n",
    "o importando sólo algunas de sus funcionalidades\n",
    "\n",
    "```python\n",
    "from math import sqrt```\n"
   ]
  },
  {
   "cell_type": "markdown",
   "metadata": {},
   "source": [
    "#### Algunas funciones de __math__"
   ]
  },
  {
   "cell_type": "code",
   "execution_count": null,
   "metadata": {},
   "outputs": [],
   "source": [
    "import math\n",
    "\n",
    "# Raiz Cuadrada\n",
    "math.sqrt(16)"
   ]
  },
  {
   "cell_type": "code",
   "execution_count": null,
   "metadata": {},
   "outputs": [],
   "source": [
    "# Pi\n",
    "from math import pi\n",
    "pi"
   ]
  },
  {
   "cell_type": "code",
   "execution_count": null,
   "metadata": {},
   "outputs": [],
   "source": [
    "# Operaciones trigonometricas \n",
    "math.cos(pi / 4)"
   ]
  },
  {
   "cell_type": "code",
   "execution_count": null,
   "metadata": {},
   "outputs": [],
   "source": [
    "# Redondeo y truncado\n",
    "math.ceil(5.5)\n"
   ]
  },
  {
   "cell_type": "code",
   "execution_count": null,
   "metadata": {},
   "outputs": [],
   "source": [
    "math.floor(5.5)"
   ]
  },
  {
   "cell_type": "code",
   "execution_count": null,
   "metadata": {},
   "outputs": [],
   "source": [
    "math.trunc(7.99)"
   ]
  },
  {
   "cell_type": "markdown",
   "metadata": {},
   "source": [
    "### Interpretación de errores"
   ]
  },
  {
   "cell_type": "markdown",
   "metadata": {},
   "source": [
    "Python advierte cuando hay errores en el código, y brinda información muy valiosa sobre la naturaleza de ese error. Algunos ejemplos:"
   ]
  },
  {
   "cell_type": "code",
   "execution_count": null,
   "metadata": {},
   "outputs": [],
   "source": [
    "math.sqrt(-1)"
   ]
  },
  {
   "cell_type": "code",
   "execution_count": null,
   "metadata": {},
   "outputs": [],
   "source": [
    "2***3"
   ]
  },
  {
   "cell_type": "code",
   "execution_count": null,
   "metadata": {},
   "outputs": [],
   "source": [
    "sqrt(5)"
   ]
  },
  {
   "cell_type": "markdown",
   "metadata": {},
   "source": [
    "### Comparación de variables"
   ]
  },
  {
   "cell_type": "markdown",
   "metadata": {},
   "source": [
    "Es de extrema utilidad comparar variables, a fin de determinar si ellas son iguales, distintas, mayores o menores. Esto se logra con los operadores `==` , `!=` , `>` , `<`, `>=`, `<=` "
   ]
  },
  {
   "cell_type": "code",
   "execution_count": null,
   "metadata": {},
   "outputs": [],
   "source": [
    "primer_numero = 5\n",
    "segundo_numero = 70000\n",
    "tercer_numero = 5"
   ]
  },
  {
   "cell_type": "code",
   "execution_count": null,
   "metadata": {},
   "outputs": [],
   "source": [
    "primer_numero == segundo_numero"
   ]
  },
  {
   "cell_type": "code",
   "execution_count": null,
   "metadata": {},
   "outputs": [],
   "source": [
    "primer_numero != segundo_numero"
   ]
  },
  {
   "cell_type": "code",
   "execution_count": null,
   "metadata": {},
   "outputs": [],
   "source": [
    "primer_numero == tercer_numero"
   ]
  },
  {
   "cell_type": "code",
   "execution_count": null,
   "metadata": {},
   "outputs": [],
   "source": [
    "primer_numero > segundo_numero"
   ]
  },
  {
   "cell_type": "code",
   "execution_count": null,
   "metadata": {},
   "outputs": [],
   "source": [
    "primer_numero < tercer_numero"
   ]
  },
  {
   "cell_type": "code",
   "execution_count": null,
   "metadata": {},
   "outputs": [],
   "source": [
    "primer_numero <= segundo_numero"
   ]
  },
  {
   "cell_type": "code",
   "execution_count": null,
   "metadata": {},
   "outputs": [],
   "source": [
    "primer_numero >=tercer_numero"
   ]
  },
  {
   "cell_type": "markdown",
   "metadata": {},
   "source": [
    "Los resultados de las operaciones anteriores se devuelven en un tipo de datos denominado __booleanos__."
   ]
  },
  {
   "cell_type": "markdown",
   "metadata": {},
   "source": [
    "### Uso de la función __input__"
   ]
  },
  {
   "cell_type": "markdown",
   "metadata": {},
   "source": [
    "Es posible lograr que un usuario final determine el valor de una variable mediante el uso de la función __input__:"
   ]
  },
  {
   "cell_type": "code",
   "execution_count": null,
   "metadata": {},
   "outputs": [],
   "source": [
    "variable_ingresada_por_imput = input('Ingrese por favor un número menor a 100:   ')"
   ]
  },
  {
   "cell_type": "code",
   "execution_count": null,
   "metadata": {},
   "outputs": [],
   "source": [
    "variable_ingresada_por_imput"
   ]
  },
  {
   "cell_type": "markdown",
   "metadata": {},
   "source": [
    "### Output, Print"
   ]
  },
  {
   "cell_type": "markdown",
   "metadata": {},
   "source": [
    "__Output__ es la salida por defecto de una operación no asignada a una variable, el valor de la misma queda guardado por defecto en  __\"_\"__"
   ]
  },
  {
   "cell_type": "code",
   "execution_count": null,
   "metadata": {},
   "outputs": [],
   "source": [
    "80 + 81"
   ]
  },
  {
   "cell_type": "markdown",
   "metadata": {},
   "source": [
    "__Print__ es una función que simplemente imprime en la pantalla una variable o resultado de una operación. No es posible manipular dicho resultado posteriormente."
   ]
  },
  {
   "cell_type": "code",
   "execution_count": null,
   "metadata": {},
   "outputs": [],
   "source": [
    "suma = 2 + 2000\n",
    "print(suma)"
   ]
  },
  {
   "cell_type": "code",
   "execution_count": null,
   "metadata": {},
   "outputs": [],
   "source": [
    "print('Este mensaje no queda registrado en una variable')"
   ]
  },
  {
   "cell_type": "code",
   "execution_count": null,
   "metadata": {},
   "outputs": [],
   "source": [
    "_"
   ]
  }
 ],
 "metadata": {
  "kernelspec": {
   "display_name": "Python 3",
   "language": "python",
   "name": "python3"
  },
  "language_info": {
   "codemirror_mode": {
    "name": "ipython",
    "version": 3
   },
   "file_extension": ".py",
   "mimetype": "text/x-python",
   "name": "python",
   "nbconvert_exporter": "python",
   "pygments_lexer": "ipython3",
   "version": "3.7.3"
  }
 },
 "nbformat": 4,
 "nbformat_minor": 2
}
